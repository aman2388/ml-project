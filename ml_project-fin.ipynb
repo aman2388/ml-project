{
 "cells": [
  {
   "cell_type": "code",
   "execution_count": 1,
   "id": "3d218d70",
   "metadata": {},
   "outputs": [],
   "source": [
    "import numpy as np\n",
    "import pandas as pd\n",
    "\n",
    "from sklearn.pipeline import Pipeline\n",
    "from sklearn.preprocessing import OneHotEncoder, OrdinalEncoder, StandardScaler, FunctionTransformer\n",
    "from sklearn.model_selection import train_test_split, GridSearchCV, RandomizedSearchCV\n",
    "from sklearn.linear_model import LogisticRegression\n",
    "from sklearn.tree import DecisionTreeClassifier\n",
    "from sklearn.ensemble import RandomForestClassifier, BaggingClassifier\n",
    "from sklearn.neighbors import KNeighborsClassifier\n",
    "from sklearn.svm import SVC\n",
    "from sklearn.metrics import confusion_matrix, roc_curve, roc_auc_score, auc, f1_score, pairwise_distances\n",
    "from sklearn.decomposition import PCA\n",
    "from sklearn.cluster import KMeans, AgglomerativeClustering\n",
    "\n",
    "\n",
    "import matplotlib.pyplot as plt\n",
    "import seaborn as sns\n",
    "\n",
    "from scipy.stats import skew\n",
    "import scipy.stats as stats\n",
    "from scipy.cluster.hierarchy import linkage, fcluster, dendrogram\n",
    "\n",
    "\n",
    "\n",
    "import pickle\n",
    "import os"
   ]
  },
  {
   "cell_type": "code",
   "execution_count": 2,
   "id": "f6cfa666",
   "metadata": {},
   "outputs": [
    {
     "data": {
      "text/html": [
       "<div>\n",
       "<style scoped>\n",
       "    .dataframe tbody tr th:only-of-type {\n",
       "        vertical-align: middle;\n",
       "    }\n",
       "\n",
       "    .dataframe tbody tr th {\n",
       "        vertical-align: top;\n",
       "    }\n",
       "\n",
       "    .dataframe thead th {\n",
       "        text-align: right;\n",
       "    }\n",
       "</style>\n",
       "<table border=\"1\" class=\"dataframe\">\n",
       "  <thead>\n",
       "    <tr style=\"text-align: right;\">\n",
       "      <th></th>\n",
       "      <th>age</th>\n",
       "      <th>job</th>\n",
       "      <th>marital</th>\n",
       "      <th>education</th>\n",
       "      <th>default</th>\n",
       "      <th>housing</th>\n",
       "      <th>loan</th>\n",
       "      <th>contact</th>\n",
       "      <th>month</th>\n",
       "      <th>day_of_week</th>\n",
       "      <th>...</th>\n",
       "      <th>pdays</th>\n",
       "      <th>previous</th>\n",
       "      <th>poutcome</th>\n",
       "      <th>emp.var.rate</th>\n",
       "      <th>cons.price.idx</th>\n",
       "      <th>cons.conf.idx</th>\n",
       "      <th>euribor3m</th>\n",
       "      <th>nr.employed</th>\n",
       "      <th>term_deposit</th>\n",
       "      <th>Ethnicity_African</th>\n",
       "    </tr>\n",
       "  </thead>\n",
       "  <tbody>\n",
       "    <tr>\n",
       "      <th>0</th>\n",
       "      <td>56</td>\n",
       "      <td>housemaid</td>\n",
       "      <td>married</td>\n",
       "      <td>basic.4y</td>\n",
       "      <td>no</td>\n",
       "      <td>no</td>\n",
       "      <td>no</td>\n",
       "      <td>telephone</td>\n",
       "      <td>may</td>\n",
       "      <td>mon</td>\n",
       "      <td>...</td>\n",
       "      <td>999</td>\n",
       "      <td>0</td>\n",
       "      <td>nonexistent</td>\n",
       "      <td>1.1</td>\n",
       "      <td>93.994</td>\n",
       "      <td>-36.4</td>\n",
       "      <td>4.857</td>\n",
       "      <td>5191.0</td>\n",
       "      <td>0</td>\n",
       "      <td>0</td>\n",
       "    </tr>\n",
       "    <tr>\n",
       "      <th>1</th>\n",
       "      <td>57</td>\n",
       "      <td>services</td>\n",
       "      <td>married</td>\n",
       "      <td>high.school</td>\n",
       "      <td>unknown</td>\n",
       "      <td>no</td>\n",
       "      <td>no</td>\n",
       "      <td>telephone</td>\n",
       "      <td>may</td>\n",
       "      <td>mon</td>\n",
       "      <td>...</td>\n",
       "      <td>999</td>\n",
       "      <td>0</td>\n",
       "      <td>nonexistent</td>\n",
       "      <td>1.1</td>\n",
       "      <td>93.994</td>\n",
       "      <td>-36.4</td>\n",
       "      <td>4.857</td>\n",
       "      <td>5191.0</td>\n",
       "      <td>0</td>\n",
       "      <td>0</td>\n",
       "    </tr>\n",
       "    <tr>\n",
       "      <th>2</th>\n",
       "      <td>37</td>\n",
       "      <td>services</td>\n",
       "      <td>married</td>\n",
       "      <td>high.school</td>\n",
       "      <td>no</td>\n",
       "      <td>yes</td>\n",
       "      <td>no</td>\n",
       "      <td>telephone</td>\n",
       "      <td>may</td>\n",
       "      <td>mon</td>\n",
       "      <td>...</td>\n",
       "      <td>999</td>\n",
       "      <td>0</td>\n",
       "      <td>nonexistent</td>\n",
       "      <td>1.1</td>\n",
       "      <td>93.994</td>\n",
       "      <td>-36.4</td>\n",
       "      <td>4.857</td>\n",
       "      <td>5191.0</td>\n",
       "      <td>0</td>\n",
       "      <td>0</td>\n",
       "    </tr>\n",
       "    <tr>\n",
       "      <th>3</th>\n",
       "      <td>40</td>\n",
       "      <td>admin.</td>\n",
       "      <td>married</td>\n",
       "      <td>basic.6y</td>\n",
       "      <td>no</td>\n",
       "      <td>no</td>\n",
       "      <td>no</td>\n",
       "      <td>telephone</td>\n",
       "      <td>may</td>\n",
       "      <td>mon</td>\n",
       "      <td>...</td>\n",
       "      <td>999</td>\n",
       "      <td>0</td>\n",
       "      <td>nonexistent</td>\n",
       "      <td>1.1</td>\n",
       "      <td>93.994</td>\n",
       "      <td>-36.4</td>\n",
       "      <td>4.857</td>\n",
       "      <td>5191.0</td>\n",
       "      <td>0</td>\n",
       "      <td>0</td>\n",
       "    </tr>\n",
       "    <tr>\n",
       "      <th>4</th>\n",
       "      <td>56</td>\n",
       "      <td>services</td>\n",
       "      <td>married</td>\n",
       "      <td>high.school</td>\n",
       "      <td>no</td>\n",
       "      <td>no</td>\n",
       "      <td>yes</td>\n",
       "      <td>telephone</td>\n",
       "      <td>may</td>\n",
       "      <td>mon</td>\n",
       "      <td>...</td>\n",
       "      <td>999</td>\n",
       "      <td>0</td>\n",
       "      <td>nonexistent</td>\n",
       "      <td>1.1</td>\n",
       "      <td>93.994</td>\n",
       "      <td>-36.4</td>\n",
       "      <td>4.857</td>\n",
       "      <td>5191.0</td>\n",
       "      <td>0</td>\n",
       "      <td>0</td>\n",
       "    </tr>\n",
       "  </tbody>\n",
       "</table>\n",
       "<p>5 rows × 22 columns</p>\n",
       "</div>"
      ],
      "text/plain": [
       "   age        job  marital    education  default housing loan    contact  \\\n",
       "0   56  housemaid  married     basic.4y       no      no   no  telephone   \n",
       "1   57   services  married  high.school  unknown      no   no  telephone   \n",
       "2   37   services  married  high.school       no     yes   no  telephone   \n",
       "3   40     admin.  married     basic.6y       no      no   no  telephone   \n",
       "4   56   services  married  high.school       no      no  yes  telephone   \n",
       "\n",
       "  month day_of_week  ...  pdays  previous     poutcome  emp.var.rate  \\\n",
       "0   may         mon  ...    999         0  nonexistent           1.1   \n",
       "1   may         mon  ...    999         0  nonexistent           1.1   \n",
       "2   may         mon  ...    999         0  nonexistent           1.1   \n",
       "3   may         mon  ...    999         0  nonexistent           1.1   \n",
       "4   may         mon  ...    999         0  nonexistent           1.1   \n",
       "\n",
       "  cons.price.idx  cons.conf.idx  euribor3m  nr.employed  term_deposit  \\\n",
       "0         93.994          -36.4      4.857       5191.0             0   \n",
       "1         93.994          -36.4      4.857       5191.0             0   \n",
       "2         93.994          -36.4      4.857       5191.0             0   \n",
       "3         93.994          -36.4      4.857       5191.0             0   \n",
       "4         93.994          -36.4      4.857       5191.0             0   \n",
       "\n",
       "   Ethnicity_African  \n",
       "0                  0  \n",
       "1                  0  \n",
       "2                  0  \n",
       "3                  0  \n",
       "4                  0  \n",
       "\n",
       "[5 rows x 22 columns]"
      ]
     },
     "execution_count": 2,
     "metadata": {},
     "output_type": "execute_result"
    }
   ],
   "source": [
    "df = pd.read_csv(\"European_bank_marketing.csv\")\n",
    "df.head()"
   ]
  },
  {
   "cell_type": "code",
   "execution_count": 3,
   "id": "7b6933e8",
   "metadata": {},
   "outputs": [
    {
     "data": {
      "text/plain": [
       "(41188, 22)"
      ]
     },
     "execution_count": 3,
     "metadata": {},
     "output_type": "execute_result"
    }
   ],
   "source": [
    "df.shape"
   ]
  },
  {
   "cell_type": "markdown",
   "id": "fbca08c1",
   "metadata": {},
   "source": [
    "---\n",
    "This dataset is highly imbalanced. Roughly 10% of the clients have a subscription to the term deposit. The number of non-subscribed clients is significantly higher than in the other. This can make it difficult for a model to predict the minority class accurately. We can adjust the trade-off between the tpr and fpr in the model's predictions by setting a probability threshold. We will set the thresholds and analyse the results further down the notebook.\n",
    "\n",
    "---"
   ]
  },
  {
   "cell_type": "code",
   "execution_count": 4,
   "id": "8d9d3ed6",
   "metadata": {},
   "outputs": [
    {
     "name": "stdout",
     "output_type": "stream",
     "text": [
      "No Subscription: 88.73 % of the dataset\n",
      "Subscription: 11.27 % of the dataset\n"
     ]
    },
    {
     "data": {
      "text/plain": [
       "<AxesSubplot:>"
      ]
     },
     "execution_count": 4,
     "metadata": {},
     "output_type": "execute_result"
    },
    {
     "data": {
      "image/png": "[encoded data removed]",
      "text/plain": [
       "<Figure size 432x288 with 1 Axes>"
      ]
     },
     "metadata": {
      "needs_background": "light"
     },
     "output_type": "display_data"
    }
   ],
   "source": [
    "# The classes are heavily skewed. The probability threshold will solve the problem\n",
    "print(f\"No Subscription: {round(df['term_deposit'].value_counts()[0]/len(df) * 100,2)} % of the dataset\")\n",
    "print(f\"Subscription: {round(df['term_deposit'].value_counts()[1]/len(df) * 100,2)} % of the dataset\")\n",
    "df['term_deposit'].hist()"
   ]
  },
  {
   "cell_type": "code",
   "execution_count": 5,
   "id": "6c812f3b",
   "metadata": {},
   "outputs": [
    {
     "data": {
      "text/plain": [
       "False"
      ]
     },
     "execution_count": 5,
     "metadata": {},
     "output_type": "execute_result"
    }
   ],
   "source": [
    "##check for missing values\n",
    "df.isnull().any().any()"
   ]
  },
  {
   "cell_type": "code",
   "execution_count": 6,
   "id": "4391c480",
   "metadata": {},
   "outputs": [
    {
     "name": "stdout",
     "output_type": "stream",
     "text": [
      "We selected 21 variables for the pipeline\n",
      "We selected 1 target variables for the pipeline\n",
      "(41188, 22)\n"
     ]
    }
   ],
   "source": [
    "target = ['term_deposit']\n",
    "month = ['month']\n",
    "\n",
    "vars_selected = [var for var in df.columns]\n",
    "\n",
    "data_select = df[vars_selected]\n",
    "\n",
    "print(f'We selected {len(vars_selected) - len(target)} variables for the pipeline')\n",
    "print(f'We selected {len([var for var in vars_selected if var in target])} target variables for the pipeline')\n",
    "print(data_select.shape)"
   ]
  },
  {
   "cell_type": "code",
   "execution_count": 7,
   "id": "d3d85000",
   "metadata": {},
   "outputs": [
    {
     "name": "stdout",
     "output_type": "stream",
     "text": [
      "There are 3 discrete variables\n",
      "There are 7 continuous variables\n",
      "There are 1 high cardinality variables\n",
      "There are 0 few miss \n",
      "There are 0 big miss\n",
      "There are 8 categorical variables\n"
     ]
    }
   ],
   "source": [
    "# make list of variables types\n",
    "dates = ['month']\n",
    "info = ['campaign']\n",
    "# numerical: discrete and continuous\n",
    "discrete = [var for var in data_select.columns if data_select[var].dtype != 'O' and var not in info and data_select[var].nunique() <= 10 and var not in dates and var not in target]\n",
    "\n",
    "continuous = [var for var in data_select.columns if data_select[var].dtype != 'O' and var not in info and var not in discrete and var not in dates and var not in target]\n",
    "\n",
    "# High cardinality\n",
    "high = [var for var in data_select.columns if data_select[var].dtype=='O' and var not in info and data_select[var].nunique()>10 and var not in dates and var not in target]\n",
    "\n",
    "#Few missing values \n",
    "few_miss = [ var for var in data_select.columns if data_select[var].isnull().sum() < 0.005 * data_select.shape[0] and data_select[var].isnull().sum() != 0 and var in continuous]\n",
    "\n",
    "#Big missing values \n",
    "big_miss = [ var for var in data_select.columns if data_select[var].isnull().sum() >= 0.005 * data_select.shape[0] and data_select[var].isnull().sum() != 0 and var in continuous]\n",
    "\n",
    "# categorical\n",
    "categorical = [var for var in data_select.columns if data_select[var].dtype == 'O' and var not in info and var not in dates and var not in high ]\n",
    "print(f'There are {len(discrete)} discrete variables')\n",
    "print(f'There are {len(continuous)} continuous variables')\n",
    "print(f'There are {len(high)} high cardinality variables')\n",
    "print(f'There are {len(few_miss)} few miss ')\n",
    "print(f'There are {len(big_miss)} big miss')\n",
    "print(f'There are {len(categorical)} categorical variables')"
   ]
  },
  {
   "cell_type": "code",
   "execution_count": 8,
   "id": "4c8681a0",
   "metadata": {},
   "outputs": [
    {
     "name": "stdout",
     "output_type": "stream",
     "text": [
      "High = ['job']\n",
      "Discrete = ['previous', 'emp.var.rate', 'Ethnicity_African']\n",
      "Continuous = ['age', 'duration', 'pdays', 'cons.price.idx', 'cons.conf.idx', 'euribor3m', 'nr.employed']\n",
      "Categorical = ['marital', 'education', 'default', 'housing', 'loan', 'contact', 'day_of_week', 'poutcome']\n"
     ]
    }
   ],
   "source": [
    "print(f'High = {high}\\nDiscrete = {discrete}\\nContinuous = {continuous}\\nCategorical = {categorical}')"
   ]
  },
  {
   "cell_type": "code",
   "execution_count": 9,
   "id": "7a4dd3e5",
   "metadata": {},
   "outputs": [
    {
     "data": {
      "text/plain": [
       "array(['housemaid', 'services', 'admin.', 'blue-collar', 'technician',\n",
       "       'retired', 'management', 'unemployed', 'self-employed', 'unknown',\n",
       "       'entrepreneur', 'student'], dtype=object)"
      ]
     },
     "execution_count": 9,
     "metadata": {},
     "output_type": "execute_result"
    }
   ],
   "source": [
    "df['job'].unique()"
   ]
  },
  {
   "cell_type": "code",
   "execution_count": 10,
   "id": "58beb8c2",
   "metadata": {},
   "outputs": [
    {
     "data": {
      "text/html": [
       "<div>\n",
       "<style scoped>\n",
       "    .dataframe tbody tr th:only-of-type {\n",
       "        vertical-align: middle;\n",
       "    }\n",
       "\n",
       "    .dataframe tbody tr th {\n",
       "        vertical-align: top;\n",
       "    }\n",
       "\n",
       "    .dataframe thead th {\n",
       "        text-align: right;\n",
       "    }\n",
       "</style>\n",
       "<table border=\"1\" class=\"dataframe\">\n",
       "  <thead>\n",
       "    <tr style=\"text-align: right;\">\n",
       "      <th></th>\n",
       "      <th>marital</th>\n",
       "      <th>education</th>\n",
       "      <th>default</th>\n",
       "      <th>housing</th>\n",
       "      <th>loan</th>\n",
       "      <th>contact</th>\n",
       "      <th>day_of_week</th>\n",
       "      <th>poutcome</th>\n",
       "    </tr>\n",
       "  </thead>\n",
       "  <tbody>\n",
       "    <tr>\n",
       "      <th>0</th>\n",
       "      <td>married</td>\n",
       "      <td>basic.4y</td>\n",
       "      <td>no</td>\n",
       "      <td>no</td>\n",
       "      <td>no</td>\n",
       "      <td>telephone</td>\n",
       "      <td>mon</td>\n",
       "      <td>nonexistent</td>\n",
       "    </tr>\n",
       "    <tr>\n",
       "      <th>1</th>\n",
       "      <td>married</td>\n",
       "      <td>high.school</td>\n",
       "      <td>unknown</td>\n",
       "      <td>no</td>\n",
       "      <td>no</td>\n",
       "      <td>telephone</td>\n",
       "      <td>mon</td>\n",
       "      <td>nonexistent</td>\n",
       "    </tr>\n",
       "    <tr>\n",
       "      <th>2</th>\n",
       "      <td>married</td>\n",
       "      <td>high.school</td>\n",
       "      <td>no</td>\n",
       "      <td>yes</td>\n",
       "      <td>no</td>\n",
       "      <td>telephone</td>\n",
       "      <td>mon</td>\n",
       "      <td>nonexistent</td>\n",
       "    </tr>\n",
       "    <tr>\n",
       "      <th>3</th>\n",
       "      <td>married</td>\n",
       "      <td>basic.6y</td>\n",
       "      <td>no</td>\n",
       "      <td>no</td>\n",
       "      <td>no</td>\n",
       "      <td>telephone</td>\n",
       "      <td>mon</td>\n",
       "      <td>nonexistent</td>\n",
       "    </tr>\n",
       "    <tr>\n",
       "      <th>4</th>\n",
       "      <td>married</td>\n",
       "      <td>high.school</td>\n",
       "      <td>no</td>\n",
       "      <td>no</td>\n",
       "      <td>yes</td>\n",
       "      <td>telephone</td>\n",
       "      <td>mon</td>\n",
       "      <td>nonexistent</td>\n",
       "    </tr>\n",
       "    <tr>\n",
       "      <th>...</th>\n",
       "      <td>...</td>\n",
       "      <td>...</td>\n",
       "      <td>...</td>\n",
       "      <td>...</td>\n",
       "      <td>...</td>\n",
       "      <td>...</td>\n",
       "      <td>...</td>\n",
       "      <td>...</td>\n",
       "    </tr>\n",
       "    <tr>\n",
       "      <th>41183</th>\n",
       "      <td>married</td>\n",
       "      <td>professional.course</td>\n",
       "      <td>no</td>\n",
       "      <td>yes</td>\n",
       "      <td>no</td>\n",
       "      <td>cellular</td>\n",
       "      <td>fri</td>\n",
       "      <td>nonexistent</td>\n",
       "    </tr>\n",
       "    <tr>\n",
       "      <th>41184</th>\n",
       "      <td>married</td>\n",
       "      <td>professional.course</td>\n",
       "      <td>no</td>\n",
       "      <td>no</td>\n",
       "      <td>no</td>\n",
       "      <td>cellular</td>\n",
       "      <td>fri</td>\n",
       "      <td>nonexistent</td>\n",
       "    </tr>\n",
       "    <tr>\n",
       "      <th>41185</th>\n",
       "      <td>married</td>\n",
       "      <td>university.degree</td>\n",
       "      <td>no</td>\n",
       "      <td>yes</td>\n",
       "      <td>no</td>\n",
       "      <td>cellular</td>\n",
       "      <td>fri</td>\n",
       "      <td>nonexistent</td>\n",
       "    </tr>\n",
       "    <tr>\n",
       "      <th>41186</th>\n",
       "      <td>married</td>\n",
       "      <td>professional.course</td>\n",
       "      <td>no</td>\n",
       "      <td>no</td>\n",
       "      <td>no</td>\n",
       "      <td>cellular</td>\n",
       "      <td>fri</td>\n",
       "      <td>nonexistent</td>\n",
       "    </tr>\n",
       "    <tr>\n",
       "      <th>41187</th>\n",
       "      <td>married</td>\n",
       "      <td>professional.course</td>\n",
       "      <td>no</td>\n",
       "      <td>yes</td>\n",
       "      <td>no</td>\n",
       "      <td>cellular</td>\n",
       "      <td>fri</td>\n",
       "      <td>failure</td>\n",
       "    </tr>\n",
       "  </tbody>\n",
       "</table>\n",
       "<p>41188 rows × 8 columns</p>\n",
       "</div>"
      ],
      "text/plain": [
       "       marital            education  default housing loan    contact  \\\n",
       "0      married             basic.4y       no      no   no  telephone   \n",
       "1      married          high.school  unknown      no   no  telephone   \n",
       "2      married          high.school       no     yes   no  telephone   \n",
       "3      married             basic.6y       no      no   no  telephone   \n",
       "4      married          high.school       no      no  yes  telephone   \n",
       "...        ...                  ...      ...     ...  ...        ...   \n",
       "41183  married  professional.course       no     yes   no   cellular   \n",
       "41184  married  professional.course       no      no   no   cellular   \n",
       "41185  married    university.degree       no     yes   no   cellular   \n",
       "41186  married  professional.course       no      no   no   cellular   \n",
       "41187  married  professional.course       no     yes   no   cellular   \n",
       "\n",
       "      day_of_week     poutcome  \n",
       "0             mon  nonexistent  \n",
       "1             mon  nonexistent  \n",
       "2             mon  nonexistent  \n",
       "3             mon  nonexistent  \n",
       "4             mon  nonexistent  \n",
       "...           ...          ...  \n",
       "41183         fri  nonexistent  \n",
       "41184         fri  nonexistent  \n",
       "41185         fri  nonexistent  \n",
       "41186         fri  nonexistent  \n",
       "41187         fri      failure  \n",
       "\n",
       "[41188 rows x 8 columns]"
      ]
     },
     "execution_count": 10,
     "metadata": {},
     "output_type": "execute_result"
    }
   ],
   "source": [
    "df[categorical]"
   ]
  },
  {
   "cell_type": "markdown",
   "id": "8d791d82",
   "metadata": {},
   "source": [
    "## Feature Engineering"
   ]
  },
  {
   "cell_type": "markdown",
   "id": "a9024f96",
   "metadata": {},
   "source": [
    "---\n",
    "**Note**\n",
    "\n",
    "The 'duration' feature represents the duration of the term deposit outcome call in seconds. The project specification highlights that this attribute has a strong impact on the target variable (Term Deposit) because if the duration is 0 seconds, it means the customer did not subscribe to the term deposit.\n",
    "\n",
    "Including this feature in our model could lead to an overly optimistic model that relies heavily on the 'duration' feature to predict the outcome. However, in a real-world scenario, marketers won't know the duration of the call before it happens. Therefore, using the 'duration' feature to make predictions may not be practical or meaningful. **We may drop this feature.**\n",
    "\n",
    "`Alternatively, we can create a categorical feature from it, representing different bins or ranges of call durations. This will help in capturing the underlying pattern without relying on the actual duration values. We propose a quantile-based binning.`\n",
    "\n",
    "---"
   ]
  },
  {
   "cell_type": "code",
   "execution_count": 11,
   "id": "03ea867d",
   "metadata": {},
   "outputs": [
    {
     "data": {
      "text/plain": [
       "(41188, 22)"
      ]
     },
     "execution_count": 11,
     "metadata": {},
     "output_type": "execute_result"
    }
   ],
   "source": [
    "df.shape"
   ]
  },
  {
   "cell_type": "code",
   "execution_count": 12,
   "id": "1b66d4a4",
   "metadata": {},
   "outputs": [
    {
     "data": {
      "text/plain": [
       "0     Long\n",
       "1    Short\n",
       "2     Long\n",
       "3    Short\n",
       "4     Long\n",
       "Name: duration_category, dtype: object"
      ]
     },
     "execution_count": 12,
     "metadata": {},
     "output_type": "execute_result"
    }
   ],
   "source": [
    "# Create a new categorical feature \n",
    "# Four categories representing the quartiles of the 'duration' feature.\n",
    "duration_labels = ['Very Short', 'Short', 'Long', 'Very Long']\n",
    "df['duration_category'] = pd.qcut(df['duration'], q=4, labels=duration_labels)\n",
    "# Convert 'duration_category' to an object data type\n",
    "df['duration_category'] = df['duration_category'].astype('object')\n",
    "df['duration_category'].head()"
   ]
  },
  {
   "cell_type": "markdown",
   "id": "d300c3dc",
   "metadata": {},
   "source": [
    "---\n",
    "\n",
    "Given that `nr.employed` is given in a quarterly indicator, we will categorise them that represents different levels of the number of employees.\n",
    "\n",
    "---"
   ]
  },
  {
   "cell_type": "code",
   "execution_count": 13,
   "id": "9ec66451",
   "metadata": {},
   "outputs": [
    {
     "data": {
      "text/plain": [
       "0    numEmp_Q8\n",
       "1    numEmp_Q8\n",
       "2    numEmp_Q8\n",
       "3    numEmp_Q8\n",
       "4    numEmp_Q8\n",
       "Name: nr_employed_category, dtype: category\n",
       "Categories (10, object): ['numEmp_Q1' < 'numEmp_Q2' < 'numEmp_Q3' < 'numEmp_Q4' ... 'numEmp_Q7' < 'numEmp_Q8' < 'numEmp_Q9' < 'numEmp_Q10']"
      ]
     },
     "execution_count": 13,
     "metadata": {},
     "output_type": "execute_result"
    }
   ],
   "source": [
    "# Create a new categorical feature based on the unique values of 'nr.employed'\n",
    "bins = sorted(df['nr.employed'].unique())\n",
    "labels = [f'numEmp_Q{i+1}' for i in range(len(bins) - 1)]\n",
    "df['nr_employed_category'] = pd.cut(df['nr.employed'], bins=bins, labels=labels, include_lowest=True, right=True)\n",
    "df['nr_employed_category'].head()"
   ]
  },
  {
   "cell_type": "markdown",
   "id": "d3b931c8",
   "metadata": {},
   "source": [
    "---\n",
    "\n",
    "Transform `pdays` variable to a binary feature, with a value of '1' if the customer was contacted in the previous campaign \n",
    "(i.e., 'pdays' is not 999) and '0' otherwise.\n",
    "\n",
    "---"
   ]
  },
  {
   "cell_type": "code",
   "execution_count": 14,
   "id": "2374c929",
   "metadata": {},
   "outputs": [
    {
     "data": {
      "text/plain": [
       "<AxesSubplot:>"
      ]
     },
     "execution_count": 14,
     "metadata": {},
     "output_type": "execute_result"
    },
    {
     "data": {
      "image/png": "[encoded data removed]",
      "text/plain": [
       "<Figure size 432x288 with 1 Axes>"
      ]
     },
     "metadata": {
      "needs_background": "light"
     },
     "output_type": "display_data"
    }
   ],
   "source": [
    "# Create a binary categorical feature for 'pdays'\n",
    "df['contacted_prev_campaign'] = (df['pdays'] != 999).astype(int)\n",
    "df['contacted_prev_campaign'].hist()"
   ]
  },
  {
   "cell_type": "markdown",
   "id": "269a64df",
   "metadata": {},
   "source": [
    "---\n",
    "\n",
    "Categorise the `job` feature based on collar color\n",
    "\n",
    "---"
   ]
  },
  {
   "cell_type": "code",
   "execution_count": 15,
   "id": "fd58cba0",
   "metadata": {},
   "outputs": [
    {
     "data": {
      "text/plain": [
       "array(['blue_collar', 'white_collar', 'other', 'no_occupation'],\n",
       "      dtype=object)"
      ]
     },
     "execution_count": 15,
     "metadata": {},
     "output_type": "execute_result"
    }
   ],
   "source": [
    "def categorise_occupation(occupation):\n",
    "    if occupation in ['admin.', 'management', 'entrepreneur', 'technician']:\n",
    "        return 'white_collar'\n",
    "    elif occupation in ['housemaid', 'services', 'blue-collar', 'self-employed']:\n",
    "        return 'blue_collar'\n",
    "    elif occupation in ['unknown', 'unemployed']:\n",
    "        return 'no_occupation'\n",
    "    else:\n",
    "        return 'other'\n",
    "\n",
    "# Apply the categorisation function to the occupation column\n",
    "df['occupation_group'] = df['job'].apply(categorise_occupation)\n",
    "df['occupation_group'].unique()"
   ]
  },
  {
   "cell_type": "code",
   "execution_count": 16,
   "id": "bed37bbf",
   "metadata": {},
   "outputs": [],
   "source": [
    "dropped_features = ['duration', 'pdays', 'job', 'nr.employed']\n",
    "df = df.drop(dropped_features, axis=1)"
   ]
  },
  {
   "cell_type": "code",
   "execution_count": 17,
   "id": "44c28fae",
   "metadata": {},
   "outputs": [
    {
     "data": {
      "text/plain": [
       "(41188, 22)"
      ]
     },
     "execution_count": 17,
     "metadata": {},
     "output_type": "execute_result"
    }
   ],
   "source": [
    "df.shape"
   ]
  },
  {
   "cell_type": "code",
   "execution_count": 18,
   "id": "0a76f82d",
   "metadata": {},
   "outputs": [],
   "source": [
    "new_discrete = [d for d in discrete if d not in dropped_features]\n",
    "new_continuous = [c for c in continuous if c not in dropped_features]"
   ]
  },
  {
   "cell_type": "code",
   "execution_count": 19,
   "id": "8f097365",
   "metadata": {},
   "outputs": [],
   "source": [
    "def plot_boxplot_and_hist(data, variables):\n",
    "    for variable in variables:\n",
    "        # creating a figure composed of two matplotlib.Axes \n",
    "        # objects (ax_box and ax_hist)\n",
    "\n",
    "        f, (ax_box, ax_hist) = plt.subplots(\n",
    "            2, sharex=True, gridspec_kw={\"height_ratios\": (0.50, 0.85)}\n",
    "        )\n",
    "\n",
    "        # assigning a graph to each ax\n",
    "        sns.boxplot(x=data[variable], ax=ax_box)\n",
    "        sns.histplot(data=data, x=variable, ax=ax_hist)\n",
    "\n",
    "        # Remove x axis name for the boxplot\n",
    "        ax_box.set(xlabel=\"\")\n",
    "        plt.title(variable)\n",
    "        plt.show()\n",
    "\n",
    "    \n",
    "def find_limits(df, variables, fold):\n",
    "    limits = {}\n",
    "    for variable in variables:\n",
    "        IQR = df[variable].quantile(0.75) - df[variable].quantile(0.25)\n",
    "\n",
    "        lower_limit = df[variable].quantile(0.25) - (IQR * fold)\n",
    "        upper_limit = df[variable].quantile(0.75) + (IQR * fold)\n",
    "\n",
    "        limits[variable] = (lower_limit, upper_limit)\n",
    "\n",
    "    return limits\n",
    "\n",
    "def diagnostic_plots(df, variables):\n",
    "    for variable in variables:\n",
    "\n",
    "        # function to plot a histogram and a Q-Q plot\n",
    "        # side by side, for a certain variable\n",
    "\n",
    "        plt.figure(figsize=(15, 6))\n",
    "\n",
    "        # histogram\n",
    "        plt.subplot(1, 2, 1)\n",
    "        df[variable].hist(bins=30)\n",
    "        plt.title(f\"Histogram of {variable}\")\n",
    "\n",
    "        # q-q plot\n",
    "        plt.subplot(1, 2, 2)\n",
    "        stats.probplot(df[variable], dist=\"norm\", plot=plt)\n",
    "        plt.title(f\"Q-Q plot of {variable}\")\n",
    "\n",
    "        plt.show()\n",
    "        \n",
    "def remove_outliers(df, variables, limits):\n",
    "    df_copy = df.copy()\n",
    "    for var in variables:\n",
    "        lower_limit, upper_limit = limits[var]\n",
    "        df_copy = df_copy[df_copy[var].ge(lower_limit) & df_copy[var].le(upper_limit)]\n",
    "    return df_copy\n",
    "\n",
    "def log_transform(df, variables):\n",
    "    df_copy = df.copy()\n",
    "    for col in variables:\n",
    "        df_copy[col] = np.log1p(df_copy[col])\n",
    "    return df_copy\n",
    "\n",
    "def equal_freq_binning(df, variables, q=10):\n",
    "    df_copy = df.copy()\n",
    "    for col in variables:\n",
    "        df_copy[col] = pd.qcut(df_copy[col], q=q, duplicates='drop', labels=False)\n",
    "    return df_copy\n"
   ]
  },
  {
   "cell_type": "code",
   "execution_count": 20,
   "id": "5372c9dc",
   "metadata": {
    "scrolled": true
   },
   "outputs": [
    {
     "data": {
      "image/png": "[encoded data removed]",
      "text/plain": [
       "<Figure size 432x288 with 2 Axes>"
      ]
     },
     "metadata": {
      "needs_background": "light"
     },
     "output_type": "display_data"
    },
    {
     "data": {
      "image/png": "[encoded data removed]",
      "text/plain": [
       "<Figure size 432x288 with 2 Axes>"
      ]
     },
     "metadata": {
      "needs_background": "light"
     },
     "output_type": "display_data"
    },
    {
     "data": {
      "image/png": "[encoded data removed]",
      "text/plain": [
       "<Figure size 432x288 with 2 Axes>"
      ]
     },
     "metadata": {
      "needs_background": "light"
     },
     "output_type": "display_data"
    }
   ],
   "source": [
    "plot_boxplot_and_hist(df, new_discrete)"
   ]
  },
  {
   "cell_type": "code",
   "execution_count": 21,
   "id": "8c80816b",
   "metadata": {
    "scrolled": true
   },
   "outputs": [
    {
     "data": {
      "image/png": "[encoded data removed]",
      "text/plain": [
       "<Figure size 432x288 with 2 Axes>"
      ]
     },
     "metadata": {
      "needs_background": "light"
     },
     "output_type": "display_data"
    },
    {
     "data": {
      "image/png": "[encoded data removed]",
      "text/plain": [
       "<Figure size 432x288 with 2 Axes>"
      ]
     },
     "metadata": {
      "needs_background": "light"
     },
     "output_type": "display_data"
    },
    {
     "data": {
      "image/png": "[encoded data removed]",
      "text/plain": [
       "<Figure size 432x288 with 2 Axes>"
      ]
     },
     "metadata": {
      "needs_background": "light"
     },
     "output_type": "display_data"
    },
    {
     "data": {
      "image/png": "[encoded data removed]",
      "text/plain": [
       "<Figure size 432x288 with 2 Axes>"
      ]
     },
     "metadata": {
      "needs_background": "light"
     },
     "output_type": "display_data"
    }
   ],
   "source": [
    "plot_boxplot_and_hist(df, new_continuous)"
   ]
  },
  {
   "cell_type": "code",
   "execution_count": 22,
   "id": "bc983217",
   "metadata": {
    "scrolled": true
   },
   "outputs": [
    {
     "data": {
      "image/png": "[encoded data removed]",
      "text/plain": [
       "<Figure size 1080x432 with 2 Axes>"
      ]
     },
     "metadata": {
      "needs_background": "light"
     },
     "output_type": "display_data"
    },
    {
     "data": {
      "image/png": "[encoded data removed]",
      "text/plain": [
       "<Figure size 1080x432 with 2 Axes>"
      ]
     },
     "metadata": {
      "needs_background": "light"
     },
     "output_type": "display_data"
    },
    {
     "data": {
      "image/png": "[encoded data removed]",
      "text/plain": [
       "<Figure size 1080x432 with 2 Axes>"
      ]
     },
     "metadata": {
      "needs_background": "light"
     },
     "output_type": "display_data"
    },
    {
     "data": {
      "image/png": "[encoded data removed]",
      "text/plain": [
       "<Figure size 1080x432 with 2 Axes>"
      ]
     },
     "metadata": {
      "needs_background": "light"
     },
     "output_type": "display_data"
    }
   ],
   "source": [
    "diagnostic_plots(df, new_continuous)"
   ]
  },
  {
   "cell_type": "code",
   "execution_count": 23,
   "id": "ffc77223",
   "metadata": {},
   "outputs": [],
   "source": [
    "discrete_without_previous = [var for var in new_discrete if var != 'previous' and var != 'Ethnicity_African']\n",
    "limits = find_limits(df, new_discrete, 1)\n",
    "# Define the pipeline\n",
    "pipeline = Pipeline([\n",
    "    ('remove_outliers', FunctionTransformer(remove_outliers, kw_args={'variables': discrete_without_previous, 'limits': limits})),\n",
    "    ('log_transform', FunctionTransformer(log_transform, kw_args={'variables': ['previous', 'campaign']})),\n",
    "    ('equal_freq_binning', FunctionTransformer(equal_freq_binning, kw_args={'variables': new_continuous})),\n",
    "])\n",
    "\n",
    "# Apply the pipeline to the data\n",
    "df_transformed = pipeline.fit_transform(df)"
   ]
  },
  {
   "cell_type": "code",
   "execution_count": 24,
   "id": "84febae0",
   "metadata": {},
   "outputs": [
    {
     "data": {
      "text/plain": [
       "(41188, 22)"
      ]
     },
     "execution_count": 24,
     "metadata": {},
     "output_type": "execute_result"
    }
   ],
   "source": [
    "df_transformed.shape"
   ]
  },
  {
   "cell_type": "code",
   "execution_count": 25,
   "id": "336fb623",
   "metadata": {},
   "outputs": [
    {
     "name": "stdout",
     "output_type": "stream",
     "text": [
      "High = ['job']\n",
      "Discrete = ['previous', 'emp.var.rate', 'Ethnicity_African']\n",
      "Continuous = ['age', 'duration', 'pdays', 'cons.price.idx', 'cons.conf.idx', 'euribor3m', 'nr.employed']\n",
      "Categorical = ['marital', 'education', 'default', 'housing', 'loan', 'contact', 'day_of_week', 'poutcome']\n"
     ]
    }
   ],
   "source": [
    "print(f'High = {high}\\nDiscrete = {discrete}\\nContinuous = {continuous}\\nCategorical = {categorical}')"
   ]
  },
  {
   "cell_type": "code",
   "execution_count": 26,
   "id": "a734020f",
   "metadata": {},
   "outputs": [
    {
     "data": {
      "text/plain": [
       "<AxesSubplot:>"
      ]
     },
     "execution_count": 26,
     "metadata": {},
     "output_type": "execute_result"
    },
    {
     "data": {
      "image/png": "[encoded data removed]",
      "text/plain": [
       "<Figure size 432x288 with 1 Axes>"
      ]
     },
     "metadata": {
      "needs_background": "light"
     },
     "output_type": "display_data"
    }
   ],
   "source": [
    "df['Ethnicity_African'].hist()"
   ]
  },
  {
   "cell_type": "code",
   "execution_count": 27,
   "id": "6aceab89",
   "metadata": {},
   "outputs": [
    {
     "data": {
      "image/png": "[encoded data removed]",
      "text/plain": [
       "<Figure size 1080x432 with 2 Axes>"
      ]
     },
     "metadata": {
      "needs_background": "light"
     },
     "output_type": "display_data"
    },
    {
     "data": {
      "image/png": "[encoded data removed]",
      "text/plain": [
       "<Figure size 1080x432 with 2 Axes>"
      ]
     },
     "metadata": {
      "needs_background": "light"
     },
     "output_type": "display_data"
    },
    {
     "data": {
      "image/png": "[encoded data removed]",
      "text/plain": [
       "<Figure size 1080x432 with 2 Axes>"
      ]
     },
     "metadata": {
      "needs_background": "light"
     },
     "output_type": "display_data"
    },
    {
     "data": {
      "image/png": "[encoded data removed]",
      "text/plain": [
       "<Figure size 1080x432 with 2 Axes>"
      ]
     },
     "metadata": {
      "needs_background": "light"
     },
     "output_type": "display_data"
    }
   ],
   "source": [
    "diagnostic_plots(df_transformed, new_continuous)"
   ]
  },
  {
   "cell_type": "code",
   "execution_count": 28,
   "id": "09e411aa",
   "metadata": {},
   "outputs": [
    {
     "data": {
      "image/png": "[encoded data removed]",
      "text/plain": [
       "<Figure size 1080x432 with 2 Axes>"
      ]
     },
     "metadata": {
      "needs_background": "light"
     },
     "output_type": "display_data"
    },
    {
     "data": {
      "image/png": "[encoded data removed]",
      "text/plain": [
       "<Figure size 1080x432 with 2 Axes>"
      ]
     },
     "metadata": {
      "needs_background": "light"
     },
     "output_type": "display_data"
    },
    {
     "data": {
      "image/png": "[encoded data removed]",
      "text/plain": [
       "<Figure size 1080x432 with 2 Axes>"
      ]
     },
     "metadata": {
      "needs_background": "light"
     },
     "output_type": "display_data"
    }
   ],
   "source": [
    "diagnostic_plots(df_transformed, new_discrete)"
   ]
  },
  {
   "cell_type": "code",
   "execution_count": 29,
   "id": "0d49ad11",
   "metadata": {},
   "outputs": [
    {
     "data": {
      "text/plain": [
       "1.350354093014719"
      ]
     },
     "execution_count": 29,
     "metadata": {},
     "output_type": "execute_result"
    }
   ],
   "source": [
    "skew(df_transformed['campaign'])"
   ]
  },
  {
   "cell_type": "code",
   "execution_count": 30,
   "id": "0417a2f5",
   "metadata": {},
   "outputs": [
    {
     "data": {
      "image/png": "[encoded data removed]",
      "text/plain": [
       "<Figure size 1080x432 with 2 Axes>"
      ]
     },
     "metadata": {
      "needs_background": "light"
     },
     "output_type": "display_data"
    }
   ],
   "source": [
    "diagnostic_plots(df_transformed, [\"campaign\"])"
   ]
  },
  {
   "cell_type": "code",
   "execution_count": 31,
   "id": "0913131b",
   "metadata": {
    "scrolled": true
   },
   "outputs": [
    {
     "data": {
      "text/plain": [
       "(2.586945975754835, 3.8319026847007014)"
      ]
     },
     "execution_count": 31,
     "metadata": {},
     "output_type": "execute_result"
    }
   ],
   "source": [
    "skew(df_transformed['previous']), skew(df['previous'])"
   ]
  },
  {
   "cell_type": "markdown",
   "id": "10f6bf0d",
   "metadata": {},
   "source": [
    "#### Data Transformation\n",
    "\n",
    "- Convert categorical features to numerical using Ordinal/OneHot encoder\n",
    "\n",
    "- Scale numerical features that have different ranges using StandardSclaer()\n"
   ]
  },
  {
   "cell_type": "code",
   "execution_count": 32,
   "id": "8a841165",
   "metadata": {},
   "outputs": [
    {
     "data": {
      "text/plain": [
       "['age', 'cons.price.idx', 'cons.conf.idx', 'euribor3m']"
      ]
     },
     "execution_count": 32,
     "metadata": {},
     "output_type": "execute_result"
    }
   ],
   "source": [
    "new_continuous"
   ]
  },
  {
   "cell_type": "code",
   "execution_count": 33,
   "id": "9cf7d4b3",
   "metadata": {},
   "outputs": [
    {
     "data": {
      "text/plain": [
       "['previous', 'emp.var.rate', 'Ethnicity_African']"
      ]
     },
     "execution_count": 33,
     "metadata": {},
     "output_type": "execute_result"
    }
   ],
   "source": [
    "new_discrete"
   ]
  },
  {
   "cell_type": "code",
   "execution_count": 34,
   "id": "8f35ed00",
   "metadata": {
    "scrolled": true
   },
   "outputs": [],
   "source": [
    "# numerical features\n",
    "num_features = ['age', 'campaign', 'cons.price.idx', 'cons.conf.idx', \n",
    "                'euribor3m', 'previous', 'emp.var.rate']\n",
    "\n",
    "# # Plot the distribution of the feature\n",
    "# for i in num_features:\n",
    "#     # Calculate skewness\n",
    "#     transformed_feature = np.log1p(df_transformed[i])\n",
    "#     original_skew = skew(df_transformed[i])\n",
    "#     transformed_skew = skew(transformed_feature)\n",
    "#     print(f\"Skewness of original {i} feature: {original_skew:.2f}\")\n",
    "#     print(f\"Skewness of log-transformed {i} feature: {transformed_skew:.2f}\")\n",
    "    \n",
    "#     plt.figure(figsize=(10, 5))\n",
    "#     plt.subplot(1, 2, 1)\n",
    "#     plt.hist(df[i], bins=30)\n",
    "#     plt.title(f\"Distribution of {i}\")\n",
    "    "
   ]
  },
  {
   "cell_type": "code",
   "execution_count": 35,
   "id": "6fd8dcea",
   "metadata": {},
   "outputs": [
    {
     "data": {
      "text/html": [
       "<div>\n",
       "<style scoped>\n",
       "    .dataframe tbody tr th:only-of-type {\n",
       "        vertical-align: middle;\n",
       "    }\n",
       "\n",
       "    .dataframe tbody tr th {\n",
       "        vertical-align: top;\n",
       "    }\n",
       "\n",
       "    .dataframe thead th {\n",
       "        text-align: right;\n",
       "    }\n",
       "</style>\n",
       "<table border=\"1\" class=\"dataframe\">\n",
       "  <thead>\n",
       "    <tr style=\"text-align: right;\">\n",
       "      <th></th>\n",
       "      <th>age</th>\n",
       "      <th>campaign</th>\n",
       "      <th>cons.price.idx</th>\n",
       "      <th>cons.conf.idx</th>\n",
       "      <th>euribor3m</th>\n",
       "      <th>previous</th>\n",
       "      <th>emp.var.rate</th>\n",
       "    </tr>\n",
       "  </thead>\n",
       "  <tbody>\n",
       "    <tr>\n",
       "      <th>count</th>\n",
       "      <td>41188.000000</td>\n",
       "      <td>41188.000000</td>\n",
       "      <td>41188.000000</td>\n",
       "      <td>41188.000000</td>\n",
       "      <td>41188.000000</td>\n",
       "      <td>41188.000000</td>\n",
       "      <td>41188.000000</td>\n",
       "    </tr>\n",
       "    <tr>\n",
       "      <th>mean</th>\n",
       "      <td>4.401937</td>\n",
       "      <td>1.118991</td>\n",
       "      <td>2.910654</td>\n",
       "      <td>3.019375</td>\n",
       "      <td>4.359425</td>\n",
       "      <td>0.107943</td>\n",
       "      <td>0.081886</td>\n",
       "    </tr>\n",
       "    <tr>\n",
       "      <th>std</th>\n",
       "      <td>2.878497</td>\n",
       "      <td>0.491402</td>\n",
       "      <td>2.198853</td>\n",
       "      <td>2.384744</td>\n",
       "      <td>2.822098</td>\n",
       "      <td>0.283014</td>\n",
       "      <td>1.570960</td>\n",
       "    </tr>\n",
       "    <tr>\n",
       "      <th>min</th>\n",
       "      <td>0.000000</td>\n",
       "      <td>0.693147</td>\n",
       "      <td>0.000000</td>\n",
       "      <td>0.000000</td>\n",
       "      <td>0.000000</td>\n",
       "      <td>0.000000</td>\n",
       "      <td>-3.400000</td>\n",
       "    </tr>\n",
       "    <tr>\n",
       "      <th>25%</th>\n",
       "      <td>2.000000</td>\n",
       "      <td>0.693147</td>\n",
       "      <td>1.000000</td>\n",
       "      <td>1.000000</td>\n",
       "      <td>2.000000</td>\n",
       "      <td>0.000000</td>\n",
       "      <td>-1.800000</td>\n",
       "    </tr>\n",
       "    <tr>\n",
       "      <th>50%</th>\n",
       "      <td>4.000000</td>\n",
       "      <td>1.098612</td>\n",
       "      <td>3.000000</td>\n",
       "      <td>3.000000</td>\n",
       "      <td>4.000000</td>\n",
       "      <td>0.000000</td>\n",
       "      <td>1.100000</td>\n",
       "    </tr>\n",
       "    <tr>\n",
       "      <th>75%</th>\n",
       "      <td>7.000000</td>\n",
       "      <td>1.386294</td>\n",
       "      <td>5.000000</td>\n",
       "      <td>5.000000</td>\n",
       "      <td>7.000000</td>\n",
       "      <td>0.000000</td>\n",
       "      <td>1.400000</td>\n",
       "    </tr>\n",
       "    <tr>\n",
       "      <th>max</th>\n",
       "      <td>9.000000</td>\n",
       "      <td>4.043051</td>\n",
       "      <td>7.000000</td>\n",
       "      <td>7.000000</td>\n",
       "      <td>9.000000</td>\n",
       "      <td>2.079442</td>\n",
       "      <td>1.400000</td>\n",
       "    </tr>\n",
       "  </tbody>\n",
       "</table>\n",
       "</div>"
      ],
      "text/plain": [
       "                age      campaign  cons.price.idx  cons.conf.idx  \\\n",
       "count  41188.000000  41188.000000    41188.000000   41188.000000   \n",
       "mean       4.401937      1.118991        2.910654       3.019375   \n",
       "std        2.878497      0.491402        2.198853       2.384744   \n",
       "min        0.000000      0.693147        0.000000       0.000000   \n",
       "25%        2.000000      0.693147        1.000000       1.000000   \n",
       "50%        4.000000      1.098612        3.000000       3.000000   \n",
       "75%        7.000000      1.386294        5.000000       5.000000   \n",
       "max        9.000000      4.043051        7.000000       7.000000   \n",
       "\n",
       "          euribor3m      previous  emp.var.rate  \n",
       "count  41188.000000  41188.000000  41188.000000  \n",
       "mean       4.359425      0.107943      0.081886  \n",
       "std        2.822098      0.283014      1.570960  \n",
       "min        0.000000      0.000000     -3.400000  \n",
       "25%        2.000000      0.000000     -1.800000  \n",
       "50%        4.000000      0.000000      1.100000  \n",
       "75%        7.000000      0.000000      1.400000  \n",
       "max        9.000000      2.079442      1.400000  "
      ]
     },
     "execution_count": 35,
     "metadata": {},
     "output_type": "execute_result"
    }
   ],
   "source": [
    "df_transformed[num_features].describe()"
   ]
  },
  {
   "cell_type": "code",
   "execution_count": 36,
   "id": "e806dfac",
   "metadata": {},
   "outputs": [
    {
     "data": {
      "text/plain": [
       "<AxesSubplot:>"
      ]
     },
     "execution_count": 36,
     "metadata": {},
     "output_type": "execute_result"
    },
    {
     "data": {
      "image/png": "[encoded data removed]",
      "text/plain": [
       "<Figure size 432x288 with 1 Axes>"
      ]
     },
     "metadata": {
      "needs_background": "light"
     },
     "output_type": "display_data"
    }
   ],
   "source": [
    "df_transformed['contacted_prev_campaign'].hist()"
   ]
  },
  {
   "cell_type": "code",
   "execution_count": 37,
   "id": "e11a34d4",
   "metadata": {},
   "outputs": [],
   "source": [
    "# Reset the index of the original dataframe\n",
    "df_transformed.reset_index(drop=True, inplace=True)\n",
    "\n",
    "# One-hot encode nominal categorical features\n",
    "nominal_features = ['occupation_group', 'marital', 'contact', 'nr_employed_category', 'duration_category']\n",
    "onehot_encoder = OneHotEncoder(sparse=False)\n",
    "onehot_encoded = onehot_encoder.fit_transform(df_transformed[nominal_features])\n",
    "onehot_encoded_df = pd.DataFrame(onehot_encoded, columns=onehot_encoder.get_feature_names_out(nominal_features))\n",
    "\n",
    "# Ordinal encode ordinal categorical features (these features represent hierarchy)\n",
    "ordinal_features = ['education', 'poutcome', 'month', 'day_of_week']\n",
    "ordinal_categories = [list(df_transformed['education'].unique()), list(df_transformed['poutcome'].unique()), list(df_transformed['month'].unique()), \n",
    "                     list(df_transformed['day_of_week'].unique())]\n",
    "ordinal_encoder = OrdinalEncoder(categories=ordinal_categories)\n",
    "ordinal_encoded = ordinal_encoder.fit_transform(df_transformed[ordinal_features])\n",
    "ordinal_encoded_df = pd.DataFrame(ordinal_encoded, columns=ordinal_features)\n",
    "\n",
    "# One-hot encode 'default', 'housing', and 'loan' features\n",
    "additional_features = ['default', 'housing', 'loan']\n",
    "#'drop' parameter to make a binary feature: one for 'yes' and one for 'unknown', with 'no' being the reference category.\n",
    "#This helps to reduce multicollinearity\n",
    "onehot_encoder_additional = OneHotEncoder(sparse=False, drop='first')\n",
    "onehot_encoded_additional = onehot_encoder_additional.fit_transform(df_transformed[additional_features])\n",
    "onehot_encoded_additional_df = pd.DataFrame(onehot_encoded_additional, \n",
    "                                            columns=onehot_encoder_additional.get_feature_names_out(additional_features))\n",
    "\n",
    "\n",
    "df_processed = pd.concat([onehot_encoded_df, ordinal_encoded_df, onehot_encoded_additional_df, \n",
    "                          df_transformed[num_features], df_transformed[['Ethnicity_African','contacted_prev_campaign']]], axis=1)\n",
    "\n",
    "# Scale numerical features\n",
    "scaler = StandardScaler()\n",
    "df_processed[num_features] = scaler.fit_transform(df_processed[num_features])"
   ]
  },
  {
   "cell_type": "code",
   "execution_count": 38,
   "id": "e3bc439b",
   "metadata": {},
   "outputs": [
    {
     "data": {
      "text/plain": [
       "['term_deposit']"
      ]
     },
     "execution_count": 38,
     "metadata": {},
     "output_type": "execute_result"
    }
   ],
   "source": [
    "#check which features are not in df_processed\n",
    "[x for x in df_transformed.columns if x not in nominal_features and x not in ordinal_features and \n",
    " x not in additional_features and x not in num_features and x not in 'contacted_prev_campaign' and x not in 'Ethnicity_African']"
   ]
  },
  {
   "cell_type": "markdown",
   "id": "d050c5ee",
   "metadata": {},
   "source": [
    "---\n",
    "\n",
    "## Q2 (a)\n",
    "\n",
    "` Fit a logistic regression model on the dataset. Choose a probability threshold of 10 % , 20%, 35% and 50%, to assign an observation to the Term Deposit = 1 class. Compute a confusion matrix for each of the probability thresholds. How do the True Positive and False Positive rates vary over these probability thresholds? Which probability threshold would you\n",
    "choose?`\n",
    "---"
   ]
  },
  {
   "cell_type": "code",
   "execution_count": null,
   "id": "25d4f51a",
   "metadata": {
    "run_control": {
     "marked": false
    }
   },
   "outputs": [],
   "source": [
    "# Split the dataset into X (features) and y (target)\n",
    "X = df_processed\n",
    "y = df_transformed['term_deposit']\n",
    "# Fit the logistic regression model\n",
    "log_reg = LogisticRegression(max_iter=1000)\n",
    "log_reg.fit(X, y)\n",
    "# Predict probabilities\n",
    "y_proba = log_reg.predict_proba(X)"
   ]
  },
  {
   "cell_type": "code",
   "execution_count": null,
   "id": "091ee330",
   "metadata": {
    "scrolled": true
   },
   "outputs": [],
   "source": [
    "def confusion_matrix_thresholds(y, y_proba_list, classifier_names, thresholds):\n",
    "    for y_proba, classifier_name in zip(y_proba_list, classifier_names):\n",
    "        print(f\"\\n---Classifier: {classifier_name}---\\n\")\n",
    "        for threshold in thresholds:\n",
    "            y_pred = (y_proba[:, 1] >= threshold).astype(int)\n",
    "            cm = confusion_matrix(y, y_pred)\n",
    "\n",
    "            # Calculate True Positive Rate (TPR) and False Positive Rate (FPR)\n",
    "            TPR = cm[1, 1] / (cm[1, 1] + cm[1, 0])\n",
    "            FPR = cm[0, 1] / (cm[0, 1] + cm[0, 0])\n",
    "            \n",
    "            f1 = f1_score(y, y_pred)\n",
    "            \n",
    "\n",
    "            print(f\"Threshold: {threshold}\")\n",
    "            print(\"Confusion Matrix:\\n\\n\")\n",
    "            ax = sns.heatmap(cm, annot=True, fmt='d', cmap='Blues', cbar=False)\n",
    "            ax.xaxis.tick_top()\n",
    "            ax.xaxis.set_label_position('top')\n",
    "            ax.set_xticklabels(['Not Subscribed (0)', 'Subscribed (1)'])\n",
    "            ax.set_yticklabels(['Not Subscribed (0)', 'Subscribed (1)'])\n",
    "            plt.xlabel('Actual Class', labelpad=15)\n",
    "            plt.ylabel('Predicted Class')\n",
    "            plt.title(f'{classifier_name}: {threshold * 100:.0f}%\\n\\n')\n",
    "            plt.show()\n",
    "            print(f\"\\n\\nTrue Positive Rate: {TPR:.2f}\")\n",
    "            print(f\"False Positive Rate: {FPR:.2f}\")\n",
    "            print(f\"F1-Score: {f1:.2f}\\n\")\n",
    "        \n",
    "# Define the probability thresholds\n",
    "thresholds = [0.1, 0.2, 0.35, 0.5]\n",
    "confusion_matrix_thresholds(y=y, y_proba_list=[y_proba], classifier_names=[\"Logistic Regression\"], thresholds=thresholds)"
   ]
  },
  {
   "cell_type": "markdown",
   "id": "d7c11fd6",
   "metadata": {},
   "source": [
    "---\n",
    "## Analysis\n",
    "\n",
    "The True Positive Rate (TPR) and False Positive Rate (FPR) vary over the probability thresholds as follows:\n",
    "\n",
    "- At a threshold of 0.1, TPR is high (0.68) while FPR is relatively high as well (0.20).\n",
    "- At a threshold of 0.2, TPR decreases to 0.54, but FPR also decreases to 0.09.\n",
    "- At a threshold of 0.35, TPR further decreases to 0.35, and FPR continues to decrease to 0.03.\n",
    "- At a threshold of 0.5, TPR reaches its lowest value at 0.23, while FPR is at its lowest value of 0.01.\n",
    "\n",
    "As the probability threshold increases, both the TPR and FPR decreases. This means that as you raise the threshold, the classifier becomes more conservative, and the number of false positives decreases, but at the expense of also identifying fewer true positives.\n",
    "\n",
    "A threshold of 0.2 may be a sensible option because it provides a TPR of 0.54 and an FPR of 0.9, which is a reasonable trade-off between capturing potential subscribers and minimizing false positives. In addition, the F1-Score is the highest across all thresholds\n",
    "\n",
    "---"
   ]
  },
  {
   "cell_type": "markdown",
   "id": "2017516c",
   "metadata": {},
   "source": [
    "## Q2(b)\n",
    "\n",
    "` Divide the dataset into training (70%) and test (30%) sets and repeat the above question and\n",
    "report the performance of these models, across probability thresholds, on the test set.`"
   ]
  },
  {
   "cell_type": "code",
   "execution_count": null,
   "id": "4e4acac5",
   "metadata": {
    "scrolled": false
   },
   "outputs": [],
   "source": [
    "# Split the dataset into training (70%) and test (30%) sets\n",
    "X_train, X_test, y_train, y_test = train_test_split(X, y, test_size=0.3, random_state=42)\n",
    "\n",
    "# Fit the logistic regression model on the training set\n",
    "log_reg_split = LogisticRegression(max_iter=500)\n",
    "log_reg_split.fit(X_train, y_train)\n",
    "\n",
    "# Predict probabilities on the test set\n",
    "y_proba_test = log_reg_split.predict_proba(X_test)\n",
    "\n",
    "# Define the probability thresholds\n",
    "thresholds = [0.1, 0.2, 0.35, 0.5]\n",
    "confusion_matrix_thresholds(y=y_test, y_proba_list=[y_proba_test], classifier_names=[\"Logistic Regression\"], \n",
    "                            thresholds=thresholds)"
   ]
  },
  {
   "cell_type": "markdown",
   "id": "7c32e910",
   "metadata": {},
   "source": [
    "---\n",
    "\n",
    "## Analysis\n",
    "\n",
    "The True Positive Rate (TPR) and False Positive Rate (FPR) vary over the probability thresholds as follows:\n",
    "\n",
    "- At a threshold of 0.1, TPR is high (0.70) while FPR is relatively high as well (0.21).\n",
    "- At a threshold of 0.2, TPR decreases to 0.54, but FPR also decreases to 0.09.\n",
    "- At a threshold of 0.35, TPR further decreases to 0.34, and FPR continues to decrease to 0.03.\n",
    "- At a threshold of 0.5, TPR reaches its lowest value at 0.21, while FPR is at its lowest value of 0.01.\n",
    "\n",
    "The True Positive Rate falls as the probability threshold rises, making the model more cautious in identifying an observation as positive. However, the False Positive Rate also falls, which means the model is better at categorizing negative cases.\n",
    "\n",
    "Once again, a threshold of 0.2 may be a sensible option because it provides a TPR of 0.54 and an FPR of 0.9, which is a reasonable trade-off between capturing potential subscribers and minimizing false positives. It also has the highest F1-Score of 0.48.\n",
    "\n",
    "---"
   ]
  },
  {
   "cell_type": "markdown",
   "id": "8023263f",
   "metadata": {},
   "source": [
    "## Q2 (c) \n",
    "\n",
    "` Plot the ROC for a logistic model on a graph and compute the AUC. Explain the information\n",
    "conveyed by the ROC and the AUC metrics.`"
   ]
  },
  {
   "cell_type": "code",
   "execution_count": null,
   "id": "478d3ef7",
   "metadata": {
    "code_folding": []
   },
   "outputs": [],
   "source": [
    "def graph_roc_curve_for_thresholds(classifiers, classifier_names, colours, thresholds):\n",
    "    threshold_colours = colours[:len(thresholds)]  # Create a separate list for threshold colours\n",
    "    \n",
    "    if len(classifiers) == 1:\n",
    "        # If only one classifier is provided, plot ROC curves for all thresholds in a single graph\n",
    "        plt.figure(figsize=(8, 6))\n",
    "        plt.title(f'ROC Curve for {classifier_names[0]} at Different Thresholds', fontsize=18)\n",
    "        clf = classifiers[0]\n",
    "        clf_name = classifier_names[0]\n",
    "        color = colours[0]\n",
    "\n",
    "        clf.fit(X_train, y_train)\n",
    "        y_proba = clf.predict_proba(X_test)\n",
    "        \n",
    "        for threshold, threshold_color in zip(thresholds, threshold_colours):\n",
    "            y_pred = (y_proba[:, 1] >= threshold).astype(int)\n",
    "            fpr, tpr, _ = roc_curve(y_test, y_pred)\n",
    "            auc_score = roc_auc_score(y_test, y_pred) * 100\n",
    "            plt.plot(fpr, tpr, label=f'Threshold: {threshold * 100:.0f}% (Score = {auc_score:.2f}%)', color=threshold_color)\n",
    "\n",
    "    else:\n",
    "        # If multiple classifiers are provided, create a separate graph for each threshold\n",
    "        for threshold in thresholds:\n",
    "            plt.figure(figsize=(8, 6))\n",
    "            plt.title(f'ROC Curve at {threshold * 100:.0f}% Threshold \\n Classifiers', fontsize=18)\n",
    "            \n",
    "            for clf, clf_name, color in zip(classifiers, classifier_names, colours):\n",
    "                clf.fit(X_train, y_train)\n",
    "                y_proba = clf.predict_proba(X_test)\n",
    "                y_pred = (y_proba[:, 1] >= threshold).astype(int)\n",
    "                fpr, tpr, _ = roc_curve(y_test, y_pred)\n",
    "                auc_score = roc_auc_score(y_test, y_pred) * 100\n",
    "                plt.plot(fpr, tpr, label=f'{clf_name} (Score = {auc_score:.2f}%)', color=color)\n",
    "\n",
    "                plt.legend()\n",
    "                \n",
    "    plt.plot([0, 1], [0, 1], 'k--')\n",
    "    plt.axis([0, 1, 0, 1])\n",
    "    plt.xlabel('False Positive Rate', fontsize=16)\n",
    "    plt.ylabel('True Positive Rate', fontsize=16)\n",
    "    plt.annotate('Minimum ROC Score of 50% \\n (\"No information classifier\")', xy=(0.5, 0.5), xytext=(0.6, 0.3),\n",
    "                 arrowprops=dict(facecolor='#6E726D', shrink=0.05),\n",
    "                 )\n",
    "    plt.legend()\n",
    "    plt.show()\n",
    "    \n",
    "    \n",
    "def graph_roc_curve_multiple(classifiers, classifier_names, colours):\n",
    "    plt.figure(figsize=(8, 6))\n",
    "    plt.title('ROC Curve \\n Classifiers', fontsize=18)\n",
    "    \n",
    "    for clf, clf_name, color in zip(classifiers, classifier_names, colours):\n",
    "        clf.fit(X_train, y_train)\n",
    "        y_proba = clf.predict_proba(X_test)\n",
    "        fpr, tpr, _ = roc_curve(y_test, y_proba[:, 1], drop_intermediate=False)\n",
    "        auc_score = roc_auc_score(y_test, y_proba[:, 1]) * 100\n",
    "        plt.plot(fpr, tpr, label=f'{clf_name} (Score = {auc_score:.2f}%)', color=color)\n",
    "    \n",
    "    plt.plot([0, 1], [0, 1], 'k--')\n",
    "    plt.axis([0, 1, 0, 1])\n",
    "    plt.xlabel('False Positive Rate', fontsize=16)\n",
    "    plt.ylabel('True Positive Rate', fontsize=16)\n",
    "    plt.annotate('Minimum ROC Score of 50% \\n (\"No information classifier\")', xy=(0.5, 0.5), xytext=(0.6, 0.3),\n",
    "                 arrowprops=dict(facecolor='#6E726D', shrink=0.05),\n",
    "                 )\n",
    "    plt.legend()\n",
    "    plt.show()\n",
    "\n",
    "\n",
    "\n",
    "    \n",
    "def plot_feature_importance(models, model_names, X):\n",
    "    n_features = X.shape[1]\n",
    "    feature_names = X.columns\n",
    "\n",
    "    for model, model_name in zip(models, model_names):\n",
    "        if model_name == 'Logistic Regression':\n",
    "            # For logistic regression, we'll use the absolute value of coefficients for feature importance\n",
    "            importance = np.abs(model.coef_[0])\n",
    "        elif model_name in ['Decision Trees', 'Random Forest']:\n",
    "            importance = model.feature_importances_\n",
    "        else:\n",
    "            print(f\"Feature importance not available for {model_name}. Skipping.\")\n",
    "            continue\n",
    "\n",
    "        sorted_idx = np.argsort(importance)[-10:]\n",
    "\n",
    "        plt.figure(figsize=(10, 5))\n",
    "        plt.barh(range(10), importance[sorted_idx], align='center')\n",
    "        plt.yticks(np.arange(10), feature_names[sorted_idx])\n",
    "        plt.xlabel('Feature Importance')\n",
    "        plt.title(f'Top 10 Feature Importance - {model_name}')\n",
    "        plt.show()"
   ]
  },
  {
   "cell_type": "code",
   "execution_count": null,
   "id": "a6fd7a2c",
   "metadata": {
    "scrolled": false
   },
   "outputs": [],
   "source": [
    "classifier = [log_reg_split]\n",
    "classifier_name = [\"Logistic Regression\"]\n",
    "colour = ['navy', 'orange', 'red', 'green']\n",
    "graph_roc_curve_for_thresholds(classifiers=classifier, classifier_names=classifier_name, colours=colour, thresholds=thresholds)\n",
    "#graph_roc_curve_multiple(classifier, classifier_name, colours=colour)"
   ]
  },
  {
   "cell_type": "markdown",
   "id": "93fdf79c",
   "metadata": {},
   "source": [
    "## Q3 (a)\n",
    "\n",
    "`Fit three alternative machine learning models (e.g., classification tree, bagging, random forest models; KNN or SVM algorithms) in the data and comment on the performance of these models. Which model would you choose and why?`"
   ]
  },
  {
   "cell_type": "code",
   "execution_count": null,
   "id": "cca112b5",
   "metadata": {
    "code_folding": []
   },
   "outputs": [],
   "source": [
    "def fit_models(X_train, y_train):\n",
    "    dtc = DecisionTreeClassifier().fit(X_train, y_train)\n",
    "    knn = KNeighborsClassifier().fit(X_train, y_train)\n",
    "    rfc = RandomForestClassifier().fit(X_train, y_train)\n",
    "    bagc = BaggingClassifier(base_estimator=DecisionTreeClassifier(), random_state=1).fit(X_train, y_train)\n",
    "    return dtc, knn, rfc, bagc\n",
    "\n",
    "# Predict probabilities\n",
    "def predict_probabilities(models, X_test):\n",
    "    proba_list = []\n",
    "    for model in models:\n",
    "        proba_list.append(model.predict_proba(X_test))\n",
    "    return proba_list\n",
    "\n",
    "def optimize_hyperparameters(X, y):\n",
    "    # Create a list of classifiers with their hyperparameter grids\n",
    "    classifiers = [\n",
    "        {\n",
    "            'name': 'Logistic Regression',\n",
    "            'estimator': LogisticRegression(),\n",
    "            'params': {\n",
    "                'C': np.logspace(-4, 4, 10),\n",
    "                'penalty': ['l1', 'l2'],\n",
    "                'solver': ['liblinear']\n",
    "            }\n",
    "        },\n",
    "        {\n",
    "            'name': 'Decision Trees',\n",
    "            'estimator': DecisionTreeClassifier(),\n",
    "            'params': {\n",
    "                'max_depth': [3, 5, 10, 15, 20, None],\n",
    "                'min_samples_split': [2, 5, 10],\n",
    "                'min_samples_leaf': [1, 2, 4]\n",
    "            }\n",
    "        },\n",
    "        {\n",
    "            'name': 'Random Forest',\n",
    "            'estimator': RandomForestClassifier(),\n",
    "            'params': {\n",
    "                'n_estimators': [10, 50, 100],\n",
    "                'max_depth': [3, 5, 10, 15, 20, None],\n",
    "                'min_samples_split': [2, 5, 10],\n",
    "                'min_samples_leaf': [1, 2, 4]\n",
    "            }\n",
    "        },\n",
    "        {\n",
    "            'name': 'BaggingClassifier (Decision Trees)',\n",
    "            'estimator': BaggingClassifier(base_estimator=DecisionTreeClassifier(), random_state=1),\n",
    "            'params': {\n",
    "                'base_estimator__max_depth': [3, 5, 10, 15, None],\n",
    "                'base_estimator__min_samples_split': [2, 5],\n",
    "                'base_estimator__min_samples_leaf': [1, 2],\n",
    "                'n_estimators': [10, 50]\n",
    "            }\n",
    "        }\n",
    "    ]\n",
    "\n",
    "    best_models = []\n",
    "\n",
    "    # Iterate through the classifiers list and perform hyperparameter optimization\n",
    "    for classifier in classifiers:\n",
    "        print(f\"Optimizing {classifier['name']}...\")\n",
    "\n",
    "        best_score = -np.inf\n",
    "        best_params = None\n",
    "        best_estimator = None\n",
    "\n",
    "         #CHANGE TO GRIDSEARCHCV (ALSO CV=RANGE(5,11))\n",
    "        random_search = RandomizedSearchCV(classifier['estimator'], classifier['params'], cv=5, \n",
    "                                   scoring='roc_auc', n_jobs=-1, random_state=42)\n",
    "        random_search.fit(X, y)\n",
    "\n",
    "        # Update best score, parameters, and estimator if a better score is found\n",
    "        if random_search.best_score_ > best_score:\n",
    "            best_score = random_search.best_score_\n",
    "            best_params = random_search.best_params_\n",
    "            best_estimator = random_search.best_estimator_\n",
    "\n",
    "        best_models.append({\n",
    "            'name': classifier['name'],\n",
    "            'best_estimator': best_estimator,\n",
    "            'best_params': best_params,\n",
    "            'best_score': best_score,\n",
    "        })\n",
    "\n",
    "        print(f\"Best parameters: {best_params}\")\n",
    "        print(f\"Best roc_auc score: {best_score:.4f}\\n\")\n",
    "\n",
    "    return best_models"
   ]
  },
  {
   "cell_type": "markdown",
   "id": "89272830",
   "metadata": {},
   "source": [
    "**UNCOMMENT THE BELOW CODE BLOCK IF THE DATA HAS CHANGED**"
   ]
  },
  {
   "cell_type": "code",
   "execution_count": null,
   "id": "04b919f9",
   "metadata": {},
   "outputs": [],
   "source": [
    "# best_models = optimize_hyperparameters(X_train, y_train)\n",
    "\n",
    "# # Save the data as a binary file using pickle\n",
    "# with open('best_models_3.pkl', 'wb') as f:\n",
    "#     pickle.dump(best_models, f)"
   ]
  },
  {
   "cell_type": "code",
   "execution_count": null,
   "id": "91d99fed",
   "metadata": {
    "scrolled": true
   },
   "outputs": [],
   "source": [
    "# Load the data from the saved file\n",
    "with open('best_models_3.pkl', 'rb') as f:\n",
    "    best_models = pickle.load(f)\n",
    "    \n",
    "fitted_models = [model_info['best_estimator'] for model_info in best_models]\n",
    "\n",
    "clf_pred_list = predict_probabilities(fitted_models, X_test)\n",
    "classifier_names = [model_info['name'] for model_info in best_models]\n",
    "\n",
    "thresholds = [0.1, 0.2, 0.35, 0.5]\n",
    "confusion_matrix_thresholds(y=y_test, y_proba_list=clf_pred_list, \n",
    "                            classifier_names=classifier_names, thresholds=thresholds)\n",
    "\n",
    "colour = ['navy', 'orange', 'red', 'green']\n",
    "graph_roc_curve_for_thresholds(fitted_models, classifier_names, colour, thresholds)"
   ]
  },
  {
   "cell_type": "code",
   "execution_count": null,
   "id": "af5fb9ce",
   "metadata": {
    "scrolled": false
   },
   "outputs": [],
   "source": [
    "plot_feature_importance(fitted_models, classifier_names, X_train)"
   ]
  },
  {
   "cell_type": "code",
   "execution_count": null,
   "id": "8f8a179b",
   "metadata": {},
   "outputs": [],
   "source": [
    "def bagging_imp(best_models):\n",
    "    # Extract the BaggingClassifier contents\n",
    "    for model_dict in best_models:\n",
    "        if model_dict[\"name\"] == \"BaggingClassifier (Decision Trees)\":\n",
    "            bagging_dict = {\n",
    "                \"best_estimator\": model_dict[\"best_estimator\"],\n",
    "                \"best_params\": model_dict[\"best_params\"],\n",
    "                \"best_score\": model_dict[\"best_score\"]\n",
    "            }\n",
    "            break\n",
    "\n",
    "    # Compute the BaggingClassifier feature importances\n",
    "    feature_importances = np.mean([\n",
    "        tree.feature_importances_ for tree in bagging_dict['best_estimator'].estimators_\n",
    "    ], axis=0)\n",
    "\n",
    "    column_names = X_train.columns\n",
    "\n",
    "    # Sort the indices by importance and select the top 10\n",
    "    sorted_indices = feature_importances.argsort()[-10:]\n",
    "    importance = feature_importances[sorted_indices]\n",
    "    sorted_column_names = column_names[sorted_indices]\n",
    "\n",
    "    fig, ax = plt.subplots(figsize=(10, 5))\n",
    "    y_pos = range(10)\n",
    "    ax.barh(y_pos, importance, align='center')\n",
    "    ax.set_yticks(y_pos)\n",
    "    ax.set_yticklabels(sorted_column_names)\n",
    "    ax.set_xlabel('Feature Importance')\n",
    "    ax.set_title('Top 10 Feature Importance - BaggingClassifier')\n",
    "    plt.show()\n",
    "    \n",
    "bagging_imp(best_models=best_models)"
   ]
  },
  {
   "cell_type": "markdown",
   "id": "9400eb57",
   "metadata": {},
   "source": [
    "### Q4\n",
    "\n",
    "` Evaluate the potential, from theoretical and empirical perspectives, of the following unsupervised learning techniques to improve (or not) the predictive modeling work you have reported.`\n",
    "\n",
    "Techniques:\n",
    "\n",
    "1. Principal Components Analysis\n",
    "2. K-Means Clustering\n",
    "3. Hierarchical Clustering"
   ]
  },
  {
   "cell_type": "markdown",
   "id": "3253bb41",
   "metadata": {},
   "source": [
    "---\n",
    "\n",
    "### PCA\n",
    "\n",
    "---"
   ]
  },
  {
   "cell_type": "code",
   "execution_count": null,
   "id": "bf6c93e0",
   "metadata": {
    "run_control": {
     "marked": false
    },
    "scrolled": true
   },
   "outputs": [],
   "source": [
    "# Apply PCA\n",
    "pca = PCA(n_components=16)\n",
    "pca.fit(X_train)\n",
    "# pca.fit(X_train)\n",
    "# explained_variance_ratio = pca.explained_variance_ratio_\n",
    "# n_components = np.arange(1, len(explained_variance_ratio) + 1)\n",
    "# cumulative_explained_variance = np.cumsum(explained_variance_ratio)\n",
    "\n",
    "# plt.plot(n_components, cumulative_explained_variance)\n",
    "# plt.xlabel(\"Number of Components\")\n",
    "# plt.ylabel(\"Cumulative Explained Variance\")\n",
    "# plt.title(\"Explained Variance vs Number of Components\")\n",
    "# plt.grid()\n",
    "# plt.show()\n",
    "# n_components_95 = np.argmax(cumulative_explained_variance >= 0.95) + 1\n",
    "# print(f\"Number of components to retain 95% explained variance: {n_components_95}\")\n",
    "\n",
    "\n",
    "# Apply PCA to the training and testing sets\n",
    "X_train_pca = pca.transform(X_train)\n",
    "X_test_pca = pca.transform(X_test)\n",
    "\n",
    "# # Optimize hyperparameters using the PCA-transformed data\n",
    "# best_models_pca = optimize_hyperparameters(X_train_pca, y_train)\n",
    "\n",
    "# # Save the data as a binary file using pickle\n",
    "# with open('best_models_pca.pkl', 'wb') as f:\n",
    "#     pickle.dump(best_models_pca, f)\n",
    "                                       \n",
    "# Load the data from the saved file\n",
    "with open('best_models_pca.pkl', 'rb') as f:\n",
    "    best_models_pca = pickle.load(f)\n",
    "    \n",
    "fitted_models_pca = [model_info['best_estimator'] for model_info in best_models_pca]\n",
    "\n",
    "clf_pred_list_pca = predict_probabilities(fitted_models_pca, X_test_pca)\n",
    "classifier_names_pca = [model_info['name'] for model_info in best_models_pca]\n",
    "\n",
    "thresholds = [0.1, 0.2, 0.35, 0.5]\n",
    "\n",
    "colour = ['navy', 'orange', 'red', 'green']\n",
    "graph_roc_curve_for_thresholds(fitted_models_pca, classifier_names_pca, colour, thresholds)"
   ]
  },
  {
   "cell_type": "code",
   "execution_count": null,
   "id": "b79cf7d9",
   "metadata": {},
   "outputs": [],
   "source": [
    "def plot_elbow(X, max_clusters):\n",
    "    inertia = []\n",
    "    for n_clusters in range(1, max_clusters+1):\n",
    "        kmeans = KMeans(n_clusters=n_clusters, random_state=42)\n",
    "        kmeans.fit(X)\n",
    "        inertia.append(kmeans.inertia_)\n",
    "\n",
    "    plt.plot(range(1, max_clusters+1), inertia, marker='o')\n",
    "    plt.xlabel('Number of clusters')\n",
    "    plt.ylabel('Inertia')\n",
    "    plt.title('K-Means Elbow Method')\n",
    "    plt.show()\n",
    "\n",
    "# Determine the optimal number of clusters for K-Means\n",
    "plot_elbow(X_train, max_clusters=10)"
   ]
  },
  {
   "cell_type": "code",
   "execution_count": null,
   "id": "e19d7a89",
   "metadata": {},
   "outputs": [],
   "source": [
    "# Create a K-Means clustering model\n",
    "kmeans = KMeans(n_clusters=4, random_state=42)\n",
    "\n",
    "# Fit the K-Means model to the training data\n",
    "kmeans.fit(X_train)\n",
    "\n",
    "# Assign clusters to the data\n",
    "X_train_kmeans = kmeans.transform(X_train)\n",
    "X_test_kmeans = kmeans.transform(X_test)\n",
    "\n",
    "Optimize hyperparameters using the K-Means transformed data\n",
    "# best_models_kmeans = optimize_hyperparameters(X_train_kmeans, y_train)\n",
    "\n",
    "# # Save the data as a binary file using pickle\n",
    "# with open('best_models_kmeans.pkl', 'wb') as f:\n",
    "#     pickle.dump(best_models_kmeans, f)\n",
    "\n",
    "# Load the data from the saved file\n",
    "with open('best_models_kmeans.pkl', 'rb') as f:\n",
    "    best_models_kmeans = pickle.load(f)\n",
    "\n",
    "fitted_models_kmeans = [model_info['best_estimator'] for model_info in best_models_kmeans]\n",
    "\n",
    "clf_pred_list_kmeans = predict_probabilities(fitted_models_kmeans, X_test_kmeans)\n",
    "classifier_names_kmeans = [model_info['name'] for model_info in best_models_kmeans]\n",
    "\n",
    "\n",
    "graph_roc_curve_for_thresholds(fitted_models_kmeans, classifier_names_kmeans, colour, thresholds)\n"
   ]
  },
  {
   "cell_type": "code",
   "execution_count": null,
   "id": "639cf684",
   "metadata": {},
   "outputs": [],
   "source": [
    "# # Create a hierarchical clustering model\n",
    "# agg_clustering = AgglomerativeClustering(n_clusters=2)\n",
    "\n",
    "# # Fit the hierarchical clustering model to the training data\n",
    "# agg_clustering.fit(X_train)\n",
    "\n",
    "# # Assign clusters to the data\n",
    "# X_train_agg = pairwise_distances(X_train, metric='euclidean')\n",
    "# X_test_agg = pairwise_distances(X_test, metric='euclidean')\n",
    "\n",
    "# # Optimize hyperparameters using the hierarchical clustering transformed data\n",
    "# best_models_agg = optimize_hyperparameters(X_train_agg, y_train)\n",
    "\n",
    "# # Save the data as a binary file using pickle\n",
    "# with open('best_models_agg.pkl', 'wb') as f:\n",
    "#     pickle.dump(best_models_agg, f)\n",
    "\n",
    "# # Load the data from the saved file\n",
    "# with open('best_models_agg.pkl', 'rb') as f:\n",
    "#     best_models_agg = pickle.load(f)\n",
    "\n",
    "# fitted_models_agg = [model_info['best_estimator'] for model_info in best_models_agg]\n",
    "\n",
    "# clf_pred_list_agg = predict_probabilities(fitted_models_agg, X_test_agg)\n",
    "# classifier_names_agg = [model_info['name'] for model_info in best_models_agg]\n",
    "\n",
    "# confusion_matrix_thresholds(y=y_test, y_proba_list=clf_pred_list_agg, classifier_names=classifier_names_agg, \n",
    "#                             thresholds=thresholds)\n",
    "\n",
    "# graph_roc_curve_for_thresholds(fitted_models_agg, classifier_names_agg, colour, thresholds)\n"
   ]
  },
  {
   "cell_type": "code",
   "execution_count": null,
   "id": "93ff5335",
   "metadata": {},
   "outputs": [],
   "source": []
  }
 ],
 "metadata": {
  "kernelspec": {
   "display_name": "dev",
   "language": "python",
   "name": "dev"
  },
  "language_info": {
   "codemirror_mode": {
    "name": "ipython",
    "version": 3
   },
   "file_extension": ".py",
   "mimetype": "text/x-python",
   "name": "python",
   "nbconvert_exporter": "python",
   "pygments_lexer": "ipython3",
   "version": "3.10.4"
  }
 },
 "nbformat": 4,
 "nbformat_minor": 5
}
