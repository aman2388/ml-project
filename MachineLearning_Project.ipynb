{
 "cells": [
  {
   "cell_type": "markdown",
   "id": "9042dfe3-193e-4781-a132-3e315d0aa7a9",
   "metadata": {},
   "source": [
    "# FIN42100 Machine Learning for Finance: Group Assignement\n",
    "## Bank Telemarketing and Machine Learning"
   ]
  },
  {
   "cell_type": "code",
   "execution_count": 1,
   "id": "1768480c-fb25-4275-9a95-b93fa986f047",
   "metadata": {
    "tags": []
   },
   "outputs": [],
   "source": [
    "import numpy as np\n",
    "import pandas as pd\n",
    "import matplotlib.pyplot as plt "
   ]
  },
  {
   "cell_type": "markdown",
   "id": "5e6fa2f1-fc42-4083-a08f-5c5b3dd500b0",
   "metadata": {},
   "source": [
    "**TASK 1:**\n",
    "\n",
    "Perform and report exploratory data analytics in the data (e.g. visuals, descriptive statistics). State any observations which are pertinent to the purpose of this report, i.e., to inform a predictive model which can guide telephonic marketing."
   ]
  },
  {
   "cell_type": "code",
   "execution_count": 2,
   "id": "ee213b82-39f1-403b-b3a4-2048d967c1fb",
   "metadata": {
    "tags": []
   },
   "outputs": [],
   "source": [
    "bank_data = pd.read_csv('European_bank_marketing.csv')"
   ]
  },
  {
   "cell_type": "code",
   "execution_count": 3,
   "id": "25b2bf02-ecf1-4392-9c24-6f3d963e6ca7",
   "metadata": {
    "tags": []
   },
   "outputs": [
    {
     "data": {
      "text/html": [
       "<div>\n",
       "<style scoped>\n",
       "    .dataframe tbody tr th:only-of-type {\n",
       "        vertical-align: middle;\n",
       "    }\n",
       "\n",
       "    .dataframe tbody tr th {\n",
       "        vertical-align: top;\n",
       "    }\n",
       "\n",
       "    .dataframe thead th {\n",
       "        text-align: right;\n",
       "    }\n",
       "</style>\n",
       "<table border=\"1\" class=\"dataframe\">\n",
       "  <thead>\n",
       "    <tr style=\"text-align: right;\">\n",
       "      <th></th>\n",
       "      <th>age</th>\n",
       "      <th>job</th>\n",
       "      <th>marital</th>\n",
       "      <th>education</th>\n",
       "      <th>default</th>\n",
       "      <th>housing</th>\n",
       "      <th>loan</th>\n",
       "      <th>contact</th>\n",
       "      <th>month</th>\n",
       "      <th>day_of_week</th>\n",
       "      <th>...</th>\n",
       "      <th>pdays</th>\n",
       "      <th>previous</th>\n",
       "      <th>poutcome</th>\n",
       "      <th>emp.var.rate</th>\n",
       "      <th>cons.price.idx</th>\n",
       "      <th>cons.conf.idx</th>\n",
       "      <th>euribor3m</th>\n",
       "      <th>nr.employed</th>\n",
       "      <th>term_deposit</th>\n",
       "      <th>Ethnicity_African</th>\n",
       "    </tr>\n",
       "  </thead>\n",
       "  <tbody>\n",
       "    <tr>\n",
       "      <th>0</th>\n",
       "      <td>56</td>\n",
       "      <td>housemaid</td>\n",
       "      <td>married</td>\n",
       "      <td>basic.4y</td>\n",
       "      <td>no</td>\n",
       "      <td>no</td>\n",
       "      <td>no</td>\n",
       "      <td>telephone</td>\n",
       "      <td>may</td>\n",
       "      <td>mon</td>\n",
       "      <td>...</td>\n",
       "      <td>999</td>\n",
       "      <td>0</td>\n",
       "      <td>nonexistent</td>\n",
       "      <td>1.1</td>\n",
       "      <td>93.994</td>\n",
       "      <td>-36.4</td>\n",
       "      <td>4.857</td>\n",
       "      <td>5191.0</td>\n",
       "      <td>0</td>\n",
       "      <td>0</td>\n",
       "    </tr>\n",
       "    <tr>\n",
       "      <th>1</th>\n",
       "      <td>57</td>\n",
       "      <td>services</td>\n",
       "      <td>married</td>\n",
       "      <td>high.school</td>\n",
       "      <td>unknown</td>\n",
       "      <td>no</td>\n",
       "      <td>no</td>\n",
       "      <td>telephone</td>\n",
       "      <td>may</td>\n",
       "      <td>mon</td>\n",
       "      <td>...</td>\n",
       "      <td>999</td>\n",
       "      <td>0</td>\n",
       "      <td>nonexistent</td>\n",
       "      <td>1.1</td>\n",
       "      <td>93.994</td>\n",
       "      <td>-36.4</td>\n",
       "      <td>4.857</td>\n",
       "      <td>5191.0</td>\n",
       "      <td>0</td>\n",
       "      <td>0</td>\n",
       "    </tr>\n",
       "    <tr>\n",
       "      <th>2</th>\n",
       "      <td>37</td>\n",
       "      <td>services</td>\n",
       "      <td>married</td>\n",
       "      <td>high.school</td>\n",
       "      <td>no</td>\n",
       "      <td>yes</td>\n",
       "      <td>no</td>\n",
       "      <td>telephone</td>\n",
       "      <td>may</td>\n",
       "      <td>mon</td>\n",
       "      <td>...</td>\n",
       "      <td>999</td>\n",
       "      <td>0</td>\n",
       "      <td>nonexistent</td>\n",
       "      <td>1.1</td>\n",
       "      <td>93.994</td>\n",
       "      <td>-36.4</td>\n",
       "      <td>4.857</td>\n",
       "      <td>5191.0</td>\n",
       "      <td>0</td>\n",
       "      <td>0</td>\n",
       "    </tr>\n",
       "    <tr>\n",
       "      <th>3</th>\n",
       "      <td>40</td>\n",
       "      <td>admin.</td>\n",
       "      <td>married</td>\n",
       "      <td>basic.6y</td>\n",
       "      <td>no</td>\n",
       "      <td>no</td>\n",
       "      <td>no</td>\n",
       "      <td>telephone</td>\n",
       "      <td>may</td>\n",
       "      <td>mon</td>\n",
       "      <td>...</td>\n",
       "      <td>999</td>\n",
       "      <td>0</td>\n",
       "      <td>nonexistent</td>\n",
       "      <td>1.1</td>\n",
       "      <td>93.994</td>\n",
       "      <td>-36.4</td>\n",
       "      <td>4.857</td>\n",
       "      <td>5191.0</td>\n",
       "      <td>0</td>\n",
       "      <td>0</td>\n",
       "    </tr>\n",
       "    <tr>\n",
       "      <th>4</th>\n",
       "      <td>56</td>\n",
       "      <td>services</td>\n",
       "      <td>married</td>\n",
       "      <td>high.school</td>\n",
       "      <td>no</td>\n",
       "      <td>no</td>\n",
       "      <td>yes</td>\n",
       "      <td>telephone</td>\n",
       "      <td>may</td>\n",
       "      <td>mon</td>\n",
       "      <td>...</td>\n",
       "      <td>999</td>\n",
       "      <td>0</td>\n",
       "      <td>nonexistent</td>\n",
       "      <td>1.1</td>\n",
       "      <td>93.994</td>\n",
       "      <td>-36.4</td>\n",
       "      <td>4.857</td>\n",
       "      <td>5191.0</td>\n",
       "      <td>0</td>\n",
       "      <td>0</td>\n",
       "    </tr>\n",
       "    <tr>\n",
       "      <th>...</th>\n",
       "      <td>...</td>\n",
       "      <td>...</td>\n",
       "      <td>...</td>\n",
       "      <td>...</td>\n",
       "      <td>...</td>\n",
       "      <td>...</td>\n",
       "      <td>...</td>\n",
       "      <td>...</td>\n",
       "      <td>...</td>\n",
       "      <td>...</td>\n",
       "      <td>...</td>\n",
       "      <td>...</td>\n",
       "      <td>...</td>\n",
       "      <td>...</td>\n",
       "      <td>...</td>\n",
       "      <td>...</td>\n",
       "      <td>...</td>\n",
       "      <td>...</td>\n",
       "      <td>...</td>\n",
       "      <td>...</td>\n",
       "      <td>...</td>\n",
       "    </tr>\n",
       "    <tr>\n",
       "      <th>41183</th>\n",
       "      <td>73</td>\n",
       "      <td>retired</td>\n",
       "      <td>married</td>\n",
       "      <td>professional.course</td>\n",
       "      <td>no</td>\n",
       "      <td>yes</td>\n",
       "      <td>no</td>\n",
       "      <td>cellular</td>\n",
       "      <td>nov</td>\n",
       "      <td>fri</td>\n",
       "      <td>...</td>\n",
       "      <td>999</td>\n",
       "      <td>0</td>\n",
       "      <td>nonexistent</td>\n",
       "      <td>-1.1</td>\n",
       "      <td>94.767</td>\n",
       "      <td>-50.8</td>\n",
       "      <td>1.028</td>\n",
       "      <td>4963.6</td>\n",
       "      <td>1</td>\n",
       "      <td>0</td>\n",
       "    </tr>\n",
       "    <tr>\n",
       "      <th>41184</th>\n",
       "      <td>46</td>\n",
       "      <td>blue-collar</td>\n",
       "      <td>married</td>\n",
       "      <td>professional.course</td>\n",
       "      <td>no</td>\n",
       "      <td>no</td>\n",
       "      <td>no</td>\n",
       "      <td>cellular</td>\n",
       "      <td>nov</td>\n",
       "      <td>fri</td>\n",
       "      <td>...</td>\n",
       "      <td>999</td>\n",
       "      <td>0</td>\n",
       "      <td>nonexistent</td>\n",
       "      <td>-1.1</td>\n",
       "      <td>94.767</td>\n",
       "      <td>-50.8</td>\n",
       "      <td>1.028</td>\n",
       "      <td>4963.6</td>\n",
       "      <td>0</td>\n",
       "      <td>0</td>\n",
       "    </tr>\n",
       "    <tr>\n",
       "      <th>41185</th>\n",
       "      <td>56</td>\n",
       "      <td>retired</td>\n",
       "      <td>married</td>\n",
       "      <td>university.degree</td>\n",
       "      <td>no</td>\n",
       "      <td>yes</td>\n",
       "      <td>no</td>\n",
       "      <td>cellular</td>\n",
       "      <td>nov</td>\n",
       "      <td>fri</td>\n",
       "      <td>...</td>\n",
       "      <td>999</td>\n",
       "      <td>0</td>\n",
       "      <td>nonexistent</td>\n",
       "      <td>-1.1</td>\n",
       "      <td>94.767</td>\n",
       "      <td>-50.8</td>\n",
       "      <td>1.028</td>\n",
       "      <td>4963.6</td>\n",
       "      <td>0</td>\n",
       "      <td>0</td>\n",
       "    </tr>\n",
       "    <tr>\n",
       "      <th>41186</th>\n",
       "      <td>44</td>\n",
       "      <td>technician</td>\n",
       "      <td>married</td>\n",
       "      <td>professional.course</td>\n",
       "      <td>no</td>\n",
       "      <td>no</td>\n",
       "      <td>no</td>\n",
       "      <td>cellular</td>\n",
       "      <td>nov</td>\n",
       "      <td>fri</td>\n",
       "      <td>...</td>\n",
       "      <td>999</td>\n",
       "      <td>0</td>\n",
       "      <td>nonexistent</td>\n",
       "      <td>-1.1</td>\n",
       "      <td>94.767</td>\n",
       "      <td>-50.8</td>\n",
       "      <td>1.028</td>\n",
       "      <td>4963.6</td>\n",
       "      <td>1</td>\n",
       "      <td>0</td>\n",
       "    </tr>\n",
       "    <tr>\n",
       "      <th>41187</th>\n",
       "      <td>74</td>\n",
       "      <td>retired</td>\n",
       "      <td>married</td>\n",
       "      <td>professional.course</td>\n",
       "      <td>no</td>\n",
       "      <td>yes</td>\n",
       "      <td>no</td>\n",
       "      <td>cellular</td>\n",
       "      <td>nov</td>\n",
       "      <td>fri</td>\n",
       "      <td>...</td>\n",
       "      <td>999</td>\n",
       "      <td>1</td>\n",
       "      <td>failure</td>\n",
       "      <td>-1.1</td>\n",
       "      <td>94.767</td>\n",
       "      <td>-50.8</td>\n",
       "      <td>1.028</td>\n",
       "      <td>4963.6</td>\n",
       "      <td>0</td>\n",
       "      <td>0</td>\n",
       "    </tr>\n",
       "  </tbody>\n",
       "</table>\n",
       "<p>41188 rows × 22 columns</p>\n",
       "</div>"
      ],
      "text/plain": [
       "       age          job  marital            education  default housing loan  \\\n",
       "0       56    housemaid  married             basic.4y       no      no   no   \n",
       "1       57     services  married          high.school  unknown      no   no   \n",
       "2       37     services  married          high.school       no     yes   no   \n",
       "3       40       admin.  married             basic.6y       no      no   no   \n",
       "4       56     services  married          high.school       no      no  yes   \n",
       "...    ...          ...      ...                  ...      ...     ...  ...   \n",
       "41183   73      retired  married  professional.course       no     yes   no   \n",
       "41184   46  blue-collar  married  professional.course       no      no   no   \n",
       "41185   56      retired  married    university.degree       no     yes   no   \n",
       "41186   44   technician  married  professional.course       no      no   no   \n",
       "41187   74      retired  married  professional.course       no     yes   no   \n",
       "\n",
       "         contact month day_of_week  ...  pdays  previous     poutcome  \\\n",
       "0      telephone   may         mon  ...    999         0  nonexistent   \n",
       "1      telephone   may         mon  ...    999         0  nonexistent   \n",
       "2      telephone   may         mon  ...    999         0  nonexistent   \n",
       "3      telephone   may         mon  ...    999         0  nonexistent   \n",
       "4      telephone   may         mon  ...    999         0  nonexistent   \n",
       "...          ...   ...         ...  ...    ...       ...          ...   \n",
       "41183   cellular   nov         fri  ...    999         0  nonexistent   \n",
       "41184   cellular   nov         fri  ...    999         0  nonexistent   \n",
       "41185   cellular   nov         fri  ...    999         0  nonexistent   \n",
       "41186   cellular   nov         fri  ...    999         0  nonexistent   \n",
       "41187   cellular   nov         fri  ...    999         1      failure   \n",
       "\n",
       "       emp.var.rate cons.price.idx  cons.conf.idx  euribor3m  nr.employed  \\\n",
       "0               1.1         93.994          -36.4      4.857       5191.0   \n",
       "1               1.1         93.994          -36.4      4.857       5191.0   \n",
       "2               1.1         93.994          -36.4      4.857       5191.0   \n",
       "3               1.1         93.994          -36.4      4.857       5191.0   \n",
       "4               1.1         93.994          -36.4      4.857       5191.0   \n",
       "...             ...            ...            ...        ...          ...   \n",
       "41183          -1.1         94.767          -50.8      1.028       4963.6   \n",
       "41184          -1.1         94.767          -50.8      1.028       4963.6   \n",
       "41185          -1.1         94.767          -50.8      1.028       4963.6   \n",
       "41186          -1.1         94.767          -50.8      1.028       4963.6   \n",
       "41187          -1.1         94.767          -50.8      1.028       4963.6   \n",
       "\n",
       "       term_deposit  Ethnicity_African  \n",
       "0                 0                  0  \n",
       "1                 0                  0  \n",
       "2                 0                  0  \n",
       "3                 0                  0  \n",
       "4                 0                  0  \n",
       "...             ...                ...  \n",
       "41183             1                  0  \n",
       "41184             0                  0  \n",
       "41185             0                  0  \n",
       "41186             1                  0  \n",
       "41187             0                  0  \n",
       "\n",
       "[41188 rows x 22 columns]"
      ]
     },
     "execution_count": 3,
     "metadata": {},
     "output_type": "execute_result"
    }
   ],
   "source": [
    "bank_data"
   ]
  },
  {
   "cell_type": "code",
   "execution_count": 4,
   "id": "a97a78f4-ec70-4057-8b11-41acd0b63469",
   "metadata": {
    "tags": []
   },
   "outputs": [
    {
     "data": {
      "text/plain": [
       "(41188, 22)"
      ]
     },
     "execution_count": 4,
     "metadata": {},
     "output_type": "execute_result"
    }
   ],
   "source": [
    "bank_data.shape"
   ]
  },
  {
   "cell_type": "code",
   "execution_count": 5,
   "id": "845d8153-e7e1-43cd-985a-fcd0f08747cb",
   "metadata": {
    "tags": []
   },
   "outputs": [
    {
     "data": {
      "text/plain": [
       "Index(['age', 'job', 'marital', 'education', 'default', 'housing', 'loan',\n",
       "       'contact', 'month', 'day_of_week', 'duration', 'campaign', 'pdays',\n",
       "       'previous', 'poutcome', 'emp.var.rate', 'cons.price.idx',\n",
       "       'cons.conf.idx', 'euribor3m', 'nr.employed', 'term_deposit',\n",
       "       'Ethnicity_African'],\n",
       "      dtype='object')"
      ]
     },
     "execution_count": 5,
     "metadata": {},
     "output_type": "execute_result"
    }
   ],
   "source": [
    "bank_data.columns"
   ]
  },
  {
   "cell_type": "code",
   "execution_count": 6,
   "id": "2a94ed8d-b41a-4d77-ab4c-1be1183af164",
   "metadata": {
    "tags": []
   },
   "outputs": [
    {
     "data": {
      "text/plain": [
       "age                  0\n",
       "job                  0\n",
       "term_deposit         0\n",
       "nr.employed          0\n",
       "euribor3m            0\n",
       "cons.conf.idx        0\n",
       "cons.price.idx       0\n",
       "emp.var.rate         0\n",
       "poutcome             0\n",
       "previous             0\n",
       "pdays                0\n",
       "campaign             0\n",
       "duration             0\n",
       "day_of_week          0\n",
       "month                0\n",
       "contact              0\n",
       "loan                 0\n",
       "housing              0\n",
       "default              0\n",
       "education            0\n",
       "marital              0\n",
       "Ethnicity_African    0\n",
       "dtype: int64"
      ]
     },
     "execution_count": 6,
     "metadata": {},
     "output_type": "execute_result"
    }
   ],
   "source": [
    "bank_data.isnull().sum().sort_values(ascending = False)"
   ]
  },
  {
   "cell_type": "markdown",
   "id": "db034743-c47e-48e4-957e-55e35a37c548",
   "metadata": {},
   "source": [
    "We have no instance of missing values in the dataset."
   ]
  },
  {
   "cell_type": "code",
   "execution_count": 7,
   "id": "065da511-514e-4a59-a353-eab93c464ac6",
   "metadata": {
    "tags": []
   },
   "outputs": [
    {
     "data": {
      "text/plain": [
       "age                    78\n",
       "job                    12\n",
       "marital                 4\n",
       "education               8\n",
       "default                 3\n",
       "housing                 3\n",
       "loan                    3\n",
       "contact                 2\n",
       "month                  10\n",
       "day_of_week             5\n",
       "duration             1544\n",
       "campaign               42\n",
       "pdays                  27\n",
       "previous                8\n",
       "poutcome                3\n",
       "emp.var.rate           10\n",
       "cons.price.idx         26\n",
       "cons.conf.idx          26\n",
       "euribor3m             316\n",
       "nr.employed            11\n",
       "term_deposit            2\n",
       "Ethnicity_African       2\n",
       "dtype: int64"
      ]
     },
     "execution_count": 7,
     "metadata": {},
     "output_type": "execute_result"
    }
   ],
   "source": [
    "bank_data.nunique()"
   ]
  },
  {
   "cell_type": "code",
   "execution_count": 8,
   "id": "ff343e6a-4a4b-4aa6-a5b4-9a27302f9888",
   "metadata": {
    "tags": []
   },
   "outputs": [
    {
     "data": {
      "text/html": [
       "<div>\n",
       "<style scoped>\n",
       "    .dataframe tbody tr th:only-of-type {\n",
       "        vertical-align: middle;\n",
       "    }\n",
       "\n",
       "    .dataframe tbody tr th {\n",
       "        vertical-align: top;\n",
       "    }\n",
       "\n",
       "    .dataframe thead th {\n",
       "        text-align: right;\n",
       "    }\n",
       "</style>\n",
       "<table border=\"1\" class=\"dataframe\">\n",
       "  <thead>\n",
       "    <tr style=\"text-align: right;\">\n",
       "      <th></th>\n",
       "      <th>age</th>\n",
       "      <th>duration</th>\n",
       "      <th>campaign</th>\n",
       "      <th>pdays</th>\n",
       "      <th>previous</th>\n",
       "      <th>emp.var.rate</th>\n",
       "      <th>cons.price.idx</th>\n",
       "      <th>cons.conf.idx</th>\n",
       "      <th>euribor3m</th>\n",
       "      <th>nr.employed</th>\n",
       "      <th>term_deposit</th>\n",
       "      <th>Ethnicity_African</th>\n",
       "    </tr>\n",
       "  </thead>\n",
       "  <tbody>\n",
       "    <tr>\n",
       "      <th>count</th>\n",
       "      <td>41188.00000</td>\n",
       "      <td>41188.000000</td>\n",
       "      <td>41188.000000</td>\n",
       "      <td>41188.000000</td>\n",
       "      <td>41188.000000</td>\n",
       "      <td>41188.000000</td>\n",
       "      <td>41188.000000</td>\n",
       "      <td>41188.000000</td>\n",
       "      <td>41188.000000</td>\n",
       "      <td>41188.000000</td>\n",
       "      <td>41188.000000</td>\n",
       "      <td>41188.000000</td>\n",
       "    </tr>\n",
       "    <tr>\n",
       "      <th>mean</th>\n",
       "      <td>40.02406</td>\n",
       "      <td>258.285010</td>\n",
       "      <td>2.567593</td>\n",
       "      <td>962.475454</td>\n",
       "      <td>0.172963</td>\n",
       "      <td>0.081886</td>\n",
       "      <td>93.575664</td>\n",
       "      <td>-40.502600</td>\n",
       "      <td>3.621291</td>\n",
       "      <td>5167.035911</td>\n",
       "      <td>0.112654</td>\n",
       "      <td>0.029353</td>\n",
       "    </tr>\n",
       "    <tr>\n",
       "      <th>std</th>\n",
       "      <td>10.42125</td>\n",
       "      <td>259.279249</td>\n",
       "      <td>2.770014</td>\n",
       "      <td>186.910907</td>\n",
       "      <td>0.494901</td>\n",
       "      <td>1.570960</td>\n",
       "      <td>0.578840</td>\n",
       "      <td>4.628198</td>\n",
       "      <td>1.734447</td>\n",
       "      <td>72.251528</td>\n",
       "      <td>0.316173</td>\n",
       "      <td>0.168797</td>\n",
       "    </tr>\n",
       "    <tr>\n",
       "      <th>min</th>\n",
       "      <td>17.00000</td>\n",
       "      <td>0.000000</td>\n",
       "      <td>1.000000</td>\n",
       "      <td>0.000000</td>\n",
       "      <td>0.000000</td>\n",
       "      <td>-3.400000</td>\n",
       "      <td>92.201000</td>\n",
       "      <td>-50.800000</td>\n",
       "      <td>0.634000</td>\n",
       "      <td>4963.600000</td>\n",
       "      <td>0.000000</td>\n",
       "      <td>0.000000</td>\n",
       "    </tr>\n",
       "    <tr>\n",
       "      <th>25%</th>\n",
       "      <td>32.00000</td>\n",
       "      <td>102.000000</td>\n",
       "      <td>1.000000</td>\n",
       "      <td>999.000000</td>\n",
       "      <td>0.000000</td>\n",
       "      <td>-1.800000</td>\n",
       "      <td>93.075000</td>\n",
       "      <td>-42.700000</td>\n",
       "      <td>1.344000</td>\n",
       "      <td>5099.100000</td>\n",
       "      <td>0.000000</td>\n",
       "      <td>0.000000</td>\n",
       "    </tr>\n",
       "    <tr>\n",
       "      <th>50%</th>\n",
       "      <td>38.00000</td>\n",
       "      <td>180.000000</td>\n",
       "      <td>2.000000</td>\n",
       "      <td>999.000000</td>\n",
       "      <td>0.000000</td>\n",
       "      <td>1.100000</td>\n",
       "      <td>93.749000</td>\n",
       "      <td>-41.800000</td>\n",
       "      <td>4.857000</td>\n",
       "      <td>5191.000000</td>\n",
       "      <td>0.000000</td>\n",
       "      <td>0.000000</td>\n",
       "    </tr>\n",
       "    <tr>\n",
       "      <th>75%</th>\n",
       "      <td>47.00000</td>\n",
       "      <td>319.000000</td>\n",
       "      <td>3.000000</td>\n",
       "      <td>999.000000</td>\n",
       "      <td>0.000000</td>\n",
       "      <td>1.400000</td>\n",
       "      <td>93.994000</td>\n",
       "      <td>-36.400000</td>\n",
       "      <td>4.961000</td>\n",
       "      <td>5228.100000</td>\n",
       "      <td>0.000000</td>\n",
       "      <td>0.000000</td>\n",
       "    </tr>\n",
       "    <tr>\n",
       "      <th>max</th>\n",
       "      <td>98.00000</td>\n",
       "      <td>4918.000000</td>\n",
       "      <td>56.000000</td>\n",
       "      <td>999.000000</td>\n",
       "      <td>7.000000</td>\n",
       "      <td>1.400000</td>\n",
       "      <td>94.767000</td>\n",
       "      <td>-26.900000</td>\n",
       "      <td>5.045000</td>\n",
       "      <td>5228.100000</td>\n",
       "      <td>1.000000</td>\n",
       "      <td>1.000000</td>\n",
       "    </tr>\n",
       "  </tbody>\n",
       "</table>\n",
       "</div>"
      ],
      "text/plain": [
       "               age      duration      campaign         pdays      previous  \\\n",
       "count  41188.00000  41188.000000  41188.000000  41188.000000  41188.000000   \n",
       "mean      40.02406    258.285010      2.567593    962.475454      0.172963   \n",
       "std       10.42125    259.279249      2.770014    186.910907      0.494901   \n",
       "min       17.00000      0.000000      1.000000      0.000000      0.000000   \n",
       "25%       32.00000    102.000000      1.000000    999.000000      0.000000   \n",
       "50%       38.00000    180.000000      2.000000    999.000000      0.000000   \n",
       "75%       47.00000    319.000000      3.000000    999.000000      0.000000   \n",
       "max       98.00000   4918.000000     56.000000    999.000000      7.000000   \n",
       "\n",
       "       emp.var.rate  cons.price.idx  cons.conf.idx     euribor3m  \\\n",
       "count  41188.000000    41188.000000   41188.000000  41188.000000   \n",
       "mean       0.081886       93.575664     -40.502600      3.621291   \n",
       "std        1.570960        0.578840       4.628198      1.734447   \n",
       "min       -3.400000       92.201000     -50.800000      0.634000   \n",
       "25%       -1.800000       93.075000     -42.700000      1.344000   \n",
       "50%        1.100000       93.749000     -41.800000      4.857000   \n",
       "75%        1.400000       93.994000     -36.400000      4.961000   \n",
       "max        1.400000       94.767000     -26.900000      5.045000   \n",
       "\n",
       "        nr.employed  term_deposit  Ethnicity_African  \n",
       "count  41188.000000  41188.000000       41188.000000  \n",
       "mean    5167.035911      0.112654           0.029353  \n",
       "std       72.251528      0.316173           0.168797  \n",
       "min     4963.600000      0.000000           0.000000  \n",
       "25%     5099.100000      0.000000           0.000000  \n",
       "50%     5191.000000      0.000000           0.000000  \n",
       "75%     5228.100000      0.000000           0.000000  \n",
       "max     5228.100000      1.000000           1.000000  "
      ]
     },
     "execution_count": 8,
     "metadata": {},
     "output_type": "execute_result"
    }
   ],
   "source": [
    "bank_data.describe()"
   ]
  },
  {
   "cell_type": "markdown",
   "id": "303f8ea0-c90a-4593-a581-c2890e10d436",
   "metadata": {},
   "source": [
    "**Term Deposit**\n",
    "\n",
    "*Has the client subscribed a term deposit? 1 if yes, 0 if no.*"
   ]
  },
  {
   "cell_type": "code",
   "execution_count": 9,
   "id": "f3e509f4-91cb-4a75-9e3d-f54e81106d46",
   "metadata": {
    "tags": []
   },
   "outputs": [
    {
     "data": {
      "text/plain": [
       "0    36548\n",
       "1     4640\n",
       "Name: term_deposit, dtype: int64"
      ]
     },
     "execution_count": 9,
     "metadata": {},
     "output_type": "execute_result"
    }
   ],
   "source": [
    "bank_data.term_deposit.value_counts()"
   ]
  },
  {
   "cell_type": "markdown",
   "id": "8639b372-631c-40ed-952a-9667037f866e",
   "metadata": {},
   "source": [
    "We have an unbalanced class of the outcome variable where we have more instances of people not subscribing to term deposit over people subscribing to a term deposit through the marketing campaign."
   ]
  },
  {
   "cell_type": "markdown",
   "id": "318549ee-f7e9-4b52-a104-845597719826",
   "metadata": {},
   "source": [
    "**Age**\n",
    "\n",
    "*Age of the customer in years (Numeric)*"
   ]
  },
  {
   "cell_type": "code",
   "execution_count": 10,
   "id": "1e5f79c1-8f0e-4079-aa06-c4f0e8a0abe5",
   "metadata": {
    "tags": []
   },
   "outputs": [
    {
     "data": {
      "image/png": "[encoded data removed]",
      "text/plain": [
       "<Figure size 400x300 with 1 Axes>"
      ]
     },
     "metadata": {},
     "output_type": "display_data"
    }
   ],
   "source": [
    "plt.figure(figsize=(4,3))\n",
    "plt.hist(bank_data.age,bins=50)\n",
    "plt.title('Age distribution of Customers',fontsize=6)\n",
    "plt.xlabel('Age',fontsize=6)\n",
    "plt.ylabel('No of Customers',fontsize=6)\n",
    "plt.xticks(fontsize=6)\n",
    "plt.yticks(fontsize=6)\n",
    "plt.show()"
   ]
  },
  {
   "cell_type": "code",
   "execution_count": 11,
   "id": "0f83ccf7-c928-4273-b223-0f983abaff65",
   "metadata": {
    "tags": []
   },
   "outputs": [
    {
     "data": {
      "text/plain": [
       "40.02406040594348"
      ]
     },
     "execution_count": 11,
     "metadata": {},
     "output_type": "execute_result"
    }
   ],
   "source": [
    "bank_data.age.mean()"
   ]
  },
  {
   "cell_type": "markdown",
   "id": "1c9c5ea6-1c17-4afb-a663-aa4725e84c48",
   "metadata": {},
   "source": [
    "Mean Age of customers is 40 years."
   ]
  },
  {
   "cell_type": "markdown",
   "id": "31a34389-2106-4ff4-9efa-6b74d513a807",
   "metadata": {},
   "source": [
    "**Job**\n",
    "\n",
    "*Job Status (Categorical)*"
   ]
  },
  {
   "cell_type": "code",
   "execution_count": 12,
   "id": "2742e1cb-6543-4c9e-87b8-3bdc8a96fd3e",
   "metadata": {
    "tags": []
   },
   "outputs": [
    {
     "data": {
      "text/plain": [
       "admin.           25.303486\n",
       "blue-collar      22.467709\n",
       "technician       16.371273\n",
       "services          9.636302\n",
       "management        7.099155\n",
       "retired           4.175974\n",
       "entrepreneur      3.535010\n",
       "self-employed     3.450034\n",
       "housemaid         2.573565\n",
       "unemployed        2.461882\n",
       "student           2.124405\n",
       "unknown           0.801204\n",
       "Name: job, dtype: float64"
      ]
     },
     "execution_count": 12,
     "metadata": {},
     "output_type": "execute_result"
    }
   ],
   "source": [
    "(bank_data.job.value_counts()/bank_data.shape[0])*100"
   ]
  },
  {
   "cell_type": "markdown",
   "id": "ff797152-5143-423e-8bee-817517deb182",
   "metadata": {},
   "source": [
    "* The top five jobs for volume - Admin, Blue-Collar, Technician, Services and Management account for ~80% of the data.\n",
    "* The proportion of 'unknown' job-status is <1%."
   ]
  },
  {
   "cell_type": "code",
   "execution_count": 13,
   "id": "2f88b531-d00b-4882-806f-24794ba59c20",
   "metadata": {
    "tags": []
   },
   "outputs": [
    {
     "data": {
      "image/png": "[encoded data removed]",
      "text/plain": [
       "<Figure size 700x300 with 1 Axes>"
      ]
     },
     "metadata": {},
     "output_type": "display_data"
    }
   ],
   "source": [
    "pd.crosstab(bank_data.job, bank_data.term_deposit).plot(kind='bar',fontsize=6, figsize=(7,3))\n",
    "plt.xticks(rotation=25)\n",
    "plt.xlabel('Job', fontsize=8)\n",
    "plt.ylabel('Number of customers', fontsize=8)\n",
    "plt.legend(labels=['Not Subscribed','Subscribed'],loc='upper right',fontsize=8)\n",
    "plt.title('Distribution of customer Term Deposit Subscription by Job',fontsize=8)\n",
    "plt.show()"
   ]
  },
  {
   "cell_type": "code",
   "execution_count": 14,
   "id": "c70f838d-ef61-450a-a1f9-e0077fb0287d",
   "metadata": {
    "tags": []
   },
   "outputs": [
    {
     "data": {
      "text/html": [
       "<div>\n",
       "<style scoped>\n",
       "    .dataframe tbody tr th:only-of-type {\n",
       "        vertical-align: middle;\n",
       "    }\n",
       "\n",
       "    .dataframe tbody tr th {\n",
       "        vertical-align: top;\n",
       "    }\n",
       "\n",
       "    .dataframe thead th {\n",
       "        text-align: right;\n",
       "    }\n",
       "</style>\n",
       "<table border=\"1\" class=\"dataframe\">\n",
       "  <thead>\n",
       "    <tr style=\"text-align: right;\">\n",
       "      <th>term_deposit</th>\n",
       "      <th>0</th>\n",
       "      <th>1</th>\n",
       "    </tr>\n",
       "    <tr>\n",
       "      <th>job</th>\n",
       "      <th></th>\n",
       "      <th></th>\n",
       "    </tr>\n",
       "  </thead>\n",
       "  <tbody>\n",
       "    <tr>\n",
       "      <th>admin.</th>\n",
       "      <td>0.870274</td>\n",
       "      <td>0.129726</td>\n",
       "    </tr>\n",
       "    <tr>\n",
       "      <th>blue-collar</th>\n",
       "      <td>0.931057</td>\n",
       "      <td>0.068943</td>\n",
       "    </tr>\n",
       "    <tr>\n",
       "      <th>entrepreneur</th>\n",
       "      <td>0.914835</td>\n",
       "      <td>0.085165</td>\n",
       "    </tr>\n",
       "    <tr>\n",
       "      <th>housemaid</th>\n",
       "      <td>0.900000</td>\n",
       "      <td>0.100000</td>\n",
       "    </tr>\n",
       "    <tr>\n",
       "      <th>management</th>\n",
       "      <td>0.887825</td>\n",
       "      <td>0.112175</td>\n",
       "    </tr>\n",
       "    <tr>\n",
       "      <th>retired</th>\n",
       "      <td>0.747674</td>\n",
       "      <td>0.252326</td>\n",
       "    </tr>\n",
       "    <tr>\n",
       "      <th>self-employed</th>\n",
       "      <td>0.895144</td>\n",
       "      <td>0.104856</td>\n",
       "    </tr>\n",
       "    <tr>\n",
       "      <th>services</th>\n",
       "      <td>0.918619</td>\n",
       "      <td>0.081381</td>\n",
       "    </tr>\n",
       "    <tr>\n",
       "      <th>student</th>\n",
       "      <td>0.685714</td>\n",
       "      <td>0.314286</td>\n",
       "    </tr>\n",
       "    <tr>\n",
       "      <th>technician</th>\n",
       "      <td>0.891740</td>\n",
       "      <td>0.108260</td>\n",
       "    </tr>\n",
       "    <tr>\n",
       "      <th>unemployed</th>\n",
       "      <td>0.857988</td>\n",
       "      <td>0.142012</td>\n",
       "    </tr>\n",
       "    <tr>\n",
       "      <th>unknown</th>\n",
       "      <td>0.887879</td>\n",
       "      <td>0.112121</td>\n",
       "    </tr>\n",
       "    <tr>\n",
       "      <th>All</th>\n",
       "      <td>0.887346</td>\n",
       "      <td>0.112654</td>\n",
       "    </tr>\n",
       "  </tbody>\n",
       "</table>\n",
       "</div>"
      ],
      "text/plain": [
       "term_deposit          0         1\n",
       "job                              \n",
       "admin.         0.870274  0.129726\n",
       "blue-collar    0.931057  0.068943\n",
       "entrepreneur   0.914835  0.085165\n",
       "housemaid      0.900000  0.100000\n",
       "management     0.887825  0.112175\n",
       "retired        0.747674  0.252326\n",
       "self-employed  0.895144  0.104856\n",
       "services       0.918619  0.081381\n",
       "student        0.685714  0.314286\n",
       "technician     0.891740  0.108260\n",
       "unemployed     0.857988  0.142012\n",
       "unknown        0.887879  0.112121\n",
       "All            0.887346  0.112654"
      ]
     },
     "execution_count": 14,
     "metadata": {},
     "output_type": "execute_result"
    }
   ],
   "source": [
    "pd.crosstab(bank_data.job, bank_data.term_deposit, margins=True, normalize='index')"
   ]
  },
  {
   "cell_type": "markdown",
   "id": "52cdaba7-2258-4680-8c06-906b1145e377",
   "metadata": {},
   "source": [
    "Retired and Student customers have the highest proportion of subscribing customers."
   ]
  },
  {
   "cell_type": "markdown",
   "id": "94812049-d5f2-4ea7-9019-6729b599e293",
   "metadata": {},
   "source": [
    "**Marital Status**\n",
    "\n",
    "*Marital Status (Categorical)*"
   ]
  },
  {
   "cell_type": "code",
   "execution_count": 15,
   "id": "e05a070b-9193-45a1-9a1d-a36390120bb9",
   "metadata": {
    "tags": []
   },
   "outputs": [
    {
     "data": {
      "text/plain": [
       "married     60.522482\n",
       "single      28.085850\n",
       "divorced    11.197436\n",
       "unknown      0.194231\n",
       "Name: marital, dtype: float64"
      ]
     },
     "execution_count": 15,
     "metadata": {},
     "output_type": "execute_result"
    }
   ],
   "source": [
    "(bank_data.marital.value_counts()/bank_data.shape[0])*100"
   ]
  },
  {
   "cell_type": "markdown",
   "id": "974b0fe6-bc55-4c05-8450-84bb4b86adcf",
   "metadata": {},
   "source": [
    "Proportion of 'unknown' marital status is negligible. "
   ]
  },
  {
   "cell_type": "code",
   "execution_count": 16,
   "id": "77c90bca-90e7-44e6-9991-7816a2535167",
   "metadata": {
    "tags": []
   },
   "outputs": [
    {
     "data": {
      "image/png": "[encoded data removed]",
      "text/plain": [
       "<Figure size 600x300 with 1 Axes>"
      ]
     },
     "metadata": {},
     "output_type": "display_data"
    }
   ],
   "source": [
    "pd.crosstab(bank_data.marital, bank_data.term_deposit).plot(kind='bar',fontsize=6,figsize=(6,3))\n",
    "plt.xticks(rotation=25)\n",
    "plt.xlabel('Marital Status', fontsize=8)\n",
    "plt.ylabel('Number of customers', fontsize=8)\n",
    "plt.legend(labels=['Not Subscribed','Subscribed'],loc='upper right',fontsize=8)\n",
    "plt.title('Distribution of customer Term Deposit Subscription by Marital Status',fontsize=8)\n",
    "plt.show()"
   ]
  },
  {
   "cell_type": "code",
   "execution_count": 17,
   "id": "3b749086-e599-4446-8ff5-e15272f2cc23",
   "metadata": {
    "tags": []
   },
   "outputs": [
    {
     "data": {
      "text/html": [
       "<div>\n",
       "<style scoped>\n",
       "    .dataframe tbody tr th:only-of-type {\n",
       "        vertical-align: middle;\n",
       "    }\n",
       "\n",
       "    .dataframe tbody tr th {\n",
       "        vertical-align: top;\n",
       "    }\n",
       "\n",
       "    .dataframe thead th {\n",
       "        text-align: right;\n",
       "    }\n",
       "</style>\n",
       "<table border=\"1\" class=\"dataframe\">\n",
       "  <thead>\n",
       "    <tr style=\"text-align: right;\">\n",
       "      <th>term_deposit</th>\n",
       "      <th>0</th>\n",
       "      <th>1</th>\n",
       "    </tr>\n",
       "    <tr>\n",
       "      <th>marital</th>\n",
       "      <th></th>\n",
       "      <th></th>\n",
       "    </tr>\n",
       "  </thead>\n",
       "  <tbody>\n",
       "    <tr>\n",
       "      <th>divorced</th>\n",
       "      <td>0.896791</td>\n",
       "      <td>0.103209</td>\n",
       "    </tr>\n",
       "    <tr>\n",
       "      <th>married</th>\n",
       "      <td>0.898427</td>\n",
       "      <td>0.101573</td>\n",
       "    </tr>\n",
       "    <tr>\n",
       "      <th>single</th>\n",
       "      <td>0.859959</td>\n",
       "      <td>0.140041</td>\n",
       "    </tr>\n",
       "    <tr>\n",
       "      <th>unknown</th>\n",
       "      <td>0.850000</td>\n",
       "      <td>0.150000</td>\n",
       "    </tr>\n",
       "    <tr>\n",
       "      <th>All</th>\n",
       "      <td>0.887346</td>\n",
       "      <td>0.112654</td>\n",
       "    </tr>\n",
       "  </tbody>\n",
       "</table>\n",
       "</div>"
      ],
      "text/plain": [
       "term_deposit         0         1\n",
       "marital                         \n",
       "divorced      0.896791  0.103209\n",
       "married       0.898427  0.101573\n",
       "single        0.859959  0.140041\n",
       "unknown       0.850000  0.150000\n",
       "All           0.887346  0.112654"
      ]
     },
     "execution_count": 17,
     "metadata": {},
     "output_type": "execute_result"
    }
   ],
   "source": [
    "pd.crosstab(bank_data.marital, bank_data.term_deposit, margins=True, normalize='index')"
   ]
  },
  {
   "cell_type": "markdown",
   "id": "cabc766b-0b3c-437c-8475-7ce8888f0125",
   "metadata": {},
   "source": [
    "Single customers are more likely than Divorced and Married customers to subscribe to the term deposit."
   ]
  },
  {
   "cell_type": "markdown",
   "id": "ff927169-e3b9-4533-99ab-d1175ee6717e",
   "metadata": {},
   "source": [
    "**Education**\n",
    "\n",
    "*Level of Education (Categorical)*"
   ]
  },
  {
   "cell_type": "code",
   "execution_count": 18,
   "id": "219e6e96-d9a8-4e0c-a2e9-54f21aff2024",
   "metadata": {
    "tags": []
   },
   "outputs": [
    {
     "data": {
      "text/plain": [
       "university.degree      29.542585\n",
       "high.school            23.101389\n",
       "basic.9y               14.676605\n",
       "professional.course    12.729436\n",
       "basic.4y               10.138875\n",
       "basic.6y                5.564728\n",
       "unknown                 4.202680\n",
       "illiterate              0.043702\n",
       "Name: education, dtype: float64"
      ]
     },
     "execution_count": 18,
     "metadata": {},
     "output_type": "execute_result"
    }
   ],
   "source": [
    "(bank_data.education.value_counts()/bank_data.shape[0])*100"
   ]
  },
  {
   "cell_type": "code",
   "execution_count": 19,
   "id": "6bd810cc-43da-4f47-8383-8b71deb67908",
   "metadata": {
    "tags": []
   },
   "outputs": [
    {
     "data": {
      "image/png": "[encoded data removed]",
      "text/plain": [
       "<Figure size 600x350 with 1 Axes>"
      ]
     },
     "metadata": {},
     "output_type": "display_data"
    }
   ],
   "source": [
    "pd.crosstab(bank_data.education, bank_data.term_deposit).plot(kind='bar',figsize=(6,3.5),fontsize=6)\n",
    "plt.xticks(rotation=25)\n",
    "plt.xlabel('Education', fontsize=8)\n",
    "plt.ylabel('Number of customers', fontsize=8)\n",
    "plt.legend(labels=['Not Subscribed','Subscribed'],loc='upper left',fontsize=8)\n",
    "plt.title('Distribution of customer Term Deposit Subscription by Education',fontsize=8)\n",
    "plt.show()"
   ]
  },
  {
   "cell_type": "code",
   "execution_count": 20,
   "id": "7973a017-afb8-4c0f-999a-fd00f4d3f60d",
   "metadata": {
    "tags": []
   },
   "outputs": [
    {
     "data": {
      "text/html": [
       "<div>\n",
       "<style scoped>\n",
       "    .dataframe tbody tr th:only-of-type {\n",
       "        vertical-align: middle;\n",
       "    }\n",
       "\n",
       "    .dataframe tbody tr th {\n",
       "        vertical-align: top;\n",
       "    }\n",
       "\n",
       "    .dataframe thead th {\n",
       "        text-align: right;\n",
       "    }\n",
       "</style>\n",
       "<table border=\"1\" class=\"dataframe\">\n",
       "  <thead>\n",
       "    <tr style=\"text-align: right;\">\n",
       "      <th>term_deposit</th>\n",
       "      <th>0</th>\n",
       "      <th>1</th>\n",
       "    </tr>\n",
       "    <tr>\n",
       "      <th>education</th>\n",
       "      <th></th>\n",
       "      <th></th>\n",
       "    </tr>\n",
       "  </thead>\n",
       "  <tbody>\n",
       "    <tr>\n",
       "      <th>basic.4y</th>\n",
       "      <td>0.897510</td>\n",
       "      <td>0.102490</td>\n",
       "    </tr>\n",
       "    <tr>\n",
       "      <th>basic.6y</th>\n",
       "      <td>0.917976</td>\n",
       "      <td>0.082024</td>\n",
       "    </tr>\n",
       "    <tr>\n",
       "      <th>basic.9y</th>\n",
       "      <td>0.921754</td>\n",
       "      <td>0.078246</td>\n",
       "    </tr>\n",
       "    <tr>\n",
       "      <th>high.school</th>\n",
       "      <td>0.891645</td>\n",
       "      <td>0.108355</td>\n",
       "    </tr>\n",
       "    <tr>\n",
       "      <th>illiterate</th>\n",
       "      <td>0.777778</td>\n",
       "      <td>0.222222</td>\n",
       "    </tr>\n",
       "    <tr>\n",
       "      <th>professional.course</th>\n",
       "      <td>0.886515</td>\n",
       "      <td>0.113485</td>\n",
       "    </tr>\n",
       "    <tr>\n",
       "      <th>university.degree</th>\n",
       "      <td>0.862755</td>\n",
       "      <td>0.137245</td>\n",
       "    </tr>\n",
       "    <tr>\n",
       "      <th>unknown</th>\n",
       "      <td>0.854997</td>\n",
       "      <td>0.145003</td>\n",
       "    </tr>\n",
       "    <tr>\n",
       "      <th>All</th>\n",
       "      <td>0.887346</td>\n",
       "      <td>0.112654</td>\n",
       "    </tr>\n",
       "  </tbody>\n",
       "</table>\n",
       "</div>"
      ],
      "text/plain": [
       "term_deposit                0         1\n",
       "education                              \n",
       "basic.4y             0.897510  0.102490\n",
       "basic.6y             0.917976  0.082024\n",
       "basic.9y             0.921754  0.078246\n",
       "high.school          0.891645  0.108355\n",
       "illiterate           0.777778  0.222222\n",
       "professional.course  0.886515  0.113485\n",
       "university.degree    0.862755  0.137245\n",
       "unknown              0.854997  0.145003\n",
       "All                  0.887346  0.112654"
      ]
     },
     "execution_count": 20,
     "metadata": {},
     "output_type": "execute_result"
    }
   ],
   "source": [
    "pd.crosstab(bank_data.education, bank_data.term_deposit, margins=True, normalize='index')"
   ]
  },
  {
   "cell_type": "markdown",
   "id": "492bbbe7-93d2-4dbb-92ac-52e26798b2f7",
   "metadata": {},
   "source": [
    "**Default Status**\n",
    "\n",
    "*Is there any history of default? (Categorical)*"
   ]
  },
  {
   "cell_type": "code",
   "execution_count": 21,
   "id": "bd484de4-2ff2-4487-9be7-8093a58ab4f2",
   "metadata": {
    "tags": []
   },
   "outputs": [
    {
     "data": {
      "text/plain": [
       "no         79.120132\n",
       "unknown    20.872584\n",
       "yes         0.007284\n",
       "Name: default, dtype: float64"
      ]
     },
     "execution_count": 21,
     "metadata": {},
     "output_type": "execute_result"
    }
   ],
   "source": [
    "(bank_data.default.value_counts()/bank_data.shape[0])*100"
   ]
  },
  {
   "cell_type": "code",
   "execution_count": 22,
   "id": "ae52f08b-2933-46f4-a63c-fdd17ffd58fb",
   "metadata": {
    "tags": []
   },
   "outputs": [
    {
     "data": {
      "text/html": [
       "<div>\n",
       "<style scoped>\n",
       "    .dataframe tbody tr th:only-of-type {\n",
       "        vertical-align: middle;\n",
       "    }\n",
       "\n",
       "    .dataframe tbody tr th {\n",
       "        vertical-align: top;\n",
       "    }\n",
       "\n",
       "    .dataframe thead th {\n",
       "        text-align: right;\n",
       "    }\n",
       "</style>\n",
       "<table border=\"1\" class=\"dataframe\">\n",
       "  <thead>\n",
       "    <tr style=\"text-align: right;\">\n",
       "      <th>term_deposit</th>\n",
       "      <th>0</th>\n",
       "      <th>1</th>\n",
       "    </tr>\n",
       "    <tr>\n",
       "      <th>default</th>\n",
       "      <th></th>\n",
       "      <th></th>\n",
       "    </tr>\n",
       "  </thead>\n",
       "  <tbody>\n",
       "    <tr>\n",
       "      <th>no</th>\n",
       "      <td>0.871210</td>\n",
       "      <td>0.128790</td>\n",
       "    </tr>\n",
       "    <tr>\n",
       "      <th>unknown</th>\n",
       "      <td>0.948470</td>\n",
       "      <td>0.051530</td>\n",
       "    </tr>\n",
       "    <tr>\n",
       "      <th>yes</th>\n",
       "      <td>1.000000</td>\n",
       "      <td>0.000000</td>\n",
       "    </tr>\n",
       "    <tr>\n",
       "      <th>All</th>\n",
       "      <td>0.887346</td>\n",
       "      <td>0.112654</td>\n",
       "    </tr>\n",
       "  </tbody>\n",
       "</table>\n",
       "</div>"
      ],
      "text/plain": [
       "term_deposit         0         1\n",
       "default                         \n",
       "no            0.871210  0.128790\n",
       "unknown       0.948470  0.051530\n",
       "yes           1.000000  0.000000\n",
       "All           0.887346  0.112654"
      ]
     },
     "execution_count": 22,
     "metadata": {},
     "output_type": "execute_result"
    }
   ],
   "source": [
    "pd.crosstab(bank_data.default, bank_data.term_deposit, margins=True, normalize='index')"
   ]
  },
  {
   "cell_type": "code",
   "execution_count": 23,
   "id": "a569269a-db4f-487b-b149-083956078df6",
   "metadata": {
    "tags": []
   },
   "outputs": [
    {
     "data": {
      "image/png": "[encoded data removed]",
      "text/plain": [
       "<Figure size 500x300 with 1 Axes>"
      ]
     },
     "metadata": {},
     "output_type": "display_data"
    }
   ],
   "source": [
    "pd.crosstab(bank_data.default, bank_data.term_deposit).plot(kind='bar',figsize=(5,3),fontsize=6)\n",
    "plt.xticks(rotation=0)\n",
    "plt.xlabel('Default Status', fontsize=8)\n",
    "plt.ylabel('Number of customers', fontsize=8)\n",
    "plt.legend(labels=['Not Subscribed','Subscribed'],loc='upper right',fontsize=8)\n",
    "plt.title('Distribution of customer Term Deposit Subscription by Defualt Status',fontsize=8)\n",
    "plt.show()"
   ]
  },
  {
   "cell_type": "markdown",
   "id": "c5171330-77a3-4421-838f-d1fb47d17266",
   "metadata": {},
   "source": [
    "All those who do not have a default history, are more likely to subscribe to a term deposit."
   ]
  },
  {
   "cell_type": "markdown",
   "id": "a1f42945-00a4-4324-80bb-11d998a373cc",
   "metadata": {},
   "source": [
    "**Housing**\n",
    "\n",
    "*Has availed Housing Loan? (Categorical)*"
   ]
  },
  {
   "cell_type": "code",
   "execution_count": 24,
   "id": "2d567fb2-853c-4846-8bdb-a22c3d21b2e5",
   "metadata": {
    "tags": []
   },
   "outputs": [
    {
     "data": {
      "text/plain": [
       "yes        52.384190\n",
       "no         45.212198\n",
       "unknown     2.403613\n",
       "Name: housing, dtype: float64"
      ]
     },
     "execution_count": 24,
     "metadata": {},
     "output_type": "execute_result"
    }
   ],
   "source": [
    "(bank_data.housing.value_counts()/bank_data.shape[0])*100"
   ]
  },
  {
   "cell_type": "code",
   "execution_count": 25,
   "id": "e14f1d83-7e38-4fbf-8c98-850e13860fbd",
   "metadata": {
    "tags": []
   },
   "outputs": [
    {
     "data": {
      "text/html": [
       "<div>\n",
       "<style scoped>\n",
       "    .dataframe tbody tr th:only-of-type {\n",
       "        vertical-align: middle;\n",
       "    }\n",
       "\n",
       "    .dataframe tbody tr th {\n",
       "        vertical-align: top;\n",
       "    }\n",
       "\n",
       "    .dataframe thead th {\n",
       "        text-align: right;\n",
       "    }\n",
       "</style>\n",
       "<table border=\"1\" class=\"dataframe\">\n",
       "  <thead>\n",
       "    <tr style=\"text-align: right;\">\n",
       "      <th>term_deposit</th>\n",
       "      <th>0</th>\n",
       "      <th>1</th>\n",
       "    </tr>\n",
       "    <tr>\n",
       "      <th>housing</th>\n",
       "      <th></th>\n",
       "      <th></th>\n",
       "    </tr>\n",
       "  </thead>\n",
       "  <tbody>\n",
       "    <tr>\n",
       "      <th>no</th>\n",
       "      <td>0.891204</td>\n",
       "      <td>0.108796</td>\n",
       "    </tr>\n",
       "    <tr>\n",
       "      <th>unknown</th>\n",
       "      <td>0.891919</td>\n",
       "      <td>0.108081</td>\n",
       "    </tr>\n",
       "    <tr>\n",
       "      <th>yes</th>\n",
       "      <td>0.883806</td>\n",
       "      <td>0.116194</td>\n",
       "    </tr>\n",
       "    <tr>\n",
       "      <th>All</th>\n",
       "      <td>0.887346</td>\n",
       "      <td>0.112654</td>\n",
       "    </tr>\n",
       "  </tbody>\n",
       "</table>\n",
       "</div>"
      ],
      "text/plain": [
       "term_deposit         0         1\n",
       "housing                         \n",
       "no            0.891204  0.108796\n",
       "unknown       0.891919  0.108081\n",
       "yes           0.883806  0.116194\n",
       "All           0.887346  0.112654"
      ]
     },
     "execution_count": 25,
     "metadata": {},
     "output_type": "execute_result"
    }
   ],
   "source": [
    "pd.crosstab(bank_data.housing, bank_data.term_deposit, margins=True, normalize='index')"
   ]
  },
  {
   "cell_type": "code",
   "execution_count": 26,
   "id": "65a7369d-e2cc-42d9-9441-de17b45b2f91",
   "metadata": {
    "tags": []
   },
   "outputs": [
    {
     "data": {
      "image/png": "[encoded data removed]",
      "text/plain": [
       "<Figure size 600x300 with 1 Axes>"
      ]
     },
     "metadata": {},
     "output_type": "display_data"
    }
   ],
   "source": [
    "pd.crosstab(bank_data.housing, bank_data.term_deposit).plot(kind='bar',figsize=(6,3),fontsize=6)\n",
    "plt.xticks(rotation=0)\n",
    "plt.xlabel('Housing Loan', fontsize=8)\n",
    "plt.ylabel('Number of customers', fontsize=8)\n",
    "plt.legend(labels=['Not Subscribed','Subscribed'],loc='upper center',fontsize=8)\n",
    "plt.title('Distribution of customer Term Deposit Subscription by Housing Loan',fontsize=8)\n",
    "plt.show()"
   ]
  },
  {
   "cell_type": "markdown",
   "id": "e694fd55-d59e-4f2f-a2fd-52df13e1a5dc",
   "metadata": {},
   "source": [
    "**Loan**\n",
    "\n",
    "*Has availed Personal Loan? (Categorical)*"
   ]
  },
  {
   "cell_type": "code",
   "execution_count": 27,
   "id": "45c8224e-a394-467e-9996-dfdfa91192d7",
   "metadata": {
    "tags": []
   },
   "outputs": [
    {
     "data": {
      "text/plain": [
       "no         82.426920\n",
       "yes        15.169467\n",
       "unknown     2.403613\n",
       "Name: loan, dtype: float64"
      ]
     },
     "execution_count": 27,
     "metadata": {},
     "output_type": "execute_result"
    }
   ],
   "source": [
    "(bank_data.loan.value_counts()/bank_data.shape[0])*100"
   ]
  },
  {
   "cell_type": "code",
   "execution_count": 28,
   "id": "78d4c4a6-2f1e-48e2-8d42-3b5e4911784d",
   "metadata": {
    "tags": []
   },
   "outputs": [
    {
     "data": {
      "text/html": [
       "<div>\n",
       "<style scoped>\n",
       "    .dataframe tbody tr th:only-of-type {\n",
       "        vertical-align: middle;\n",
       "    }\n",
       "\n",
       "    .dataframe tbody tr th {\n",
       "        vertical-align: top;\n",
       "    }\n",
       "\n",
       "    .dataframe thead th {\n",
       "        text-align: right;\n",
       "    }\n",
       "</style>\n",
       "<table border=\"1\" class=\"dataframe\">\n",
       "  <thead>\n",
       "    <tr style=\"text-align: right;\">\n",
       "      <th>term_deposit</th>\n",
       "      <th>0</th>\n",
       "      <th>1</th>\n",
       "    </tr>\n",
       "    <tr>\n",
       "      <th>loan</th>\n",
       "      <th></th>\n",
       "      <th></th>\n",
       "    </tr>\n",
       "  </thead>\n",
       "  <tbody>\n",
       "    <tr>\n",
       "      <th>no</th>\n",
       "      <td>0.886598</td>\n",
       "      <td>0.113402</td>\n",
       "    </tr>\n",
       "    <tr>\n",
       "      <th>unknown</th>\n",
       "      <td>0.891919</td>\n",
       "      <td>0.108081</td>\n",
       "    </tr>\n",
       "    <tr>\n",
       "      <th>yes</th>\n",
       "      <td>0.890685</td>\n",
       "      <td>0.109315</td>\n",
       "    </tr>\n",
       "    <tr>\n",
       "      <th>All</th>\n",
       "      <td>0.887346</td>\n",
       "      <td>0.112654</td>\n",
       "    </tr>\n",
       "  </tbody>\n",
       "</table>\n",
       "</div>"
      ],
      "text/plain": [
       "term_deposit         0         1\n",
       "loan                            \n",
       "no            0.886598  0.113402\n",
       "unknown       0.891919  0.108081\n",
       "yes           0.890685  0.109315\n",
       "All           0.887346  0.112654"
      ]
     },
     "execution_count": 28,
     "metadata": {},
     "output_type": "execute_result"
    }
   ],
   "source": [
    "pd.crosstab(bank_data.loan, bank_data.term_deposit, margins=True, normalize='index')"
   ]
  },
  {
   "cell_type": "code",
   "execution_count": 29,
   "id": "16b623a9-bb06-432e-b3cb-40df9073491e",
   "metadata": {
    "tags": []
   },
   "outputs": [
    {
     "data": {
      "image/png": "[encoded data removed]",
      "text/plain": [
       "<Figure size 600x300 with 1 Axes>"
      ]
     },
     "metadata": {},
     "output_type": "display_data"
    }
   ],
   "source": [
    "pd.crosstab(bank_data.loan, bank_data.term_deposit).plot(kind='bar',figsize=(6,3),fontsize=6)\n",
    "plt.xticks(rotation=0)\n",
    "plt.xlabel('Personal Loan', fontsize=8)\n",
    "plt.ylabel('Number of customers', fontsize=8)\n",
    "plt.legend(labels=['Not Subscribed','Subscribed'],loc='upper right',fontsize=8)\n",
    "plt.title('Distribution of customer Term Deposit Subscription by Personal Loan',fontsize=8)\n",
    "plt.show()"
   ]
  },
  {
   "cell_type": "markdown",
   "id": "e9fc9053-a3a4-4ebc-bd2b-81fdf68599a1",
   "metadata": {},
   "source": [
    "**Contact**\n",
    "\n",
    "*Contact Communication Type (Categorical)*"
   ]
  },
  {
   "cell_type": "code",
   "execution_count": 30,
   "id": "5859037c-9718-468e-9890-1b2cc4ade36a",
   "metadata": {
    "tags": []
   },
   "outputs": [
    {
     "data": {
      "text/plain": [
       "cellular     63.474798\n",
       "telephone    36.525202\n",
       "Name: contact, dtype: float64"
      ]
     },
     "execution_count": 30,
     "metadata": {},
     "output_type": "execute_result"
    }
   ],
   "source": [
    "(bank_data.contact.value_counts()/bank_data.shape[0])*100"
   ]
  },
  {
   "cell_type": "code",
   "execution_count": 31,
   "id": "b3858e31-1729-4fec-9323-aba24cd9fbe7",
   "metadata": {
    "tags": []
   },
   "outputs": [
    {
     "data": {
      "text/html": [
       "<div>\n",
       "<style scoped>\n",
       "    .dataframe tbody tr th:only-of-type {\n",
       "        vertical-align: middle;\n",
       "    }\n",
       "\n",
       "    .dataframe tbody tr th {\n",
       "        vertical-align: top;\n",
       "    }\n",
       "\n",
       "    .dataframe thead th {\n",
       "        text-align: right;\n",
       "    }\n",
       "</style>\n",
       "<table border=\"1\" class=\"dataframe\">\n",
       "  <thead>\n",
       "    <tr style=\"text-align: right;\">\n",
       "      <th>term_deposit</th>\n",
       "      <th>0</th>\n",
       "      <th>1</th>\n",
       "    </tr>\n",
       "    <tr>\n",
       "      <th>contact</th>\n",
       "      <th></th>\n",
       "      <th></th>\n",
       "    </tr>\n",
       "  </thead>\n",
       "  <tbody>\n",
       "    <tr>\n",
       "      <th>cellular</th>\n",
       "      <td>0.852624</td>\n",
       "      <td>0.147376</td>\n",
       "    </tr>\n",
       "    <tr>\n",
       "      <th>telephone</th>\n",
       "      <td>0.947687</td>\n",
       "      <td>0.052313</td>\n",
       "    </tr>\n",
       "    <tr>\n",
       "      <th>All</th>\n",
       "      <td>0.887346</td>\n",
       "      <td>0.112654</td>\n",
       "    </tr>\n",
       "  </tbody>\n",
       "</table>\n",
       "</div>"
      ],
      "text/plain": [
       "term_deposit         0         1\n",
       "contact                         \n",
       "cellular      0.852624  0.147376\n",
       "telephone     0.947687  0.052313\n",
       "All           0.887346  0.112654"
      ]
     },
     "execution_count": 31,
     "metadata": {},
     "output_type": "execute_result"
    }
   ],
   "source": [
    "pd.crosstab(bank_data.contact, bank_data.term_deposit, margins=True, normalize='index')"
   ]
  },
  {
   "cell_type": "code",
   "execution_count": 32,
   "id": "06bed8d0-0e73-4596-8723-8369ce528ab3",
   "metadata": {
    "tags": []
   },
   "outputs": [
    {
     "data": {
      "image/png": "[encoded data removed]",
      "text/plain": [
       "<Figure size 600x300 with 1 Axes>"
      ]
     },
     "metadata": {},
     "output_type": "display_data"
    }
   ],
   "source": [
    "pd.crosstab(bank_data.contact, bank_data.term_deposit).plot(kind='bar',figsize=(6,3),fontsize=6)\n",
    "plt.xticks(rotation=0)\n",
    "plt.xlabel('Contact Communication Type', fontsize=8)\n",
    "plt.ylabel('Number of customers', fontsize=8)\n",
    "plt.legend(labels=['Not Subscribed','Subscribed'],loc='upper right',fontsize=8)\n",
    "plt.title('Distribution of customer Term Deposit Subscription by Contact Communication Type',fontsize=8)\n",
    "plt.show()"
   ]
  },
  {
   "cell_type": "markdown",
   "id": "0f41e1d3-6019-451f-94e9-5dac62aba6f3",
   "metadata": {},
   "source": [
    "Cellular channel is the more used channel and has a higher success rate in getting customers to subscribe to the term deposit."
   ]
  },
  {
   "cell_type": "markdown",
   "id": "28c48e81-2f5c-4f57-b55d-0b38e80e80a4",
   "metadata": {},
   "source": [
    "**Month**\n",
    "\n",
    "*Last Contact Month of the year (Categorical)*"
   ]
  },
  {
   "cell_type": "code",
   "execution_count": 33,
   "id": "4556c49f-6c1e-4d0b-b3e4-ab0a67896cf9",
   "metadata": {
    "tags": []
   },
   "outputs": [
    {
     "data": {
      "text/plain": [
       "may    33.429640\n",
       "jul    17.417694\n",
       "aug    14.999514\n",
       "jun    12.911528\n",
       "nov     9.956784\n",
       "apr     6.390211\n",
       "oct     1.743226\n",
       "sep     1.383898\n",
       "mar     1.325629\n",
       "dec     0.441876\n",
       "Name: month, dtype: float64"
      ]
     },
     "execution_count": 33,
     "metadata": {},
     "output_type": "execute_result"
    }
   ],
   "source": [
    "(bank_data.month.value_counts()/bank_data.shape[0])*100"
   ]
  },
  {
   "cell_type": "code",
   "execution_count": 34,
   "id": "b54d6918-03fa-4320-8ec5-665cd6a31ae3",
   "metadata": {
    "tags": []
   },
   "outputs": [
    {
     "data": {
      "text/html": [
       "<div>\n",
       "<style scoped>\n",
       "    .dataframe tbody tr th:only-of-type {\n",
       "        vertical-align: middle;\n",
       "    }\n",
       "\n",
       "    .dataframe tbody tr th {\n",
       "        vertical-align: top;\n",
       "    }\n",
       "\n",
       "    .dataframe thead th {\n",
       "        text-align: right;\n",
       "    }\n",
       "</style>\n",
       "<table border=\"1\" class=\"dataframe\">\n",
       "  <thead>\n",
       "    <tr style=\"text-align: right;\">\n",
       "      <th>term_deposit</th>\n",
       "      <th>0</th>\n",
       "      <th>1</th>\n",
       "    </tr>\n",
       "    <tr>\n",
       "      <th>month</th>\n",
       "      <th></th>\n",
       "      <th></th>\n",
       "    </tr>\n",
       "  </thead>\n",
       "  <tbody>\n",
       "    <tr>\n",
       "      <th>apr</th>\n",
       "      <td>0.795213</td>\n",
       "      <td>0.204787</td>\n",
       "    </tr>\n",
       "    <tr>\n",
       "      <th>aug</th>\n",
       "      <td>0.893979</td>\n",
       "      <td>0.106021</td>\n",
       "    </tr>\n",
       "    <tr>\n",
       "      <th>dec</th>\n",
       "      <td>0.510989</td>\n",
       "      <td>0.489011</td>\n",
       "    </tr>\n",
       "    <tr>\n",
       "      <th>jul</th>\n",
       "      <td>0.909534</td>\n",
       "      <td>0.090466</td>\n",
       "    </tr>\n",
       "    <tr>\n",
       "      <th>jun</th>\n",
       "      <td>0.894885</td>\n",
       "      <td>0.105115</td>\n",
       "    </tr>\n",
       "    <tr>\n",
       "      <th>mar</th>\n",
       "      <td>0.494505</td>\n",
       "      <td>0.505495</td>\n",
       "    </tr>\n",
       "    <tr>\n",
       "      <th>may</th>\n",
       "      <td>0.935653</td>\n",
       "      <td>0.064347</td>\n",
       "    </tr>\n",
       "    <tr>\n",
       "      <th>nov</th>\n",
       "      <td>0.898561</td>\n",
       "      <td>0.101439</td>\n",
       "    </tr>\n",
       "    <tr>\n",
       "      <th>oct</th>\n",
       "      <td>0.561281</td>\n",
       "      <td>0.438719</td>\n",
       "    </tr>\n",
       "    <tr>\n",
       "      <th>sep</th>\n",
       "      <td>0.550877</td>\n",
       "      <td>0.449123</td>\n",
       "    </tr>\n",
       "    <tr>\n",
       "      <th>All</th>\n",
       "      <td>0.887346</td>\n",
       "      <td>0.112654</td>\n",
       "    </tr>\n",
       "  </tbody>\n",
       "</table>\n",
       "</div>"
      ],
      "text/plain": [
       "term_deposit         0         1\n",
       "month                           \n",
       "apr           0.795213  0.204787\n",
       "aug           0.893979  0.106021\n",
       "dec           0.510989  0.489011\n",
       "jul           0.909534  0.090466\n",
       "jun           0.894885  0.105115\n",
       "mar           0.494505  0.505495\n",
       "may           0.935653  0.064347\n",
       "nov           0.898561  0.101439\n",
       "oct           0.561281  0.438719\n",
       "sep           0.550877  0.449123\n",
       "All           0.887346  0.112654"
      ]
     },
     "execution_count": 34,
     "metadata": {},
     "output_type": "execute_result"
    }
   ],
   "source": [
    "pd.crosstab(bank_data.month, bank_data.term_deposit, margins=True, normalize='index')"
   ]
  },
  {
   "cell_type": "code",
   "execution_count": 35,
   "id": "98907595-7272-4e5b-9510-a35b2cfbc884",
   "metadata": {
    "tags": []
   },
   "outputs": [
    {
     "data": {
      "image/png": "[encoded data removed]",
      "text/plain": [
       "<Figure size 1000x400 with 1 Axes>"
      ]
     },
     "metadata": {},
     "output_type": "display_data"
    }
   ],
   "source": [
    "pd.crosstab(bank_data.month, bank_data.term_deposit).plot(kind='bar',figsize=(10,4),fontsize=6)\n",
    "plt.xticks(rotation=0)\n",
    "plt.xlabel('Month', fontsize=8)\n",
    "plt.ylabel('Number of customers', fontsize=8)\n",
    "plt.legend(labels=['Not Subscribed','Subscribed'],loc='upper right',fontsize=8)\n",
    "plt.title('Distribution of customer Term Deposit Subscription by Month of Contact',fontsize=8)\n",
    "plt.show()"
   ]
  },
  {
   "cell_type": "markdown",
   "id": "b946ccea-6b1d-4606-896b-cda71eb78d0e",
   "metadata": {},
   "source": [
    "* The months of December, March, October and September have higher success rate but lower volume of customers contacted.\n",
    "* Most customers are contacted in May, June, July, August and November, where we see the least numbers of customers subscribing."
   ]
  },
  {
   "cell_type": "markdown",
   "id": "58f7cf8b-484d-44f0-9b4a-f1557f33ceb1",
   "metadata": {},
   "source": [
    "**Day of the Week**\n",
    "\n",
    "*Last Contact Day of the Week (Categorical)*"
   ]
  },
  {
   "cell_type": "code",
   "execution_count": 36,
   "id": "548ecedb-2f80-49da-b241-8e28410fddc0",
   "metadata": {
    "tags": []
   },
   "outputs": [
    {
     "data": {
      "text/plain": [
       "thu    20.935709\n",
       "mon    20.671069\n",
       "wed    19.748470\n",
       "tue    19.641643\n",
       "fri    19.003108\n",
       "Name: day_of_week, dtype: float64"
      ]
     },
     "execution_count": 36,
     "metadata": {},
     "output_type": "execute_result"
    }
   ],
   "source": [
    "(bank_data.day_of_week.value_counts()/bank_data.shape[0])*100"
   ]
  },
  {
   "cell_type": "code",
   "execution_count": 37,
   "id": "26018835-96be-4342-8c9d-b8cccf1a19c9",
   "metadata": {
    "tags": []
   },
   "outputs": [
    {
     "data": {
      "text/html": [
       "<div>\n",
       "<style scoped>\n",
       "    .dataframe tbody tr th:only-of-type {\n",
       "        vertical-align: middle;\n",
       "    }\n",
       "\n",
       "    .dataframe tbody tr th {\n",
       "        vertical-align: top;\n",
       "    }\n",
       "\n",
       "    .dataframe thead th {\n",
       "        text-align: right;\n",
       "    }\n",
       "</style>\n",
       "<table border=\"1\" class=\"dataframe\">\n",
       "  <thead>\n",
       "    <tr style=\"text-align: right;\">\n",
       "      <th>term_deposit</th>\n",
       "      <th>0</th>\n",
       "      <th>1</th>\n",
       "    </tr>\n",
       "    <tr>\n",
       "      <th>day_of_week</th>\n",
       "      <th></th>\n",
       "      <th></th>\n",
       "    </tr>\n",
       "  </thead>\n",
       "  <tbody>\n",
       "    <tr>\n",
       "      <th>fri</th>\n",
       "      <td>0.891913</td>\n",
       "      <td>0.108087</td>\n",
       "    </tr>\n",
       "    <tr>\n",
       "      <th>mon</th>\n",
       "      <td>0.900517</td>\n",
       "      <td>0.099483</td>\n",
       "    </tr>\n",
       "    <tr>\n",
       "      <th>thu</th>\n",
       "      <td>0.878812</td>\n",
       "      <td>0.121188</td>\n",
       "    </tr>\n",
       "    <tr>\n",
       "      <th>tue</th>\n",
       "      <td>0.882200</td>\n",
       "      <td>0.117800</td>\n",
       "    </tr>\n",
       "    <tr>\n",
       "      <th>wed</th>\n",
       "      <td>0.883329</td>\n",
       "      <td>0.116671</td>\n",
       "    </tr>\n",
       "    <tr>\n",
       "      <th>All</th>\n",
       "      <td>0.887346</td>\n",
       "      <td>0.112654</td>\n",
       "    </tr>\n",
       "  </tbody>\n",
       "</table>\n",
       "</div>"
      ],
      "text/plain": [
       "term_deposit         0         1\n",
       "day_of_week                     \n",
       "fri           0.891913  0.108087\n",
       "mon           0.900517  0.099483\n",
       "thu           0.878812  0.121188\n",
       "tue           0.882200  0.117800\n",
       "wed           0.883329  0.116671\n",
       "All           0.887346  0.112654"
      ]
     },
     "execution_count": 37,
     "metadata": {},
     "output_type": "execute_result"
    }
   ],
   "source": [
    "pd.crosstab(bank_data.day_of_week, bank_data.term_deposit, margins=True, normalize='index')"
   ]
  },
  {
   "cell_type": "code",
   "execution_count": 38,
   "id": "af2e3a10-39a1-49b5-9c9b-2cdef8f05b4c",
   "metadata": {
    "tags": []
   },
   "outputs": [
    {
     "data": {
      "image/png": "[encoded data removed]",
      "text/plain": [
       "<Figure size 1000x400 with 1 Axes>"
      ]
     },
     "metadata": {},
     "output_type": "display_data"
    }
   ],
   "source": [
    "pd.crosstab(bank_data.day_of_week, bank_data.term_deposit).plot(kind='bar',figsize=(10,4),fontsize=6)\n",
    "plt.xticks(rotation=0)\n",
    "plt.xlabel('Day of the week', fontsize=8)\n",
    "plt.ylabel('Number of customers', fontsize=8)\n",
    "plt.legend(labels=['Not Subscribed','Subscribed'],loc='upper right',fontsize=6)\n",
    "plt.title('Distribution of customer Term Deposit Subscription by Day of contact',fontsize=8)\n",
    "plt.show()"
   ]
  },
  {
   "cell_type": "markdown",
   "id": "7fa5e1b0-85a2-4463-962b-605abc8a2aa3",
   "metadata": {},
   "source": [
    "Lower sucess rate for term deposit subscription through the campaign is seen when customer is contacted on Monday or Friday."
   ]
  },
  {
   "cell_type": "markdown",
   "id": "71119a57-3dc9-4b53-ab50-7635334b561d",
   "metadata": {},
   "source": [
    "**Duration**\n",
    "\n",
    "*Last Contact Duration in Seconds (Numeric)*"
   ]
  },
  {
   "cell_type": "code",
   "execution_count": 39,
   "id": "cb1fbf06-0cb5-424c-8a99-b8b255613987",
   "metadata": {
    "tags": []
   },
   "outputs": [
    {
     "data": {
      "text/plain": [
       "count    41188.000000\n",
       "mean       258.285010\n",
       "std        259.279249\n",
       "min          0.000000\n",
       "25%        102.000000\n",
       "50%        180.000000\n",
       "75%        319.000000\n",
       "max       4918.000000\n",
       "Name: duration, dtype: float64"
      ]
     },
     "execution_count": 39,
     "metadata": {},
     "output_type": "execute_result"
    }
   ],
   "source": [
    "bank_data.duration.describe()"
   ]
  },
  {
   "cell_type": "code",
   "execution_count": 40,
   "id": "5dea3c64-8e4d-4a64-9d61-7d8912672d23",
   "metadata": {
    "tags": []
   },
   "outputs": [
    {
     "data": {
      "image/png": "[encoded data removed]",
      "text/plain": [
       "<Figure size 500x400 with 1 Axes>"
      ]
     },
     "metadata": {},
     "output_type": "display_data"
    }
   ],
   "source": [
    "plt.figure(figsize=(5,4))\n",
    "plt.boxplot(bank_data.duration)\n",
    "plt.title('Distribution of call duration of last contact with customer',fontsize=8)\n",
    "plt.ylabel('Duration of last call',fontsize=6)\n",
    "plt.xlabel('Call Duration',fontsize=6)\n",
    "plt.xticks(fontsize=6)\n",
    "plt.yticks(fontsize=6)\n",
    "plt.show()"
   ]
  },
  {
   "cell_type": "markdown",
   "id": "0612b9f8-8618-46b3-abdf-b57895750fa1",
   "metadata": {},
   "source": [
    "Mean duration of a call with the customer is ~4 minutes."
   ]
  },
  {
   "cell_type": "markdown",
   "id": "c466586d-0d02-4a77-9c42-4fb1391ff23d",
   "metadata": {},
   "source": [
    "**Campaign**\n",
    "\n",
    "*# of contacts performed during this campaign and for this client (includes last contact) (Numeric)*"
   ]
  },
  {
   "cell_type": "code",
   "execution_count": 41,
   "id": "797e2a21-b3b6-45a6-ba10-5f1b293cc31f",
   "metadata": {
    "tags": []
   },
   "outputs": [
    {
     "data": {
      "text/plain": [
       "count    41188.000000\n",
       "mean         2.567593\n",
       "std          2.770014\n",
       "min          1.000000\n",
       "25%          1.000000\n",
       "50%          2.000000\n",
       "75%          3.000000\n",
       "max         56.000000\n",
       "Name: campaign, dtype: float64"
      ]
     },
     "execution_count": 41,
     "metadata": {},
     "output_type": "execute_result"
    }
   ],
   "source": [
    "bank_data.campaign.describe()"
   ]
  },
  {
   "cell_type": "code",
   "execution_count": 42,
   "id": "c4f50930-8a89-4d82-ae43-343080e8bee3",
   "metadata": {
    "tags": []
   },
   "outputs": [
    {
     "data": {
      "image/png": "[encoded data removed]",
      "text/plain": [
       "<Figure size 500x400 with 1 Axes>"
      ]
     },
     "metadata": {},
     "output_type": "display_data"
    }
   ],
   "source": [
    "plt.figure(figsize=(5,4))\n",
    "plt.hist(bank_data.campaign,bins=25)\n",
    "plt.title('Number of Contacts during campaign',fontsize=8)\n",
    "plt.xlabel('Number of Contacts during campaign',fontsize=6)\n",
    "plt.ylabel('No of Customers',fontsize=6)\n",
    "plt.xticks(fontsize=6)\n",
    "plt.yticks(fontsize=6)\n",
    "plt.show()"
   ]
  },
  {
   "cell_type": "markdown",
   "id": "52c41db1-2c5d-4b1e-8388-6406a49f944b",
   "metadata": {},
   "source": [
    "**PDays**\n",
    "\n",
    "*# of days that passed by after the client was last contacted from a previous campaign (999 means client was not contacted in a previous campaign) (Numeric)*"
   ]
  },
  {
   "cell_type": "code",
   "execution_count": 43,
   "id": "8d88f2d8-367c-4d33-a207-36e45b8f74a9",
   "metadata": {
    "tags": []
   },
   "outputs": [
    {
     "data": {
      "text/plain": [
       "count    1515.000000\n",
       "mean        6.014521\n",
       "std         3.824906\n",
       "min         0.000000\n",
       "25%         3.000000\n",
       "50%         6.000000\n",
       "75%         7.000000\n",
       "max        27.000000\n",
       "Name: pdays, dtype: float64"
      ]
     },
     "execution_count": 43,
     "metadata": {},
     "output_type": "execute_result"
    }
   ],
   "source": [
    "bank_data[bank_data.pdays!=999].pdays.describe()"
   ]
  },
  {
   "cell_type": "markdown",
   "id": "861c341c-12bb-4f27-a4f7-83a3b1ac9710",
   "metadata": {},
   "source": [
    "Only ~1500 customers have PDays different from 999. This means over 40,000 customers have not been contacted in the previous campaign."
   ]
  },
  {
   "cell_type": "code",
   "execution_count": 44,
   "id": "91127485-bf11-440e-ade5-d645def55ac4",
   "metadata": {
    "tags": []
   },
   "outputs": [
    {
     "data": {
      "image/png": "[encoded data removed]",
      "text/plain": [
       "<Figure size 500x400 with 1 Axes>"
      ]
     },
     "metadata": {},
     "output_type": "display_data"
    }
   ],
   "source": [
    "plt.figure(figsize=(5,4))\n",
    "plt.hist(bank_data[bank_data.pdays!=999].pdays,bins=50)\n",
    "plt.title('Number of days since last contact',fontsize=8)\n",
    "plt.xlabel('Number of days',fontsize=6)\n",
    "plt.ylabel('No of Customers',fontsize=6)\n",
    "plt.xticks(fontsize=6)\n",
    "plt.yticks(fontsize=6)\n",
    "plt.show()"
   ]
  },
  {
   "cell_type": "markdown",
   "id": "a2cc978e-5d49-4d25-b80f-71f14a8af2da",
   "metadata": {},
   "source": [
    "**Previous**\n",
    "\n",
    "*# of contacts performed before this campaign and for this client (Numeric)*"
   ]
  },
  {
   "cell_type": "code",
   "execution_count": 45,
   "id": "24972aa0-fbd5-4ac4-8d89-2c0cb0aeda09",
   "metadata": {
    "tags": []
   },
   "outputs": [
    {
     "data": {
      "text/plain": [
       "count    41188.000000\n",
       "mean         0.172963\n",
       "std          0.494901\n",
       "min          0.000000\n",
       "25%          0.000000\n",
       "50%          0.000000\n",
       "75%          0.000000\n",
       "max          7.000000\n",
       "Name: previous, dtype: float64"
      ]
     },
     "execution_count": 45,
     "metadata": {},
     "output_type": "execute_result"
    }
   ],
   "source": [
    "bank_data.previous.describe()"
   ]
  },
  {
   "cell_type": "code",
   "execution_count": 46,
   "id": "7bab2ebc-3039-49d7-b2c6-9380cb2d7cdc",
   "metadata": {
    "tags": []
   },
   "outputs": [
    {
     "data": {
      "image/png": "[encoded data removed]",
      "text/plain": [
       "<Figure size 500x400 with 1 Axes>"
      ]
     },
     "metadata": {},
     "output_type": "display_data"
    }
   ],
   "source": [
    "plt.figure(figsize=(5,4))\n",
    "plt.hist(bank_data.previous,bins=25)\n",
    "plt.title('Number of Contacts performed before campaign',fontsize=8)\n",
    "plt.xlabel('Number of Contacts',fontsize=6)\n",
    "plt.ylabel('No of Customers',fontsize=6)\n",
    "plt.xticks(fontsize=6)\n",
    "plt.yticks(fontsize=6)\n",
    "plt.show()"
   ]
  },
  {
   "cell_type": "markdown",
   "id": "fdd33109-7362-4db8-a946-7a3e7f0072fd",
   "metadata": {},
   "source": [
    "**POutcome**\n",
    "\n",
    "*Outcome of the previous marketing campaign (Categorical)*"
   ]
  },
  {
   "cell_type": "code",
   "execution_count": 47,
   "id": "6160c2ac-d8e4-491a-a5bb-8dee4848e653",
   "metadata": {
    "tags": []
   },
   "outputs": [
    {
     "data": {
      "text/plain": [
       "nonexistent    86.343110\n",
       "failure        10.323395\n",
       "success         3.333495\n",
       "Name: poutcome, dtype: float64"
      ]
     },
     "execution_count": 47,
     "metadata": {},
     "output_type": "execute_result"
    }
   ],
   "source": [
    "(bank_data.poutcome.value_counts()/bank_data.shape[0])*100"
   ]
  },
  {
   "cell_type": "code",
   "execution_count": 48,
   "id": "90674669-be04-48f2-89ce-8ee9a2e53c99",
   "metadata": {
    "tags": []
   },
   "outputs": [
    {
     "data": {
      "image/png": "[encoded data removed]",
      "text/plain": [
       "<Figure size 600x300 with 1 Axes>"
      ]
     },
     "metadata": {},
     "output_type": "display_data"
    }
   ],
   "source": [
    "pd.crosstab(bank_data.poutcome, bank_data.term_deposit).plot(kind='bar',figsize=(6,3),fontsize=6)\n",
    "plt.xlabel('Outcome of previous marketing campaign',fontsize=6)\n",
    "plt.ylabel('Number of Customers',fontsize=6)\n",
    "plt.title('Subscription to Term Deposit by Outcome of previous marketing campaign',fontsize=8)\n",
    "plt.xticks(rotation=0)\n",
    "plt.legend(labels=['Not Subscribed','Subscribed'],loc='upper right',fontsize=6)\n",
    "plt.show()"
   ]
  },
  {
   "cell_type": "code",
   "execution_count": 49,
   "id": "0f0ac65f-2c48-403f-9a0b-b013364a160b",
   "metadata": {
    "tags": []
   },
   "outputs": [
    {
     "data": {
      "text/html": [
       "<div>\n",
       "<style scoped>\n",
       "    .dataframe tbody tr th:only-of-type {\n",
       "        vertical-align: middle;\n",
       "    }\n",
       "\n",
       "    .dataframe tbody tr th {\n",
       "        vertical-align: top;\n",
       "    }\n",
       "\n",
       "    .dataframe thead th {\n",
       "        text-align: right;\n",
       "    }\n",
       "</style>\n",
       "<table border=\"1\" class=\"dataframe\">\n",
       "  <thead>\n",
       "    <tr style=\"text-align: right;\">\n",
       "      <th>term_deposit</th>\n",
       "      <th>0</th>\n",
       "      <th>1</th>\n",
       "    </tr>\n",
       "    <tr>\n",
       "      <th>poutcome</th>\n",
       "      <th></th>\n",
       "      <th></th>\n",
       "    </tr>\n",
       "  </thead>\n",
       "  <tbody>\n",
       "    <tr>\n",
       "      <th>failure</th>\n",
       "      <td>0.857714</td>\n",
       "      <td>0.142286</td>\n",
       "    </tr>\n",
       "    <tr>\n",
       "      <th>nonexistent</th>\n",
       "      <td>0.911678</td>\n",
       "      <td>0.088322</td>\n",
       "    </tr>\n",
       "    <tr>\n",
       "      <th>success</th>\n",
       "      <td>0.348871</td>\n",
       "      <td>0.651129</td>\n",
       "    </tr>\n",
       "    <tr>\n",
       "      <th>All</th>\n",
       "      <td>0.887346</td>\n",
       "      <td>0.112654</td>\n",
       "    </tr>\n",
       "  </tbody>\n",
       "</table>\n",
       "</div>"
      ],
      "text/plain": [
       "term_deposit         0         1\n",
       "poutcome                        \n",
       "failure       0.857714  0.142286\n",
       "nonexistent   0.911678  0.088322\n",
       "success       0.348871  0.651129\n",
       "All           0.887346  0.112654"
      ]
     },
     "execution_count": 49,
     "metadata": {},
     "output_type": "execute_result"
    }
   ],
   "source": [
    "pd.crosstab(bank_data.poutcome, bank_data.term_deposit, margins=True, normalize='index')"
   ]
  },
  {
   "cell_type": "markdown",
   "id": "46cead1f-55e9-4b5e-bc05-75a5da8f5ca0",
   "metadata": {},
   "source": [
    "Customers who have subscribed to the term deposit in previous marketing campaigns, are more likely to subscribe to the term deposit in this campaign."
   ]
  },
  {
   "cell_type": "markdown",
   "id": "65e6f62b-d62c-4f5e-a828-dca90aab25ee",
   "metadata": {},
   "source": [
    "**Ethnicity**\n",
    "\n",
    "*Caucasian is the reference ethnic category: Is the customer of African ethnicity? 1=Yes, 0=No; (Numeric)*"
   ]
  },
  {
   "cell_type": "code",
   "execution_count": 50,
   "id": "e6677b01-4c87-4fdc-a53a-29b5085ef8a0",
   "metadata": {
    "tags": []
   },
   "outputs": [
    {
     "data": {
      "text/plain": [
       "0    97.064679\n",
       "1     2.935321\n",
       "Name: Ethnicity_African, dtype: float64"
      ]
     },
     "execution_count": 50,
     "metadata": {},
     "output_type": "execute_result"
    }
   ],
   "source": [
    "(bank_data.Ethnicity_African.value_counts()/bank_data.shape[0])*100"
   ]
  },
  {
   "cell_type": "code",
   "execution_count": 51,
   "id": "0e7289be-92e5-4bc9-97ab-4b64ed1dff6b",
   "metadata": {
    "tags": []
   },
   "outputs": [
    {
     "data": {
      "text/html": [
       "<div>\n",
       "<style scoped>\n",
       "    .dataframe tbody tr th:only-of-type {\n",
       "        vertical-align: middle;\n",
       "    }\n",
       "\n",
       "    .dataframe tbody tr th {\n",
       "        vertical-align: top;\n",
       "    }\n",
       "\n",
       "    .dataframe thead th {\n",
       "        text-align: right;\n",
       "    }\n",
       "</style>\n",
       "<table border=\"1\" class=\"dataframe\">\n",
       "  <thead>\n",
       "    <tr style=\"text-align: right;\">\n",
       "      <th>term_deposit</th>\n",
       "      <th>0</th>\n",
       "      <th>1</th>\n",
       "    </tr>\n",
       "    <tr>\n",
       "      <th>Ethnicity_African</th>\n",
       "      <th></th>\n",
       "      <th></th>\n",
       "    </tr>\n",
       "  </thead>\n",
       "  <tbody>\n",
       "    <tr>\n",
       "      <th>0</th>\n",
       "      <td>0.895270</td>\n",
       "      <td>0.104730</td>\n",
       "    </tr>\n",
       "    <tr>\n",
       "      <th>1</th>\n",
       "      <td>0.625310</td>\n",
       "      <td>0.374690</td>\n",
       "    </tr>\n",
       "    <tr>\n",
       "      <th>All</th>\n",
       "      <td>0.887346</td>\n",
       "      <td>0.112654</td>\n",
       "    </tr>\n",
       "  </tbody>\n",
       "</table>\n",
       "</div>"
      ],
      "text/plain": [
       "term_deposit              0         1\n",
       "Ethnicity_African                    \n",
       "0                  0.895270  0.104730\n",
       "1                  0.625310  0.374690\n",
       "All                0.887346  0.112654"
      ]
     },
     "execution_count": 51,
     "metadata": {},
     "output_type": "execute_result"
    }
   ],
   "source": [
    "pd.crosstab(bank_data.Ethnicity_African, bank_data.term_deposit, margins=True, normalize='index')"
   ]
  },
  {
   "cell_type": "markdown",
   "id": "905c408f-54d1-4572-a845-1242f8c605b5",
   "metadata": {},
   "source": [
    "Customers with African Ethnicity (Ethnicity_African=1) have a higher chance of subscribing to the term deposit. However, there are ethical concerns about using this variable as it creates bias."
   ]
  },
  {
   "cell_type": "markdown",
   "id": "6caa75eb-8b39-4432-a9d4-02eb07c92398",
   "metadata": {},
   "source": [
    "**Emp.var.rate** \n",
    "\n",
    "*Employment variation rate: quarterly indicator (Numeric)*"
   ]
  },
  {
   "cell_type": "code",
   "execution_count": 52,
   "id": "19d2ed7e-9121-4387-b80e-b910683efeeb",
   "metadata": {
    "tags": []
   },
   "outputs": [
    {
     "data": {
      "text/plain": [
       "count    41188.000000\n",
       "mean         0.081886\n",
       "std          1.570960\n",
       "min         -3.400000\n",
       "25%         -1.800000\n",
       "50%          1.100000\n",
       "75%          1.400000\n",
       "max          1.400000\n",
       "Name: emp.var.rate, dtype: float64"
      ]
     },
     "execution_count": 52,
     "metadata": {},
     "output_type": "execute_result"
    }
   ],
   "source": [
    "bank_data['emp.var.rate'].describe()"
   ]
  },
  {
   "cell_type": "markdown",
   "id": "4fbdd653-8292-46a4-acf3-2460853fbd96",
   "metadata": {},
   "source": [
    "**Cons.price.idx**\n",
    "\n",
    "*Consumer price index: monthly indicator (Numeric)*"
   ]
  },
  {
   "cell_type": "code",
   "execution_count": 53,
   "id": "32f32229-4067-4319-9e4f-0d025c2711c4",
   "metadata": {
    "tags": []
   },
   "outputs": [
    {
     "data": {
      "text/plain": [
       "count    41188.000000\n",
       "mean        93.575664\n",
       "std          0.578840\n",
       "min         92.201000\n",
       "25%         93.075000\n",
       "50%         93.749000\n",
       "75%         93.994000\n",
       "max         94.767000\n",
       "Name: cons.price.idx, dtype: float64"
      ]
     },
     "execution_count": 53,
     "metadata": {},
     "output_type": "execute_result"
    }
   ],
   "source": [
    "bank_data['cons.price.idx'].describe()"
   ]
  },
  {
   "cell_type": "markdown",
   "id": "6d6ee896-c7e6-4a41-9366-1c302cf07903",
   "metadata": {},
   "source": [
    "**Cons.conf.idx**\n",
    "\n",
    "*Consumer confidence index: monthly indicator (Numeric)*"
   ]
  },
  {
   "cell_type": "code",
   "execution_count": 54,
   "id": "446db215-575c-4e8c-a7c5-b2d96dbb1792",
   "metadata": {
    "tags": []
   },
   "outputs": [
    {
     "data": {
      "text/plain": [
       "count    41188.000000\n",
       "mean       -40.502600\n",
       "std          4.628198\n",
       "min        -50.800000\n",
       "25%        -42.700000\n",
       "50%        -41.800000\n",
       "75%        -36.400000\n",
       "max        -26.900000\n",
       "Name: cons.conf.idx, dtype: float64"
      ]
     },
     "execution_count": 54,
     "metadata": {},
     "output_type": "execute_result"
    }
   ],
   "source": [
    "bank_data['cons.conf.idx'].describe()"
   ]
  },
  {
   "cell_type": "markdown",
   "id": "9b85c16e-fdda-41f7-981f-a675acbf1f72",
   "metadata": {},
   "source": [
    "**Euribor (3m)**\n",
    "\n",
    "*Euribor 3 month rate (Numeric)*"
   ]
  },
  {
   "cell_type": "code",
   "execution_count": 55,
   "id": "97a0de9c-6e0b-4b62-bc3c-d668426ea8dd",
   "metadata": {
    "tags": []
   },
   "outputs": [
    {
     "data": {
      "text/plain": [
       "count    41188.000000\n",
       "mean         3.621291\n",
       "std          1.734447\n",
       "min          0.634000\n",
       "25%          1.344000\n",
       "50%          4.857000\n",
       "75%          4.961000\n",
       "max          5.045000\n",
       "Name: euribor3m, dtype: float64"
      ]
     },
     "execution_count": 55,
     "metadata": {},
     "output_type": "execute_result"
    }
   ],
   "source": [
    "bank_data['euribor3m'].describe()"
   ]
  },
  {
   "cell_type": "markdown",
   "id": "de80c1b2-751b-4f98-ad4d-85866e0ee925",
   "metadata": {},
   "source": [
    "**Nr.employed:** \n",
    "\n",
    "*# of employees: quarterly indicator (Numeric)*"
   ]
  },
  {
   "cell_type": "code",
   "execution_count": 56,
   "id": "01aca9db-658c-414a-b80a-d02939e302f8",
   "metadata": {
    "tags": []
   },
   "outputs": [
    {
     "data": {
      "text/plain": [
       "count    41188.000000\n",
       "mean      5167.035911\n",
       "std         72.251528\n",
       "min       4963.600000\n",
       "25%       5099.100000\n",
       "50%       5191.000000\n",
       "75%       5228.100000\n",
       "max       5228.100000\n",
       "Name: nr.employed, dtype: float64"
      ]
     },
     "execution_count": 56,
     "metadata": {},
     "output_type": "execute_result"
    }
   ],
   "source": [
    "bank_data['nr.employed'].describe()"
   ]
  },
  {
   "cell_type": "code",
   "execution_count": 57,
   "id": "18aaca3e-bac0-40c7-a3d0-859130db319b",
   "metadata": {
    "tags": []
   },
   "outputs": [
    {
     "data": {
      "image/png": "[encoded data removed]",
      "text/plain": [
       "<Figure size 1000x1200 with 5 Axes>"
      ]
     },
     "metadata": {},
     "output_type": "display_data"
    }
   ],
   "source": [
    "plt.figure(figsize = (10,12))\n",
    "\n",
    "plt.subplot(3,2,1)\n",
    "plt.hist(bank_data['emp.var.rate'])\n",
    "plt.xlabel('Employment Variation Rate',fontsize=6)\n",
    "plt.ylabel('Number of Customers',fontsize=6)\n",
    "plt.xticks(fontsize=6)\n",
    "plt.yticks(fontsize=6)\n",
    "\n",
    "plt.subplot(3,2,2)\n",
    "plt.hist(bank_data['cons.price.idx'])\n",
    "plt.xlabel('Consumer Price Index',fontsize=6)\n",
    "plt.ylabel('Number of Customers',fontsize=6)\n",
    "plt.xticks(fontsize=6)\n",
    "plt.yticks(fontsize=6)\n",
    "\n",
    "plt.subplot(3,2,3)\n",
    "plt.hist(bank_data['cons.conf.idx'])\n",
    "plt.xlabel('Consumer Confidence Index',fontsize=6)\n",
    "plt.ylabel('Number of Customers',fontsize=6)\n",
    "plt.xticks(fontsize=6)\n",
    "plt.yticks(fontsize=6)\n",
    "\n",
    "plt.subplot(3,2,4)\n",
    "plt.hist(bank_data['euribor3m'])\n",
    "plt.xlabel('Euribor Rate (3months)',fontsize=6)\n",
    "plt.ylabel('Number of Customers',fontsize=6)\n",
    "plt.xticks(fontsize=6)\n",
    "plt.yticks(fontsize=6)\n",
    "\n",
    "plt.subplot(3,2,5)\n",
    "plt.hist(bank_data['nr.employed'])\n",
    "plt.xlabel('Number of employees',fontsize=6)\n",
    "plt.ylabel('Number of Customers',fontsize=6)\n",
    "plt.xticks(fontsize=6)\n",
    "plt.yticks(fontsize=6)\n",
    "\n",
    "plt.show()"
   ]
  },
  {
   "cell_type": "code",
   "execution_count": 58,
   "id": "f5fd28e2-9ad3-4b1d-92e9-87316be8f6c5",
   "metadata": {
    "tags": []
   },
   "outputs": [
    {
     "data": {
      "text/html": [
       "<div>\n",
       "<style scoped>\n",
       "    .dataframe tbody tr th:only-of-type {\n",
       "        vertical-align: middle;\n",
       "    }\n",
       "\n",
       "    .dataframe tbody tr th {\n",
       "        vertical-align: top;\n",
       "    }\n",
       "\n",
       "    .dataframe thead th {\n",
       "        text-align: right;\n",
       "    }\n",
       "</style>\n",
       "<table border=\"1\" class=\"dataframe\">\n",
       "  <thead>\n",
       "    <tr style=\"text-align: right;\">\n",
       "      <th></th>\n",
       "      <th>age</th>\n",
       "      <th>duration</th>\n",
       "      <th>campaign</th>\n",
       "      <th>pdays</th>\n",
       "      <th>previous</th>\n",
       "      <th>emp.var.rate</th>\n",
       "      <th>cons.price.idx</th>\n",
       "      <th>cons.conf.idx</th>\n",
       "      <th>euribor3m</th>\n",
       "      <th>nr.employed</th>\n",
       "      <th>term_deposit</th>\n",
       "      <th>Ethnicity_African</th>\n",
       "    </tr>\n",
       "  </thead>\n",
       "  <tbody>\n",
       "    <tr>\n",
       "      <th>age</th>\n",
       "      <td>1.000000</td>\n",
       "      <td>-0.000866</td>\n",
       "      <td>0.004594</td>\n",
       "      <td>-0.034369</td>\n",
       "      <td>0.024365</td>\n",
       "      <td>-0.000371</td>\n",
       "      <td>0.000857</td>\n",
       "      <td>0.129372</td>\n",
       "      <td>0.010767</td>\n",
       "      <td>-0.017725</td>\n",
       "      <td>0.030399</td>\n",
       "      <td>-0.008241</td>\n",
       "    </tr>\n",
       "    <tr>\n",
       "      <th>duration</th>\n",
       "      <td>-0.000866</td>\n",
       "      <td>1.000000</td>\n",
       "      <td>-0.071699</td>\n",
       "      <td>-0.047577</td>\n",
       "      <td>0.020640</td>\n",
       "      <td>-0.027968</td>\n",
       "      <td>0.005312</td>\n",
       "      <td>-0.008173</td>\n",
       "      <td>-0.032897</td>\n",
       "      <td>-0.044703</td>\n",
       "      <td>0.405274</td>\n",
       "      <td>0.050153</td>\n",
       "    </tr>\n",
       "    <tr>\n",
       "      <th>campaign</th>\n",
       "      <td>0.004594</td>\n",
       "      <td>-0.071699</td>\n",
       "      <td>1.000000</td>\n",
       "      <td>0.052584</td>\n",
       "      <td>-0.079141</td>\n",
       "      <td>0.150754</td>\n",
       "      <td>0.127836</td>\n",
       "      <td>-0.013733</td>\n",
       "      <td>0.135133</td>\n",
       "      <td>0.144095</td>\n",
       "      <td>-0.066357</td>\n",
       "      <td>-0.000686</td>\n",
       "    </tr>\n",
       "    <tr>\n",
       "      <th>pdays</th>\n",
       "      <td>-0.034369</td>\n",
       "      <td>-0.047577</td>\n",
       "      <td>0.052584</td>\n",
       "      <td>1.000000</td>\n",
       "      <td>-0.587514</td>\n",
       "      <td>0.271004</td>\n",
       "      <td>0.078889</td>\n",
       "      <td>-0.091342</td>\n",
       "      <td>0.296899</td>\n",
       "      <td>0.372605</td>\n",
       "      <td>-0.324914</td>\n",
       "      <td>-0.040900</td>\n",
       "    </tr>\n",
       "    <tr>\n",
       "      <th>previous</th>\n",
       "      <td>0.024365</td>\n",
       "      <td>0.020640</td>\n",
       "      <td>-0.079141</td>\n",
       "      <td>-0.587514</td>\n",
       "      <td>1.000000</td>\n",
       "      <td>-0.420489</td>\n",
       "      <td>-0.203130</td>\n",
       "      <td>-0.050936</td>\n",
       "      <td>-0.454494</td>\n",
       "      <td>-0.501333</td>\n",
       "      <td>0.230181</td>\n",
       "      <td>0.032229</td>\n",
       "    </tr>\n",
       "    <tr>\n",
       "      <th>emp.var.rate</th>\n",
       "      <td>-0.000371</td>\n",
       "      <td>-0.027968</td>\n",
       "      <td>0.150754</td>\n",
       "      <td>0.271004</td>\n",
       "      <td>-0.420489</td>\n",
       "      <td>1.000000</td>\n",
       "      <td>0.775334</td>\n",
       "      <td>0.196041</td>\n",
       "      <td>0.972245</td>\n",
       "      <td>0.906970</td>\n",
       "      <td>-0.298334</td>\n",
       "      <td>-0.048399</td>\n",
       "    </tr>\n",
       "    <tr>\n",
       "      <th>cons.price.idx</th>\n",
       "      <td>0.000857</td>\n",
       "      <td>0.005312</td>\n",
       "      <td>0.127836</td>\n",
       "      <td>0.078889</td>\n",
       "      <td>-0.203130</td>\n",
       "      <td>0.775334</td>\n",
       "      <td>1.000000</td>\n",
       "      <td>0.058986</td>\n",
       "      <td>0.688230</td>\n",
       "      <td>0.522034</td>\n",
       "      <td>-0.136211</td>\n",
       "      <td>-0.022121</td>\n",
       "    </tr>\n",
       "    <tr>\n",
       "      <th>cons.conf.idx</th>\n",
       "      <td>0.129372</td>\n",
       "      <td>-0.008173</td>\n",
       "      <td>-0.013733</td>\n",
       "      <td>-0.091342</td>\n",
       "      <td>-0.050936</td>\n",
       "      <td>0.196041</td>\n",
       "      <td>0.058986</td>\n",
       "      <td>1.000000</td>\n",
       "      <td>0.277686</td>\n",
       "      <td>0.100513</td>\n",
       "      <td>0.054878</td>\n",
       "      <td>0.008449</td>\n",
       "    </tr>\n",
       "    <tr>\n",
       "      <th>euribor3m</th>\n",
       "      <td>0.010767</td>\n",
       "      <td>-0.032897</td>\n",
       "      <td>0.135133</td>\n",
       "      <td>0.296899</td>\n",
       "      <td>-0.454494</td>\n",
       "      <td>0.972245</td>\n",
       "      <td>0.688230</td>\n",
       "      <td>0.277686</td>\n",
       "      <td>1.000000</td>\n",
       "      <td>0.945154</td>\n",
       "      <td>-0.307771</td>\n",
       "      <td>-0.050266</td>\n",
       "    </tr>\n",
       "    <tr>\n",
       "      <th>nr.employed</th>\n",
       "      <td>-0.017725</td>\n",
       "      <td>-0.044703</td>\n",
       "      <td>0.144095</td>\n",
       "      <td>0.372605</td>\n",
       "      <td>-0.501333</td>\n",
       "      <td>0.906970</td>\n",
       "      <td>0.522034</td>\n",
       "      <td>0.100513</td>\n",
       "      <td>0.945154</td>\n",
       "      <td>1.000000</td>\n",
       "      <td>-0.354678</td>\n",
       "      <td>-0.058005</td>\n",
       "    </tr>\n",
       "    <tr>\n",
       "      <th>term_deposit</th>\n",
       "      <td>0.030399</td>\n",
       "      <td>0.405274</td>\n",
       "      <td>-0.066357</td>\n",
       "      <td>-0.324914</td>\n",
       "      <td>0.230181</td>\n",
       "      <td>-0.298334</td>\n",
       "      <td>-0.136211</td>\n",
       "      <td>0.054878</td>\n",
       "      <td>-0.307771</td>\n",
       "      <td>-0.354678</td>\n",
       "      <td>1.000000</td>\n",
       "      <td>0.144124</td>\n",
       "    </tr>\n",
       "    <tr>\n",
       "      <th>Ethnicity_African</th>\n",
       "      <td>-0.008241</td>\n",
       "      <td>0.050153</td>\n",
       "      <td>-0.000686</td>\n",
       "      <td>-0.040900</td>\n",
       "      <td>0.032229</td>\n",
       "      <td>-0.048399</td>\n",
       "      <td>-0.022121</td>\n",
       "      <td>0.008449</td>\n",
       "      <td>-0.050266</td>\n",
       "      <td>-0.058005</td>\n",
       "      <td>0.144124</td>\n",
       "      <td>1.000000</td>\n",
       "    </tr>\n",
       "  </tbody>\n",
       "</table>\n",
       "</div>"
      ],
      "text/plain": [
       "                        age  duration  campaign     pdays  previous  \\\n",
       "age                1.000000 -0.000866  0.004594 -0.034369  0.024365   \n",
       "duration          -0.000866  1.000000 -0.071699 -0.047577  0.020640   \n",
       "campaign           0.004594 -0.071699  1.000000  0.052584 -0.079141   \n",
       "pdays             -0.034369 -0.047577  0.052584  1.000000 -0.587514   \n",
       "previous           0.024365  0.020640 -0.079141 -0.587514  1.000000   \n",
       "emp.var.rate      -0.000371 -0.027968  0.150754  0.271004 -0.420489   \n",
       "cons.price.idx     0.000857  0.005312  0.127836  0.078889 -0.203130   \n",
       "cons.conf.idx      0.129372 -0.008173 -0.013733 -0.091342 -0.050936   \n",
       "euribor3m          0.010767 -0.032897  0.135133  0.296899 -0.454494   \n",
       "nr.employed       -0.017725 -0.044703  0.144095  0.372605 -0.501333   \n",
       "term_deposit       0.030399  0.405274 -0.066357 -0.324914  0.230181   \n",
       "Ethnicity_African -0.008241  0.050153 -0.000686 -0.040900  0.032229   \n",
       "\n",
       "                   emp.var.rate  cons.price.idx  cons.conf.idx  euribor3m  \\\n",
       "age                   -0.000371        0.000857       0.129372   0.010767   \n",
       "duration              -0.027968        0.005312      -0.008173  -0.032897   \n",
       "campaign               0.150754        0.127836      -0.013733   0.135133   \n",
       "pdays                  0.271004        0.078889      -0.091342   0.296899   \n",
       "previous              -0.420489       -0.203130      -0.050936  -0.454494   \n",
       "emp.var.rate           1.000000        0.775334       0.196041   0.972245   \n",
       "cons.price.idx         0.775334        1.000000       0.058986   0.688230   \n",
       "cons.conf.idx          0.196041        0.058986       1.000000   0.277686   \n",
       "euribor3m              0.972245        0.688230       0.277686   1.000000   \n",
       "nr.employed            0.906970        0.522034       0.100513   0.945154   \n",
       "term_deposit          -0.298334       -0.136211       0.054878  -0.307771   \n",
       "Ethnicity_African     -0.048399       -0.022121       0.008449  -0.050266   \n",
       "\n",
       "                   nr.employed  term_deposit  Ethnicity_African  \n",
       "age                  -0.017725      0.030399          -0.008241  \n",
       "duration             -0.044703      0.405274           0.050153  \n",
       "campaign              0.144095     -0.066357          -0.000686  \n",
       "pdays                 0.372605     -0.324914          -0.040900  \n",
       "previous             -0.501333      0.230181           0.032229  \n",
       "emp.var.rate          0.906970     -0.298334          -0.048399  \n",
       "cons.price.idx        0.522034     -0.136211          -0.022121  \n",
       "cons.conf.idx         0.100513      0.054878           0.008449  \n",
       "euribor3m             0.945154     -0.307771          -0.050266  \n",
       "nr.employed           1.000000     -0.354678          -0.058005  \n",
       "term_deposit         -0.354678      1.000000           0.144124  \n",
       "Ethnicity_African    -0.058005      0.144124           1.000000  "
      ]
     },
     "execution_count": 58,
     "metadata": {},
     "output_type": "execute_result"
    }
   ],
   "source": [
    "bank_data.corr(numeric_only=True)"
   ]
  },
  {
   "cell_type": "code",
   "execution_count": 59,
   "id": "2ec60333-484a-459b-a93b-b5dac98c5b32",
   "metadata": {
    "tags": []
   },
   "outputs": [
    {
     "data": {
      "image/png": "[encoded data removed]",
      "text/plain": [
       "<Figure size 600x300 with 1 Axes>"
      ]
     },
     "metadata": {},
     "output_type": "display_data"
    }
   ],
   "source": [
    "bank_data.groupby(['poutcome'])['duration'].mean().plot(kind='bar',figsize=(6,3),fontsize=6)\n",
    "plt.xlabel('Outcome of previous marketing campaign',fontsize=6)\n",
    "plt.ylabel('Duration (in seconds)',fontsize=6)\n",
    "plt.title('Mean duartion of conversation with customer by Outcome of previous marketing campaign',fontsize=8)\n",
    "plt.xticks(rotation=0)\n",
    "plt.show()"
   ]
  },
  {
   "cell_type": "markdown",
   "id": "7a79de2b-49b3-499d-8c65-68583d42c822",
   "metadata": {},
   "source": [
    "Customers with successful outcome in previous campaign have a higher duration of last contact "
   ]
  },
  {
   "cell_type": "code",
   "execution_count": 60,
   "id": "8830a14b-456b-4bea-b49f-a2ccd8a5f164",
   "metadata": {
    "tags": []
   },
   "outputs": [
    {
     "data": {
      "image/png": "[encoded data removed]",
      "text/plain": [
       "<Figure size 600x300 with 1 Axes>"
      ]
     },
     "metadata": {},
     "output_type": "display_data"
    }
   ],
   "source": [
    "bank_data.groupby(['contact'])['duration'].mean().plot(kind='bar',figsize=(6,3),fontsize=6)\n",
    "plt.xlabel('Contact Communication Type',fontsize=6)\n",
    "plt.ylabel('Mean Duration (in seconds)',fontsize=6)\n",
    "plt.title('Mean duartion of conversation with customer by Contact Commuincation Type',fontsize=8)\n",
    "plt.xticks(rotation=0)\n",
    "plt.show()"
   ]
  },
  {
   "cell_type": "markdown",
   "id": "3bef634e-7acd-4512-ae4e-f3eb8ff9391e",
   "metadata": {},
   "source": [
    "Cellular channel has slighly higher mean duartion of last conversation over telephone channel."
   ]
  },
  {
   "cell_type": "code",
   "execution_count": 61,
   "id": "d9f7f9b0-a40a-48e4-86b4-19ea2798c1a0",
   "metadata": {
    "tags": []
   },
   "outputs": [
    {
     "data": {
      "image/png": "[encoded data removed]",
      "text/plain": [
       "<Figure size 600x300 with 1 Axes>"
      ]
     },
     "metadata": {},
     "output_type": "display_data"
    }
   ],
   "source": [
    "bank_data.groupby(['month'])['nr.employed'].mean().plot(kind='bar',figsize=(6,3),fontsize=6)\n",
    "plt.xlabel('Months',fontsize=6)\n",
    "plt.ylabel('Average number of employees employed',fontsize=6)\n",
    "plt.title('Average number of employees by month',fontsize=8)\n",
    "plt.xticks(rotation=0)\n",
    "plt.show()"
   ]
  },
  {
   "cell_type": "code",
   "execution_count": 62,
   "id": "2c5142f4-545c-4eec-9130-4d7cdca2d289",
   "metadata": {
    "tags": []
   },
   "outputs": [
    {
     "data": {
      "image/png": "[encoded data removed]",
      "text/plain": [
       "<Figure size 600x300 with 1 Axes>"
      ]
     },
     "metadata": {},
     "output_type": "display_data"
    }
   ],
   "source": [
    "bank_data.groupby(['pdays'])['nr.employed'].mean().plot(kind='bar',figsize=(6,3),fontsize=6)\n",
    "plt.xlabel('Number of Days since last contact',fontsize=6)\n",
    "plt.ylabel('Average number of employees employed',fontsize=6)\n",
    "plt.title('Average employment by days since last contact with customer',fontsize=8)\n",
    "plt.xticks(rotation=0)\n",
    "plt.show()"
   ]
  },
  {
   "cell_type": "code",
   "execution_count": 63,
   "id": "f88f511f-82b8-4c26-8854-0672fde85507",
   "metadata": {
    "tags": []
   },
   "outputs": [
    {
     "data": {
      "image/png": "[encoded data removed]",
      "text/plain": [
       "<Figure size 600x300 with 1 Axes>"
      ]
     },
     "metadata": {},
     "output_type": "display_data"
    }
   ],
   "source": [
    "bank_data.groupby(['pdays'])['duration'].mean().plot(kind='hist',figsize=(6,3),fontsize=6)\n",
    "plt.xlabel('Number of Days since last contact',fontsize=6)\n",
    "plt.ylabel('Average duration of last contact',fontsize=6)\n",
    "plt.title('Average duration of last contact with customer since last contact with customer',fontsize=8)\n",
    "plt.xticks(rotation=0)\n",
    "plt.show()"
   ]
  },
  {
   "cell_type": "code",
   "execution_count": 64,
   "id": "a2dd744e-973e-4642-b9bc-4bd06acba306",
   "metadata": {
    "tags": []
   },
   "outputs": [
    {
     "data": {
      "image/png": "[encoded data removed]",
      "text/plain": [
       "<Figure size 600x300 with 1 Axes>"
      ]
     },
     "metadata": {},
     "output_type": "display_data"
    }
   ],
   "source": [
    "bank_data.groupby(['campaign'])['duration'].mean().plot(kind='hist',bins=10,figsize=(6,3),fontsize=6)\n",
    "plt.xlabel('Number of contacts in this campaign',fontsize=6)\n",
    "plt.ylabel('Average duration of last contact',fontsize=6)\n",
    "plt.title('Average duration of contact with the customer by number of contacts',fontsize=8)\n",
    "plt.xticks(rotation=0)\n",
    "plt.show()"
   ]
  },
  {
   "cell_type": "markdown",
   "id": "e4bc1405-e81b-4740-8a21-894b2747403e",
   "metadata": {},
   "source": [
    "Duartion of conversation with customer is higher with lower number of contacts."
   ]
  },
  {
   "cell_type": "code",
   "execution_count": 65,
   "id": "943fa9be-4654-40c2-a366-124c21c22781",
   "metadata": {
    "tags": []
   },
   "outputs": [
    {
     "data": {
      "image/png": "[encoded data removed]",
      "text/plain": [
       "<Figure size 600x400 with 1 Axes>"
      ]
     },
     "metadata": {},
     "output_type": "display_data"
    }
   ],
   "source": [
    "plt.figure(figsize=(6,4))\n",
    "scatter = plt.scatter(bank_data.duration, bank_data.campaign, c=bank_data.term_deposit, cmap='RdYlGn')\n",
    "plt.ylabel('Number of contacts in this campaign',fontsize=8)\n",
    "plt.xlabel('Duration of last contact',fontsize=8)\n",
    "plt.title('Relationship between duration of contact and the number of contacts with customer',fontsize=8)\n",
    "plt.legend(handles=scatter.legend_elements()[0], labels=['Not Subscribed','Subscribed'],loc='upper right',fontsize=8)\n",
    "plt.xticks(fontsize=6)\n",
    "plt.yticks(fontsize=6)\n",
    "plt.show()"
   ]
  },
  {
   "cell_type": "code",
   "execution_count": null,
   "id": "b87e37a5-a0fd-4349-8ffe-7c5b7ee98f9e",
   "metadata": {},
   "outputs": [],
   "source": []
  },
  {
   "cell_type": "code",
   "execution_count": null,
   "id": "78d81684-c00e-42e7-9a19-377943b0f371",
   "metadata": {},
   "outputs": [],
   "source": []
  }
 ],
 "metadata": {
  "kernelspec": {
   "display_name": "Python 3",
   "language": "python",
   "name": "python3"
  },
  "language_info": {
   "codemirror_mode": {
    "name": "ipython",
    "version": 3
   },
   "file_extension": ".py",
   "mimetype": "text/x-python",
   "name": "python",
   "nbconvert_exporter": "python",
   "pygments_lexer": "ipython3",
   "version": "3.9.1"
  }
 },
 "nbformat": 4,
 "nbformat_minor": 5
}
